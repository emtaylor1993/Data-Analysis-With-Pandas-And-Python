{
 "cells": [
  {
   "cell_type": "markdown",
   "id": "ace43163",
   "metadata": {},
   "source": [
    "# 1. Comments in Python"
   ]
  },
  {
   "cell_type": "code",
   "execution_count": null,
   "id": "7e5b3bf1",
   "metadata": {},
   "outputs": [],
   "source": [
    "# This is an example of a Python comment.\n",
    "# Comments are ignored by the Python interpreter and do not have output\n",
    "\n",
    "# Solve really complex mathematical expression using Python\n",
    "2 + 2"
   ]
  },
  {
   "cell_type": "markdown",
   "id": "7dc4f680",
   "metadata": {},
   "source": [
    "# 2. Basic Data Types"
   ]
  },
  {
   "cell_type": "code",
   "execution_count": null,
   "id": "504150ef",
   "metadata": {},
   "outputs": [],
   "source": [
    "# Integers: Whole numbers with no fractional output. Examples include:\n",
    "5\n",
    "10\n",
    "-23\n",
    "0"
   ]
  },
  {
   "cell_type": "code",
   "execution_count": null,
   "id": "dcf0d182",
   "metadata": {},
   "outputs": [],
   "source": [
    "# Floating Point Numbers: Numbers that contain a fractional output. Examples include:\n",
    "3.14\n",
    "9.99\n",
    "-113.24129"
   ]
  },
  {
   "cell_type": "code",
   "execution_count": null,
   "id": "d7e5a89e",
   "metadata": {},
   "outputs": [],
   "source": [
    "# Strings: A collection of characters that are represented within quotation marks. Examples include:\n",
    "\"Emmanuel\"\n",
    "\"Sacramento\""
   ]
  },
  {
   "cell_type": "code",
   "execution_count": null,
   "id": "c0d10769",
   "metadata": {},
   "outputs": [],
   "source": [
    "# String can contain more than alphanumeric characters. Anything wrapped in double quotes is considered a string.\n",
    "\"$139.99 dollars!\""
   ]
  },
  {
   "cell_type": "code",
   "execution_count": null,
   "id": "83639c91",
   "metadata": {},
   "outputs": [],
   "source": [
    "# Strings can also have no characters. This is known as an empty string.\n",
    "\"\""
   ]
  },
  {
   "cell_type": "code",
   "execution_count": null,
   "id": "0a3ee809",
   "metadata": {},
   "outputs": [],
   "source": [
    "# Booleans: A data type that can only be either true or false.\n",
    "True"
   ]
  },
  {
   "cell_type": "code",
   "execution_count": null,
   "id": "a3be8c25",
   "metadata": {},
   "outputs": [],
   "source": [
    "# Booleans can be derived from expressions of truth. For example\n",
    "5 < 7"
   ]
  },
  {
   "cell_type": "code",
   "execution_count": null,
   "id": "b3545f2c",
   "metadata": {},
   "outputs": [],
   "source": [
    "10 > 12"
   ]
  },
  {
   "cell_type": "code",
   "execution_count": null,
   "id": "99b6f4fc",
   "metadata": {},
   "outputs": [],
   "source": [
    "# None: Special data type used to represent nothingness or absence of a value\n",
    "None"
   ]
  },
  {
   "cell_type": "markdown",
   "id": "d9552662",
   "metadata": {},
   "source": [
    "# 3. Operators"
   ]
  },
  {
   "cell_type": "code",
   "execution_count": null,
   "id": "a5e0ceff",
   "metadata": {},
   "outputs": [],
   "source": [
    "5 + 3"
   ]
  },
  {
   "cell_type": "code",
   "execution_count": null,
   "id": "dada1344",
   "metadata": {},
   "outputs": [],
   "source": [
    "3.14 + 7.96"
   ]
  },
  {
   "cell_type": "code",
   "execution_count": null,
   "id": "cb4326ff",
   "metadata": {},
   "outputs": [],
   "source": [
    "# The plus sign can also concatenate strings:\n",
    "\"race\" + \"car\""
   ]
  },
  {
   "cell_type": "code",
   "execution_count": null,
   "id": "c3cc78b0",
   "metadata": {},
   "outputs": [],
   "source": [
    "10 - 5"
   ]
  },
  {
   "cell_type": "code",
   "execution_count": null,
   "id": "a2632c8f",
   "metadata": {},
   "outputs": [],
   "source": [
    "5 * 3"
   ]
  },
  {
   "cell_type": "code",
   "execution_count": null,
   "id": "f2fcc0c8",
   "metadata": {},
   "outputs": [],
   "source": [
    "# You can print a string multiple times by using the multiplication operator:\n",
    "\"mahi\" * 10"
   ]
  },
  {
   "cell_type": "code",
   "execution_count": null,
   "id": "e509a326",
   "metadata": {},
   "outputs": [],
   "source": [
    "# Don't forget your order of operations!\n",
    "3 + 4 * 5\n",
    "(3 + 5) * 5"
   ]
  },
  {
   "cell_type": "code",
   "execution_count": null,
   "id": "c9472aad",
   "metadata": {},
   "outputs": [],
   "source": [
    "# Division is done with the / operator\n",
    "15 / 4"
   ]
  },
  {
   "cell_type": "code",
   "execution_count": null,
   "id": "966b0cda",
   "metadata": {},
   "outputs": [],
   "source": [
    "# We can do 'floor division' which truncates the floating part number with //:\n",
    "10 // 3"
   ]
  },
  {
   "cell_type": "code",
   "execution_count": null,
   "id": "f0354769",
   "metadata": {},
   "outputs": [],
   "source": [
    "# We can use the modulo operator to grab the remainder of a division operation:\n",
    "14 % 3"
   ]
  },
  {
   "cell_type": "code",
   "execution_count": null,
   "id": "299e02bd",
   "metadata": {},
   "outputs": [],
   "source": [
    "# The equality operator can be used to determine whether things are equal and spits out a boolean\n",
    "1 == 1"
   ]
  },
  {
   "cell_type": "code",
   "execution_count": null,
   "id": "b2a548a9",
   "metadata": {},
   "outputs": [],
   "source": [
    "# The equality operator can also be used with strings.\n",
    "\"Hello\" == \"Hello\""
   ]
  },
  {
   "cell_type": "code",
   "execution_count": null,
   "id": "7f642985",
   "metadata": {},
   "outputs": [],
   "source": [
    "# You can also use it to compare Boolean values\n",
    "True == True"
   ]
  },
  {
   "cell_type": "code",
   "execution_count": null,
   "id": "e5166e11",
   "metadata": {},
   "outputs": [],
   "source": [
    "# Similar to the equality operator, we also have an inequality operator\n",
    "5 != 10"
   ]
  },
  {
   "cell_type": "code",
   "execution_count": null,
   "id": "74176bd2",
   "metadata": {},
   "outputs": [],
   "source": [
    "# We have less than or equal to and greater than or equal to comparisons also\n",
    "5 < 3"
   ]
  },
  {
   "cell_type": "code",
   "execution_count": null,
   "id": "c33b0b57",
   "metadata": {},
   "outputs": [],
   "source": [
    "5 > 3"
   ]
  },
  {
   "cell_type": "code",
   "execution_count": null,
   "id": "7014cf00",
   "metadata": {},
   "outputs": [],
   "source": [
    "5 <= 3"
   ]
  },
  {
   "cell_type": "code",
   "execution_count": null,
   "id": "160ecd97",
   "metadata": {},
   "outputs": [],
   "source": [
    "5 >= 3"
   ]
  },
  {
   "cell_type": "markdown",
   "id": "b5dff83b",
   "metadata": {},
   "source": [
    "# 4. Variables"
   ]
  },
  {
   "cell_type": "code",
   "execution_count": null,
   "id": "acc05f16",
   "metadata": {},
   "outputs": [],
   "source": [
    "# Variables are used to give context to values\n",
    "age = 29"
   ]
  },
  {
   "cell_type": "code",
   "execution_count": null,
   "id": "50b7e6cb",
   "metadata": {},
   "outputs": [],
   "source": [
    "age"
   ]
  },
  {
   "cell_type": "code",
   "execution_count": null,
   "id": "61c5634d",
   "metadata": {},
   "outputs": [],
   "source": [
    "# 29 + 5\n",
    "age + 5"
   ]
  },
  {
   "cell_type": "code",
   "execution_count": null,
   "id": "313cae2f",
   "metadata": {},
   "outputs": [],
   "source": [
    "# snake_case declarations\n",
    "price = 19.99\n",
    "first_name = \"Emmanuel\"\n",
    "profession = \"Software Engineer\"\n",
    "is_handsome = True"
   ]
  },
  {
   "cell_type": "code",
   "execution_count": null,
   "id": "fdbc38ab",
   "metadata": {},
   "outputs": [],
   "source": [
    "first_name"
   ]
  },
  {
   "cell_type": "code",
   "execution_count": null,
   "id": "a9ac9d1d",
   "metadata": {},
   "outputs": [],
   "source": [
    "is_handsome"
   ]
  },
  {
   "cell_type": "code",
   "execution_count": null,
   "id": "18cb0ddc",
   "metadata": {},
   "outputs": [],
   "source": [
    "first_name + \" is awesome\""
   ]
  },
  {
   "cell_type": "code",
   "execution_count": null,
   "id": "c214666d",
   "metadata": {},
   "outputs": [],
   "source": [
    "# The right side of the equal sign gets evaluated first\n",
    "age = age + 5"
   ]
  },
  {
   "cell_type": "code",
   "execution_count": null,
   "id": "3adc99a3",
   "metadata": {},
   "outputs": [],
   "source": [
    "profession = \"Python Developer\""
   ]
  },
  {
   "cell_type": "code",
   "execution_count": null,
   "id": "50070498",
   "metadata": {},
   "outputs": [],
   "source": [
    "profession"
   ]
  },
  {
   "cell_type": "code",
   "execution_count": null,
   "id": "bc1ff988",
   "metadata": {},
   "outputs": [],
   "source": [
    "age"
   ]
  },
  {
   "cell_type": "markdown",
   "id": "5321488e",
   "metadata": {},
   "source": [
    "# 5. Built-In Functions"
   ]
  },
  {
   "cell_type": "code",
   "execution_count": null,
   "id": "17011165",
   "metadata": {},
   "outputs": [],
   "source": [
    "# Built-in functions are provided by Python and can perform\n",
    "# various operations on variables and values!\n",
    "\n",
    "# len() will provide the length of the argument provided to it\n",
    "\n",
    "len(\"How many characters do we have here?\")"
   ]
  },
  {
   "cell_type": "code",
   "execution_count": null,
   "id": "91df00cd",
   "metadata": {},
   "outputs": [],
   "source": [
    "# str() can be used to convert arguments to a string format.\n",
    "\n",
    "str(3.14)"
   ]
  },
  {
   "cell_type": "code",
   "execution_count": null,
   "id": "54472cb6",
   "metadata": {},
   "outputs": [],
   "source": [
    "# int() can be used to convert arguments to an integer\n",
    "int(\"10\")"
   ]
  },
  {
   "cell_type": "code",
   "execution_count": null,
   "id": "352e9d96",
   "metadata": {},
   "outputs": [],
   "source": [
    "# float() can be used to convert arguments to floating point types\n",
    "float(\"9.384\")"
   ]
  },
  {
   "cell_type": "code",
   "execution_count": null,
   "id": "a23f20c8",
   "metadata": {},
   "outputs": [],
   "source": [
    "# type() accepts any object and tells you the type that it is\n",
    "type(5)"
   ]
  },
  {
   "cell_type": "code",
   "execution_count": null,
   "id": "7390515c",
   "metadata": {},
   "outputs": [],
   "source": [
    "type(3.14)"
   ]
  },
  {
   "cell_type": "code",
   "execution_count": null,
   "id": "ae6609d3",
   "metadata": {},
   "outputs": [],
   "source": [
    "type(\"PlayStation\")"
   ]
  },
  {
   "cell_type": "code",
   "execution_count": null,
   "id": "8efc58e1",
   "metadata": {},
   "outputs": [],
   "source": [
    "type(True)"
   ]
  },
  {
   "cell_type": "code",
   "execution_count": null,
   "id": "336916da",
   "metadata": {},
   "outputs": [],
   "source": [
    "type(False)"
   ]
  },
  {
   "cell_type": "code",
   "execution_count": null,
   "id": "c6fa88f0",
   "metadata": {},
   "outputs": [],
   "source": [
    "# type() can be used in equality comparisons\n",
    "type(10) == type(15)"
   ]
  },
  {
   "cell_type": "code",
   "execution_count": null,
   "id": "33ec1c0d",
   "metadata": {},
   "outputs": [],
   "source": [
    "type(10) == type(\"10\")"
   ]
  },
  {
   "cell_type": "markdown",
   "id": "f12da583",
   "metadata": {},
   "source": [
    "# 6. Custom Functions"
   ]
  },
  {
   "cell_type": "code",
   "execution_count": null,
   "id": "63441b94",
   "metadata": {},
   "outputs": [],
   "source": [
    "# Declare a function that accepts a temperature and returns it in Fahrenheit\n",
    "\n",
    "def convert_to_fahrenheit(celsius_temp):\n",
    "    product = celsius_temp * 1.8\n",
    "    return product + 32"
   ]
  },
  {
   "cell_type": "code",
   "execution_count": null,
   "id": "f7ee685d",
   "metadata": {},
   "outputs": [],
   "source": [
    "len(\"Hello\")"
   ]
  },
  {
   "cell_type": "code",
   "execution_count": null,
   "id": "95d3cb8a",
   "metadata": {},
   "outputs": [],
   "source": [
    "convert_to_fahrenheit(0)"
   ]
  },
  {
   "cell_type": "code",
   "execution_count": null,
   "id": "477f7c4f",
   "metadata": {},
   "outputs": [],
   "source": [
    "convert_to_fahrenheit(14)"
   ]
  },
  {
   "cell_type": "code",
   "execution_count": null,
   "id": "00a4ecc7",
   "metadata": {},
   "outputs": [],
   "source": [
    "# Different ways to call functions\n",
    "convert_to_fahrenheit(celsius_temp = 24)"
   ]
  },
  {
   "cell_type": "code",
   "execution_count": null,
   "id": "518a602a",
   "metadata": {},
   "outputs": [],
   "source": [
    "convert_to_fahrenheit(100)"
   ]
  },
  {
   "cell_type": "code",
   "execution_count": null,
   "id": "53ac4c26",
   "metadata": {},
   "outputs": [],
   "source": [
    "def convert_to_fahrenheit(celsius_temp = 0):\n",
    "    product = celsius_temp * 1.8\n",
    "    return product + 32"
   ]
  },
  {
   "cell_type": "code",
   "execution_count": null,
   "id": "28234233",
   "metadata": {},
   "outputs": [],
   "source": [
    "convert_to_fahrenheit(200)"
   ]
  },
  {
   "cell_type": "code",
   "execution_count": null,
   "id": "53567100",
   "metadata": {},
   "outputs": [],
   "source": [
    "convert_to_fahrenheit()"
   ]
  },
  {
   "cell_type": "markdown",
   "id": "6a7e77ba",
   "metadata": {},
   "source": [
    "# 7. String Methods"
   ]
  },
  {
   "cell_type": "code",
   "execution_count": null,
   "id": "2c71c6c4",
   "metadata": {},
   "outputs": [],
   "source": [
    "# Methods are built into Python and are part of the string object!\n",
    "profession = \"Developer\""
   ]
  },
  {
   "cell_type": "code",
   "execution_count": null,
   "id": "2558c930",
   "metadata": {},
   "outputs": [],
   "source": [
    "# Method that converts string to all uppercase.\n",
    "profession.upper()"
   ]
  },
  {
   "cell_type": "code",
   "execution_count": null,
   "id": "e5b6095c",
   "metadata": {},
   "outputs": [],
   "source": [
    "\"Developer\".upper()"
   ]
  },
  {
   "cell_type": "code",
   "execution_count": null,
   "id": "8ec1e181",
   "metadata": {},
   "outputs": [],
   "source": [
    "# Method that converts string to all lowercase.\n",
    "profession.lower()"
   ]
  },
  {
   "cell_type": "code",
   "execution_count": null,
   "id": "ae11dc80",
   "metadata": {},
   "outputs": [],
   "source": [
    "# Method that switches the case of all letters in the string.\n",
    "profession.swapcase()"
   ]
  },
  {
   "cell_type": "code",
   "execution_count": null,
   "id": "e07abc48",
   "metadata": {},
   "outputs": [],
   "source": [
    "# Immutable - incapable of change, Mutable - capable of change\n",
    "# Strings are immutable. They do not change when methods are used on them\n",
    "profession"
   ]
  },
  {
   "cell_type": "code",
   "execution_count": null,
   "id": "a9fbb0aa",
   "metadata": {},
   "outputs": [],
   "source": [
    "# The title() method capitalizes the first letter of each word in a string.\n",
    "\"once upon a time\".title()"
   ]
  },
  {
   "cell_type": "code",
   "execution_count": null,
   "id": "e5537501",
   "metadata": {},
   "outputs": [],
   "source": [
    "# The capitalize method capitalizes the first character of the string.\n",
    "\"once upon a time\".capitalize()"
   ]
  },
  {
   "cell_type": "code",
   "execution_count": null,
   "id": "c2034858",
   "metadata": {},
   "outputs": [],
   "source": [
    "# The lstrip() method strips whitespace from the left side of the string\n",
    "profession = \"      Developer      \"\n",
    "profession.lstrip()"
   ]
  },
  {
   "cell_type": "code",
   "execution_count": null,
   "id": "6f1a3763",
   "metadata": {},
   "outputs": [],
   "source": [
    "# The rstrip() method strips whitespace from the right side of the string.\n",
    "profession.rstrip()"
   ]
  },
  {
   "cell_type": "code",
   "execution_count": null,
   "id": "a2e29773",
   "metadata": {},
   "outputs": [],
   "source": [
    "# The strip() method stripes whitespace from both sides of the string\n",
    "profession.strip()"
   ]
  },
  {
   "cell_type": "code",
   "execution_count": null,
   "id": "d01c1f73",
   "metadata": {},
   "outputs": [],
   "source": [
    "# The replace() method finds an occurence and replaces it with something else\n",
    "profession.replace(\"e\", \"*\")"
   ]
  },
  {
   "cell_type": "code",
   "execution_count": null,
   "id": "5709cdb6",
   "metadata": {},
   "outputs": [],
   "source": [
    "# Methods can also be combined.\n",
    "profession.strip().replace(\"e\", \"*\")"
   ]
  },
  {
   "cell_type": "code",
   "execution_count": null,
   "id": "52ec0dc6",
   "metadata": {},
   "outputs": [],
   "source": [
    "# The startswith() method returns a Boolean if the string starts with the argument\n",
    "# This is case sensitive.\n",
    "animal = \"rhinoceros\"\n",
    "animal.startswith(\"rhino\")"
   ]
  },
  {
   "cell_type": "code",
   "execution_count": null,
   "id": "f8cdebf7",
   "metadata": {},
   "outputs": [],
   "source": [
    "animal.startswith(\"sdad\")"
   ]
  },
  {
   "cell_type": "code",
   "execution_count": null,
   "id": "784b977a",
   "metadata": {},
   "outputs": [],
   "source": [
    "animal.startswith(\"r\")"
   ]
  },
  {
   "cell_type": "code",
   "execution_count": null,
   "id": "1337e9d1",
   "metadata": {},
   "outputs": [],
   "source": [
    "animal.startswith(\"R\")"
   ]
  },
  {
   "cell_type": "code",
   "execution_count": null,
   "id": "868dc296",
   "metadata": {},
   "outputs": [],
   "source": [
    "# The endswith() methods returns a boolean if the string ends with the argument.\n",
    "animal.endswith(\"ros\")"
   ]
  },
  {
   "cell_type": "code",
   "execution_count": null,
   "id": "bbc4ab31",
   "metadata": {},
   "outputs": [],
   "source": [
    "animal.endswith(\"zzz\")"
   ]
  },
  {
   "cell_type": "code",
   "execution_count": null,
   "id": "74ab1155",
   "metadata": {},
   "outputs": [],
   "source": [
    "# The in object checks whether the object on the left belongs to the object on the right.\n",
    "\"ino\" in animal"
   ]
  },
  {
   "cell_type": "code",
   "execution_count": null,
   "id": "cf78dc9c",
   "metadata": {},
   "outputs": [],
   "source": [
    "\"z\" not in animal"
   ]
  },
  {
   "cell_type": "code",
   "execution_count": null,
   "id": "a0f0205e",
   "metadata": {},
   "outputs": [],
   "source": [
    "\"rhino\" not in animal"
   ]
  },
  {
   "cell_type": "markdown",
   "id": "df00b06c",
   "metadata": {},
   "source": [
    "# 8. Lists"
   ]
  },
  {
   "cell_type": "code",
   "execution_count": null,
   "id": "14e00beb",
   "metadata": {},
   "outputs": [],
   "source": [
    "# Lists are mutable data structures that hold an ordered collection of elements\n",
    "[1, 2, 3, 4]"
   ]
  },
  {
   "cell_type": "code",
   "execution_count": null,
   "id": "a53db8c3",
   "metadata": {},
   "outputs": [],
   "source": [
    "[True, False, False, True]"
   ]
  },
  {
   "cell_type": "code",
   "execution_count": null,
   "id": "0395cd91",
   "metadata": {},
   "outputs": [],
   "source": [
    "party_attendees = [\"Michael\", \"Freddy\", \"Jason\"]\n",
    "party_attendees"
   ]
  },
  {
   "cell_type": "code",
   "execution_count": null,
   "id": "fcff11a5",
   "metadata": {},
   "outputs": [],
   "source": [
    "# We can also have an empty list just like we can have an empty string.\n",
    "[]"
   ]
  },
  {
   "cell_type": "code",
   "execution_count": null,
   "id": "5f155120",
   "metadata": {},
   "outputs": [],
   "source": [
    "# Lists can also be passed into the length function.\n",
    "len(party_attendees)"
   ]
  },
  {
   "cell_type": "code",
   "execution_count": null,
   "id": "4e8f5d4b",
   "metadata": {},
   "outputs": [],
   "source": [
    "# Lists can be apssed into the type function\n",
    "type(party_attendees)"
   ]
  },
  {
   "cell_type": "code",
   "execution_count": null,
   "id": "faf59d52",
   "metadata": {},
   "outputs": [],
   "source": [
    "# The append() method adds an element to the end of a list\n",
    "presidents = [\"Washington\", \"Jefferson\"]\n",
    "presidents.append(\"Madison\")\n",
    "presidents"
   ]
  },
  {
   "cell_type": "code",
   "execution_count": null,
   "id": "bc1f55b9",
   "metadata": {},
   "outputs": [],
   "source": [
    "# the pop() method removes the element at the end of the array.\n",
    "popcorn = [\"Salted\", \"Unsalted\", \"Caramel\"]\n",
    "popcorn"
   ]
  },
  {
   "cell_type": "code",
   "execution_count": null,
   "id": "4bfed09a",
   "metadata": {},
   "outputs": [],
   "source": [
    "popcorn.pop()"
   ]
  },
  {
   "cell_type": "code",
   "execution_count": null,
   "id": "0872b3bc",
   "metadata": {},
   "outputs": [],
   "source": [
    "popcorn"
   ]
  },
  {
   "cell_type": "code",
   "execution_count": null,
   "id": "f3065f22",
   "metadata": {},
   "outputs": [],
   "source": [
    "# The remove() method removes the first occurrence of an element at a specific index.\n",
    "popcorn.remove(\"Salted\")\n",
    "popcorn"
   ]
  },
  {
   "cell_type": "code",
   "execution_count": null,
   "id": "9aebc252",
   "metadata": {},
   "outputs": [],
   "source": [
    "# Lists can also use the in and not in keywords.\n",
    "planets = [\"Mercury\", \"Venus\", \"Earth\", \"Mars\"]\n",
    "\"Earth\" in planets"
   ]
  },
  {
   "cell_type": "code",
   "execution_count": null,
   "id": "691d9df7",
   "metadata": {},
   "outputs": [],
   "source": [
    "\"Jupiter\" in planets"
   ]
  },
  {
   "cell_type": "markdown",
   "id": "bee28a66",
   "metadata": {},
   "source": [
    "# 9. Index Positions and Slicing"
   ]
  },
  {
   "cell_type": "code",
   "execution_count": null,
   "id": "2dd77882",
   "metadata": {},
   "outputs": [],
   "source": [
    "# Every character in a string has a certain index position.\n",
    "spiderman = \"Spiderman\"\n",
    "\n",
    "# 0 1 2 3 4 5 6 7 8\n",
    "# S p i d e r m a n"
   ]
  },
  {
   "cell_type": "code",
   "execution_count": null,
   "id": "e8d70405",
   "metadata": {},
   "outputs": [],
   "source": [
    "# Referencing the index can be done with brackets and the integer position.\n",
    "spiderman[0]"
   ]
  },
  {
   "cell_type": "code",
   "execution_count": null,
   "id": "17e8909a",
   "metadata": {},
   "outputs": [],
   "source": [
    "# Referencing the last character from the string can be done with -1 as the index position.\n",
    "# You can also move backwards this way.\n",
    "spiderman[-1]"
   ]
  },
  {
   "cell_type": "code",
   "execution_count": null,
   "id": "23b75867",
   "metadata": {},
   "outputs": [],
   "source": [
    "superheroes = [\"Batman\", \"Superman\", \"Wolverine\", \"Ironman\", \"Arnold Schwarzenegger\"]\n",
    "len(superheroes)"
   ]
  },
  {
   "cell_type": "code",
   "execution_count": null,
   "id": "0c3dfab4",
   "metadata": {},
   "outputs": [],
   "source": [
    "# Index positions can be used to pluck certain elements of a list.\n",
    "superheroes[0]"
   ]
  },
  {
   "cell_type": "code",
   "execution_count": null,
   "id": "a1431734",
   "metadata": {},
   "outputs": [],
   "source": [
    "superheroes[-1]"
   ]
  },
  {
   "cell_type": "code",
   "execution_count": null,
   "id": "3ed36890",
   "metadata": {},
   "outputs": [],
   "source": [
    "# To pull out more than one element, we use the following syntax. \n",
    "superheroes[1:3]"
   ]
  },
  {
   "cell_type": "code",
   "execution_count": null,
   "id": "35a645a9",
   "metadata": {},
   "outputs": [],
   "source": [
    "superheroes[2:4]"
   ]
  },
  {
   "cell_type": "code",
   "execution_count": null,
   "id": "667a5377",
   "metadata": {},
   "outputs": [],
   "source": [
    "# You can leave out the 0 if it is before the colon. The following is equivalent\n",
    "superheroes[0:2]\n",
    "superheroes[:2]"
   ]
  },
  {
   "cell_type": "code",
   "execution_count": null,
   "id": "d18f52d7",
   "metadata": {},
   "outputs": [],
   "source": [
    "# To pull out numbers from the first index to the end, you can leave off the last number like this:\n",
    "superheroes[2:]"
   ]
  },
  {
   "cell_type": "markdown",
   "id": "67767962",
   "metadata": {},
   "source": [
    "# 10. Dictionaries"
   ]
  },
  {
   "cell_type": "code",
   "execution_count": null,
   "id": "510b503d",
   "metadata": {},
   "outputs": [],
   "source": [
    "# Dictionaries are unordered collections of key-value pairs.\n",
    "# Keys cannot be duplicated but values can be duplicated.\n",
    "menu = {\n",
    "    \"Filet Mignon\": 29.99,\n",
    "    \"Big Mac\": 3.99,\n",
    "    \"Pizza\": 0.99,\n",
    "    \"Salmon\": 29.99\n",
    "}\n",
    "\n",
    "menu"
   ]
  },
  {
   "cell_type": "code",
   "execution_count": null,
   "id": "d81e253f",
   "metadata": {},
   "outputs": [],
   "source": [
    "# The length of a dictionary is equal to the number of key-value pairs.\n",
    "len(menu)"
   ]
  },
  {
   "cell_type": "code",
   "execution_count": null,
   "id": "37996b96",
   "metadata": {},
   "outputs": [],
   "source": [
    "# You can index into a dictionary based on the value of a key.\n",
    "menu[\"Big Mac\"]"
   ]
  },
  {
   "cell_type": "code",
   "execution_count": null,
   "id": "c8ee60e6",
   "metadata": {},
   "outputs": [],
   "source": [
    "# To add a key-value pair to a dictionary, use the following syntax:\n",
    "menu[\"Burrito\"] = 13.99\n",
    "menu"
   ]
  },
  {
   "cell_type": "code",
   "execution_count": null,
   "id": "c655adc8",
   "metadata": {},
   "outputs": [],
   "source": [
    "# You can update a key-value pair just like you would declare a new one.\n",
    "menu[\"Big Mac\"] = 5.99\n",
    "menu"
   ]
  },
  {
   "cell_type": "code",
   "execution_count": null,
   "id": "ac7ad8cc",
   "metadata": {},
   "outputs": [],
   "source": [
    "# To remove a key-value pair, you can use the pop method like you could with a list.\n",
    "menu.pop(\"Filet Mignon\")"
   ]
  },
  {
   "cell_type": "code",
   "execution_count": null,
   "id": "8a1ccc7b",
   "metadata": {},
   "outputs": [],
   "source": [
    "menu"
   ]
  },
  {
   "cell_type": "code",
   "execution_count": null,
   "id": "f1971a7f",
   "metadata": {},
   "outputs": [],
   "source": [
    "# You can check whether a key is in a menu using in or not in keywords.\n",
    "\"Pizza\" in menu"
   ]
  },
  {
   "cell_type": "code",
   "execution_count": null,
   "id": "4ed8f6f7",
   "metadata": {},
   "outputs": [],
   "source": [
    "\"Hot Pockets\" in menu"
   ]
  },
  {
   "cell_type": "code",
   "execution_count": null,
   "id": "88f8d5d4",
   "metadata": {},
   "outputs": [],
   "source": [
    "\"Bubblegum\" not in menu"
   ]
  },
  {
   "cell_type": "code",
   "execution_count": null,
   "id": "eba1a59e",
   "metadata": {},
   "outputs": [],
   "source": [
    "# To check amongst the values, you must use the values() method.\n",
    "menu.values()"
   ]
  },
  {
   "cell_type": "code",
   "execution_count": null,
   "id": "3de0eb76",
   "metadata": {},
   "outputs": [],
   "source": [
    "5.99 in menu.values()"
   ]
  }
 ],
 "metadata": {
  "kernelspec": {
   "display_name": "Python 3 (ipykernel)",
   "language": "python",
   "name": "python3"
  },
  "language_info": {
   "codemirror_mode": {
    "name": "ipython",
    "version": 3
   },
   "file_extension": ".py",
   "mimetype": "text/x-python",
   "name": "python",
   "nbconvert_exporter": "python",
   "pygments_lexer": "ipython3",
   "version": "3.10.4"
  }
 },
 "nbformat": 4,
 "nbformat_minor": 5
}
