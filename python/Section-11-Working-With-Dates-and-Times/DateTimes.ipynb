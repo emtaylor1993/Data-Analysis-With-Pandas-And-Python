{
 "cells": [
  {
   "cell_type": "markdown",
   "id": "d7fde646",
   "metadata": {},
   "source": [
    "# Importing Pandas and DateTime"
   ]
  },
  {
   "cell_type": "code",
   "execution_count": null,
   "id": "4e5bb5dd",
   "metadata": {},
   "outputs": [],
   "source": [
    "import pandas as pd\n",
    "import datetime as dt"
   ]
  },
  {
   "cell_type": "markdown",
   "id": "e82116b5",
   "metadata": {},
   "source": [
    "# Review of Python's <code>DateTime</code> Module"
   ]
  },
  {
   "cell_type": "code",
   "execution_count": null,
   "id": "693170cb",
   "metadata": {},
   "outputs": [],
   "source": [
    "# Datetimes are entered by year, month, and day. Each section can be accessed as well.\n",
    "someday = dt.date(2022, 4, 12)\n",
    "someday.year\n",
    "someday.month\n",
    "someday.day"
   ]
  },
  {
   "cell_type": "code",
   "execution_count": null,
   "id": "3de7b052",
   "metadata": {},
   "outputs": [],
   "source": [
    "# Datetimes can also go down to seconds. This represents 04/12/2022 8:13:57 AM\n",
    "sometime = dt.datetime(2022, 4, 12, 8, 13, 57)\n",
    "sometime.year\n",
    "sometime.month\n",
    "sometime.day\n",
    "sometime.hour\n",
    "sometime.minute\n",
    "sometime.second"
   ]
  },
  {
   "cell_type": "code",
   "execution_count": null,
   "id": "8d856b1b",
   "metadata": {},
   "outputs": [],
   "source": [
    "# To view in a more traditional format, use the string library.\n",
    "str(someday)\n",
    "str(sometime)"
   ]
  },
  {
   "cell_type": "markdown",
   "id": "78d8ae85",
   "metadata": {},
   "source": [
    "# The Pandas <code>Timestamp</code> Object"
   ]
  },
  {
   "cell_type": "code",
   "execution_count": null,
   "id": "a76fd9ef",
   "metadata": {},
   "outputs": [],
   "source": [
    "# The Timestamp methods can support all of the below syntaxes.\n",
    "pd.Timestamp(\"2022-05-11\")\n",
    "pd.Timestamp(\"2022/05/11\")\n",
    "pd.Timestamp(\"2022, 05, 11\")\n",
    "pd.Timestamp(\"5/11/2022\")\n",
    "pd.Timestamp(\"2022-05-11 10:52:00\")\n",
    "pd.Timestamp(\"2022-05-11 10:52:00 PM\")"
   ]
  },
  {
   "cell_type": "code",
   "execution_count": null,
   "id": "446aed05",
   "metadata": {},
   "outputs": [],
   "source": [
    "pd.Timestamp(dt.date(2022, 5, 11))"
   ]
  },
  {
   "cell_type": "code",
   "execution_count": null,
   "id": "a6ea2700",
   "metadata": {},
   "outputs": [],
   "source": [
    "pd.Timestamp(dt.datetime(2022, 5, 11, 10, 52, 22))"
   ]
  },
  {
   "cell_type": "markdown",
   "id": "cdc1c648",
   "metadata": {},
   "source": [
    "# The Pandas <code>DateTimeIndex</code> Object"
   ]
  },
  {
   "cell_type": "code",
   "execution_count": null,
   "id": "88b66bcf",
   "metadata": {},
   "outputs": [],
   "source": [
    "dates = [\"2016-01-02\", \"2016-04-12\", \"2009-09-07\"]\n",
    "pd.DatetimeIndex(dates)"
   ]
  },
  {
   "cell_type": "code",
   "execution_count": null,
   "id": "cb4deefd",
   "metadata": {},
   "outputs": [],
   "source": [
    "dates = [dt.date(2016, 1, 10), dt.date(1994, 6, 13), dt.date(2003, 12, 29)]\n",
    "dt_index = pd.DatetimeIndex(dates)\n",
    "dt_index"
   ]
  },
  {
   "cell_type": "code",
   "execution_count": null,
   "id": "172d0fcf",
   "metadata": {},
   "outputs": [],
   "source": [
    "values = [100, 200, 300]\n",
    "pd.Series(data = values, index = dt_index)"
   ]
  },
  {
   "cell_type": "markdown",
   "id": "bea5f6b1",
   "metadata": {},
   "source": [
    "# The <code>pd.to_datetime()</code> Method"
   ]
  },
  {
   "cell_type": "code",
   "execution_count": null,
   "id": "3b7c54ad",
   "metadata": {},
   "outputs": [],
   "source": [
    "# The pd.to_datetime() method accepts strings, date objects, lists and datetime objects.\n",
    "pd.to_datetime(\"2001-04-19\")\n",
    "pd.to_datetime(dt.date(2015, 1, 1))\n",
    "pd.to_datetime(dt.datetime(2015, 1, 1, 14, 35, 20))\n",
    "pd.to_datetime([\"2015-01-03\", \"2014/02/08\", \"2016\", \"July 4th, 1996\"])"
   ]
  },
  {
   "cell_type": "code",
   "execution_count": null,
   "id": "888dbc2d",
   "metadata": {},
   "outputs": [],
   "source": [
    "times = pd.Series([\"2015-01-03\", \"2014/02/08\", \"2016\", \"July 4th, 1996\"])\n",
    "times"
   ]
  },
  {
   "cell_type": "code",
   "execution_count": null,
   "id": "39aff837",
   "metadata": {},
   "outputs": [],
   "source": [
    "# The pd.to_datetime() objects can also accept Series.\n",
    "pd.to_datetime(times)"
   ]
  },
  {
   "cell_type": "code",
   "execution_count": null,
   "id": "4e467779",
   "metadata": {},
   "outputs": [],
   "source": [
    "dates = pd.Series([\"July 4th, 1996\", \"10/04/1991\", \"Hello\", \"2015-02-31\"])\n",
    "dates"
   ]
  },
  {
   "cell_type": "code",
   "execution_count": null,
   "id": "9aa39bbc",
   "metadata": {},
   "outputs": [],
   "source": [
    "# Will throw an error based on the formatting of the string list we entered above.\n",
    "pd.to_datetime(dates)"
   ]
  },
  {
   "cell_type": "code",
   "execution_count": null,
   "id": "17cf64b2",
   "metadata": {},
   "outputs": [],
   "source": [
    "# To get around this error, use the errors parameter and pass in \"coerce\" as the argument.\n",
    "pd.to_datetime(dates, errors = \"coerce\")"
   ]
  },
  {
   "cell_type": "code",
   "execution_count": null,
   "id": "8f56a292",
   "metadata": {},
   "outputs": [],
   "source": [
    "# The pd.to_datetime() method can also support Unix Time as well.\n",
    "pd.to_datetime([1349720105, 1349806505, 1349892905, 1349979305, 1350065705], unit = \"s\")"
   ]
  },
  {
   "cell_type": "markdown",
   "id": "741fd50c",
   "metadata": {},
   "source": [
    "# Create Range of Dates with the <code>pd.date_range()</code> Method, Part 1"
   ]
  },
  {
   "cell_type": "code",
   "execution_count": null,
   "id": "c859422c",
   "metadata": {},
   "outputs": [],
   "source": [
    "times = pd.date_range(start = \"2016-01-01\", end = \"2016-01-10\", freq = \"D\")\n",
    "type(times)"
   ]
  },
  {
   "cell_type": "code",
   "execution_count": null,
   "id": "c8daabe0",
   "metadata": {},
   "outputs": [],
   "source": [
    "type(times[0])"
   ]
  },
  {
   "cell_type": "code",
   "execution_count": null,
   "id": "9a712008",
   "metadata": {},
   "outputs": [],
   "source": [
    "# Create a Date Range with increments of two days.\n",
    "pd.date_range(start = \"2016-01-01\", end = \"2016-01-10\", freq = \"2D\")"
   ]
  },
  {
   "cell_type": "code",
   "execution_count": null,
   "id": "12e8d40c",
   "metadata": {},
   "outputs": [],
   "source": [
    "# Create a Date Range using increments of business days.\n",
    "pd.date_range(start = \"2016-01-01\", end = \"2016-01-10\", freq = \"B\")"
   ]
  },
  {
   "cell_type": "code",
   "execution_count": null,
   "id": "b3ea4ff4",
   "metadata": {},
   "outputs": [],
   "source": [
    "# Create a Date Range using increments of weeks. \"W\" is Sunday Weeks and counts Sundays.\n",
    "# This is why the range starts at 2016-01-03\n",
    "pd.date_range(start = \"2016-01-01\", end = \"2016-01-15\", freq = \"W\")"
   ]
  },
  {
   "cell_type": "code",
   "execution_count": null,
   "id": "958d00ad",
   "metadata": {},
   "outputs": [],
   "source": [
    "# Starts the Week count on friday.\n",
    "pd.date_range(start = \"2016-01-01\", end = \"2016-01-15\", freq = \"W-FRI\")"
   ]
  },
  {
   "cell_type": "code",
   "execution_count": null,
   "id": "fb45e944",
   "metadata": {},
   "outputs": [],
   "source": [
    "# Creates a Date Range using increments of hours.\n",
    "pd.date_range(start = \"2016-01-01\", end = \"2016-01-15\", freq = \"H\")\n",
    "pd.date_range(start = \"2016-01-01\", end = \"2016-01-15\", freq = \"6H\")"
   ]
  },
  {
   "cell_type": "code",
   "execution_count": null,
   "id": "e988db29",
   "metadata": {},
   "outputs": [],
   "source": [
    "# Creates a Date Range using increments of months.\n",
    "pd.date_range(start = \"2016-01-01\", end = \"2016-12-31\", freq = \"M\")\n",
    "pd.date_range(start = \"2016-01-01\", end = \"2016-12-31\", freq = \"MS\")"
   ]
  },
  {
   "cell_type": "code",
   "execution_count": null,
   "id": "ae8bba3b",
   "metadata": {},
   "outputs": [],
   "source": [
    "# Creates a Date Range using increments of years.\n",
    "pd.date_range(start = \"2016-01-01\", end = \"2050-12-31\", freq = \"A\")"
   ]
  },
  {
   "cell_type": "markdown",
   "id": "6acd979c",
   "metadata": {},
   "source": [
    "# Create Range of Dates with the <code>pd.date_range()</code> Method, Part 2"
   ]
  },
  {
   "cell_type": "code",
   "execution_count": null,
   "id": "38a86c23",
   "metadata": {},
   "outputs": [],
   "source": [
    "# We can control the number of timestamps to generate by using the periods parameter.\n",
    "pd.date_range(start = \"2012-09-09\", periods = 25, freq = \"D\")\n",
    "pd.date_range(start = \"2012-09-09\", periods = 50, freq = \"D\")\n",
    "pd.date_range(start = \"2012-09-09\", periods = 50, freq = \"B\")\n",
    "pd.date_range(start = \"2012-09-09\", periods = 50, freq = \"W\")\n",
    "pd.date_range(start = \"2012-09-09\", periods = 50, freq = \"W-TUE\")\n",
    "pd.date_range(start = \"2012-09-09\", periods = 50, freq = \"MS\")\n",
    "pd.date_range(start = \"2012-09-09\", periods = 50, freq = \"A\")\n",
    "pd.date_range(start = \"2012-09-09\", periods = 50, freq = \"H\")\n",
    "pd.date_range(start = \"2012-09-09\", periods = 50, freq = \"6H\")"
   ]
  },
  {
   "cell_type": "markdown",
   "id": "7f27adfc",
   "metadata": {},
   "source": [
    "# Create Range of Dates with the <code>pd.date_range()</code> Method, Part 3\n"
   ]
  },
  {
   "cell_type": "code",
   "execution_count": null,
   "id": "04e5123b",
   "metadata": {},
   "outputs": [],
   "source": [
    "# Starting with the end parameter, we can generate a list of timestamps backwards.\n",
    "pd.date_range(end = \"1999-12-31\", periods = 20, freq = \"D\")\n",
    "pd.date_range(end = \"1999-12-31\", periods = 20, freq = \"B\")\n",
    "pd.date_range(end = \"1999-12-31\", periods = 20, freq = \"W\")\n",
    "pd.date_range(end = \"1999-12-31\", periods = 20, freq = \"W-FRI\")\n",
    "pd.date_range(end = \"1999-12-31\", periods = 20, freq = \"M\")\n",
    "pd.date_range(end = \"1999-12-31\", periods = 20, freq = \"MS\")\n",
    "pd.date_range(end = \"1999-12-31\", periods = 20, freq = \"A\")\n",
    "pd.date_range(end = \"1999-12-31\", periods = 20, freq = \"H\")\n",
    "pd.date_range(end = \"1999-12-31\", periods = 20, freq = \"6H\")"
   ]
  },
  {
   "cell_type": "markdown",
   "id": "8aabb5da",
   "metadata": {},
   "source": [
    "# The <code>.dt</code> Accessor"
   ]
  },
  {
   "cell_type": "code",
   "execution_count": null,
   "id": "53482ce7",
   "metadata": {},
   "outputs": [],
   "source": [
    "# The .dt accessor is very similary to the .str method when using strings with Series.\n",
    "bunch_of_dates = pd.date_range(start = \"2000-01-01\", end = \"2010-12-31\", freq = \"24D\")\n",
    "bunch_of_dates"
   ]
  },
  {
   "cell_type": "code",
   "execution_count": null,
   "id": "bceca46d",
   "metadata": {},
   "outputs": [],
   "source": [
    "s = pd.Series(bunch_of_dates)\n",
    "s.head(3)"
   ]
  },
  {
   "cell_type": "code",
   "execution_count": null,
   "id": "7e9d88f2",
   "metadata": {},
   "outputs": [],
   "source": [
    "# To access parts of a series, don't forget the .dt accessor.\n",
    "s.dt.day\n",
    "s.dt.month\n",
    "s.dt.year"
   ]
  },
  {
   "cell_type": "code",
   "execution_count": null,
   "id": "a92bef1c",
   "metadata": {},
   "outputs": [],
   "source": [
    "mask = s.dt.is_quarter_start\n",
    "s[mask]"
   ]
  },
  {
   "cell_type": "code",
   "execution_count": null,
   "id": "b037e8b4",
   "metadata": {},
   "outputs": [],
   "source": [
    "mask = s.dt.is_month_end\n",
    "s[mask]"
   ]
  },
  {
   "cell_type": "markdown",
   "id": "6c09a0bd",
   "metadata": {},
   "source": [
    "# Import Financial Dataset with <code>pandas_datareader</code> Library"
   ]
  },
  {
   "cell_type": "code",
   "execution_count": null,
   "id": "b3bc2991",
   "metadata": {},
   "outputs": [],
   "source": [
    "import pandas as pd\n",
    "import datetime as dt\n",
    "\n",
    "from pandas_datareader import data"
   ]
  },
  {
   "cell_type": "code",
   "execution_count": null,
   "id": "370ad80c",
   "metadata": {},
   "outputs": [],
   "source": [
    "stocks = data.DataReader(name = \"MSFT\", data_source = \"yahoo\", start = \"2010-01-01\", end = \"2020-12-31\")\n",
    "stocks.head(3)"
   ]
  },
  {
   "cell_type": "code",
   "execution_count": null,
   "id": "3f66cf68",
   "metadata": {},
   "outputs": [],
   "source": [
    "stocks.values\n",
    "stocks.columns\n",
    "stocks.index\n",
    "stocks.axes"
   ]
  },
  {
   "cell_type": "markdown",
   "id": "bb170b21",
   "metadata": {},
   "source": [
    "# Selecting Rows from a DataFrame with a <code>DataFrameIndex</code>"
   ]
  },
  {
   "cell_type": "code",
   "execution_count": null,
   "id": "cc935811",
   "metadata": {},
   "outputs": [],
   "source": [
    "stocks = data.DataReader(name = \"MSFT\", data_source = \"yahoo\", start = \"2010-01-01\", end = \"2020-12-31\")\n",
    "stocks.head(3)"
   ]
  },
  {
   "cell_type": "code",
   "execution_count": null,
   "id": "950b4bb4",
   "metadata": {},
   "outputs": [],
   "source": [
    "stocks.loc[\"2010-01-04\"]\n",
    "stocks.loc[pd.Timestamp(\"2010-01-04\")] # Best practice to wrap the string inside of a Pandas Timestamp"
   ]
  },
  {
   "cell_type": "code",
   "execution_count": null,
   "id": "5192a1dc",
   "metadata": {},
   "outputs": [],
   "source": [
    "stocks.iloc[0]\n",
    "stocks.iloc[500]\n",
    "stocks.iloc[-1]"
   ]
  },
  {
   "cell_type": "code",
   "execution_count": null,
   "id": "9cc9054e",
   "metadata": {},
   "outputs": [],
   "source": [
    "stocks.loc[[pd.Timestamp(\"2010-01-04\"), pd.Timestamp(\"2010-01-05\")]]"
   ]
  },
  {
   "cell_type": "code",
   "execution_count": null,
   "id": "0fbcfae6",
   "metadata": {},
   "outputs": [],
   "source": [
    "# Identical.\n",
    "stocks.loc[\"2013-10-01\" : \"2013-10-07\"]\n",
    "stocks.truncate(before = \"2013-01-01\", after = \"2013-10-07\")\n",
    "\n",
    "stocks.iloc[1000 : 1005]"
   ]
  },
  {
   "cell_type": "code",
   "execution_count": null,
   "id": "8869a0fb",
   "metadata": {},
   "outputs": [],
   "source": [
    "birthdays = pd.date_range(start = \"1991-04-12\", end = \"2020-12-31\", freq = pd.DateOffset(years = 1))\n",
    "birthday_stocks = stocks.index.isin(birthdays)\n",
    "stocks[birthday_stocks]\n",
    "stocks.loc[birthday_stocks]"
   ]
  },
  {
   "cell_type": "markdown",
   "id": "8960527c",
   "metadata": {},
   "source": [
    "# <code>Timestamp</code> Object Attributes and Methods"
   ]
  },
  {
   "cell_type": "code",
   "execution_count": null,
   "id": "16cc2009",
   "metadata": {},
   "outputs": [],
   "source": [
    "stocks = data.DataReader(name = \"MSFT\", data_source = \"yahoo\", start = \"2010-01-01\", end = \"2020-12-31\")\n",
    "stocks.head(3)"
   ]
  },
  {
   "cell_type": "code",
   "execution_count": null,
   "id": "45da1b5e",
   "metadata": {},
   "outputs": [],
   "source": [
    "someday = stocks.index[500]\n",
    "someday"
   ]
  },
  {
   "cell_type": "code",
   "execution_count": null,
   "id": "38fa9766",
   "metadata": {},
   "outputs": [],
   "source": [
    "someday.month\n",
    "someday.week\n",
    "someday.day\n",
    "someday.is_month_start\n",
    "someday.is_month_end\n",
    "someday.is_quarter_start\n",
    "someday.is_quarter_end"
   ]
  },
  {
   "cell_type": "code",
   "execution_count": null,
   "id": "160ca362",
   "metadata": {},
   "outputs": [],
   "source": [
    "someday.month_name()\n",
    "someday.day_name()"
   ]
  },
  {
   "cell_type": "code",
   "execution_count": null,
   "id": "deda4a8c",
   "metadata": {},
   "outputs": [],
   "source": [
    "stocks.index.day_name()"
   ]
  },
  {
   "cell_type": "code",
   "execution_count": null,
   "id": "16639259",
   "metadata": {},
   "outputs": [],
   "source": [
    "stocks.insert(0, \"Day of Week\", stocks.index.day_name())\n",
    "stocks"
   ]
  },
  {
   "cell_type": "code",
   "execution_count": null,
   "id": "497ba6e9",
   "metadata": {},
   "outputs": [],
   "source": [
    "stocks.insert(1, \"Is Start of Month\", stocks.index.is_month_start)\n",
    "stocks"
   ]
  },
  {
   "cell_type": "code",
   "execution_count": null,
   "id": "6def25cd",
   "metadata": {},
   "outputs": [],
   "source": [
    "stocks[stocks[\"Is Start of Month\"]]"
   ]
  },
  {
   "cell_type": "markdown",
   "id": "5147fb25",
   "metadata": {},
   "source": [
    "# The <code>pd.DateOffset</code> Object"
   ]
  },
  {
   "cell_type": "code",
   "execution_count": null,
   "id": "8a8f3334",
   "metadata": {},
   "outputs": [],
   "source": [
    "stocks = data.DataReader(name = \"MSFT\", data_source = \"yahoo\", start = \"2010-01-01\", end = \"2020-12-31\")\n",
    "stocks.head(3)"
   ]
  },
  {
   "cell_type": "code",
   "execution_count": null,
   "id": "5c998d69",
   "metadata": {},
   "outputs": [],
   "source": [
    "stocks[\"High\"] + 5"
   ]
  },
  {
   "cell_type": "code",
   "execution_count": null,
   "id": "676488bf",
   "metadata": {},
   "outputs": [],
   "source": [
    "stocks.index + pd.DateOffset(days = 5)\n",
    "stocks.index = stocks.index + pd.DateOffset(days = 5)\n",
    "stocks.index"
   ]
  },
  {
   "cell_type": "code",
   "execution_count": null,
   "id": "7fa74673",
   "metadata": {},
   "outputs": [],
   "source": [
    "stocks.index + pd.DateOffset(weeks = 2)\n",
    "stocks.index - pd.DateOffset(weeks = 3)\n",
    "\n",
    "stocks.index + pd.DateOffset(months = 3)\n",
    "stocks.index - pd.DateOffset(months = 5)\n",
    "\n",
    "stocks.index + pd.DateOffset(years = 1)\n",
    "stocks.index - pd.DateOffset(years = 8)\n",
    "\n",
    "stocks.index + pd.DateOffset(years = 1, months = 3, days = 10, hours = 6, minutes = 2)\n",
    "stocks.index + pd.DateOffset(years = 3, months = 4, days = 25, hours = 13, minutes = 24, seconds = 26)"
   ]
  },
  {
   "cell_type": "markdown",
   "id": "ddccb08a",
   "metadata": {},
   "source": [
    "# Timeseries Offsets"
   ]
  },
  {
   "cell_type": "code",
   "execution_count": null,
   "id": "f1c7cdef",
   "metadata": {},
   "outputs": [],
   "source": [
    "stocks = data.DataReader(name = \"MSFT\", data_source = \"yahoo\", start = \"2010-01-01\", end = \"2020-12-31\")\n",
    "stocks.head(3)"
   ]
  },
  {
   "cell_type": "code",
   "execution_count": null,
   "id": "b8849d3f",
   "metadata": {},
   "outputs": [],
   "source": [
    "# Be careful: Days on the actual end of the month will be rounded to the end of the next month.\n",
    "stocks.index + pd.tseries.offsets.MonthEnd()\n",
    "stocks.index - pd.tseries.offsets.MonthEnd()\n",
    "\n",
    "stocks.index + pd.tseries.offsets.MonthBegin()\n",
    "stocks.index - pd.tseries.offsets.MonthBegin()"
   ]
  },
  {
   "cell_type": "code",
   "execution_count": null,
   "id": "1e2f11ef",
   "metadata": {},
   "outputs": [],
   "source": [
    "# A shortcut to reference offsets.\n",
    "from pandas.tseries import offsets"
   ]
  },
  {
   "cell_type": "code",
   "execution_count": null,
   "id": "73b3d9d9",
   "metadata": {},
   "outputs": [],
   "source": [
    "stocks.index + offsets.MonthEnd()"
   ]
  },
  {
   "cell_type": "code",
   "execution_count": null,
   "id": "0e6bf393",
   "metadata": {},
   "outputs": [],
   "source": [
    "stocks.index + offsets.YearEnd()\n",
    "stocks.index - offsets.YearEnd()\n",
    "\n",
    "stocks.index + offsets.YearBegin()\n",
    "stocks.index - offsets.YearBegin()"
   ]
  },
  {
   "cell_type": "markdown",
   "id": "ba53e402",
   "metadata": {},
   "source": [
    "# The <code>Timedelta</code> Object"
   ]
  },
  {
   "cell_type": "code",
   "execution_count": null,
   "id": "d7b5263f",
   "metadata": {},
   "outputs": [],
   "source": [
    "time_a = pd.Timestamp(\"2020-03-31 04:35:16PM\")\n",
    "time_b = pd.Timestamp(\"2020-03-20 02:14:49AM\")\n",
    "\n",
    "time_a - time_b"
   ]
  },
  {
   "cell_type": "code",
   "execution_count": null,
   "id": "42bef93b",
   "metadata": {},
   "outputs": [],
   "source": [
    "time_b - time_a"
   ]
  },
  {
   "cell_type": "code",
   "execution_count": null,
   "id": "d941f4b3",
   "metadata": {},
   "outputs": [],
   "source": [
    "pd.Timedelta(days = 3)\n",
    "pd.Timedelta(days = 3, minutes = 45)\n",
    "pd.Timedelta(days = 3, hours = 12, minutes = 45)\n",
    "pd.Timedelta(days = 3, hours = 12, minutes = 45, seconds = 20)\n",
    "pd.Timedelta(weeks = 8, days = 3, hours = 12, minutes = 45, seconds = 20)"
   ]
  },
  {
   "cell_type": "code",
   "execution_count": null,
   "id": "174842f4",
   "metadata": {},
   "outputs": [],
   "source": [
    "pd.Timedelta(\"5 minutes\")\n",
    "pd.Timedelta(\"6 hours 12 minutes\")\n",
    "pd.Timedelta(\"14 days 6 hours 12 minutes 49 seconds\")"
   ]
  },
  {
   "cell_type": "markdown",
   "id": "f28c497d",
   "metadata": {},
   "source": [
    "# <code>Timedelta</code> in a Dataset"
   ]
  },
  {
   "cell_type": "code",
   "execution_count": null,
   "id": "4364cd2a",
   "metadata": {},
   "outputs": [],
   "source": [
    "shipping = (\n",
    "    pd.read_csv(\"C:\\\\Users\\\\Maverick\\\\Documents\\\\git\\\\Data-Analysis-With-Pandas-And-Python\\\\datasets\\\\ecommerce.csv\",\n",
    "    index_col = \"ID\",\n",
    "    parse_dates = [\"order_date\", \"delivery_date\"])\n",
    ")\n",
    "\n",
    "shipping.head(3)"
   ]
  },
  {
   "cell_type": "code",
   "execution_count": null,
   "id": "44aed92a",
   "metadata": {},
   "outputs": [],
   "source": [
    "shipping[\"Delivery Time\"] = shipping[\"delivery_date\"] - shipping[\"order_date\"]\n",
    "shipping.head(3)"
   ]
  },
  {
   "cell_type": "code",
   "execution_count": null,
   "id": "1085df6a",
   "metadata": {},
   "outputs": [],
   "source": [
    "shipping[\"Twice As Long\"] = shipping[\"delivery_date\"] + shipping[\"Delivery Time\"]\n",
    "shipping.head(3)"
   ]
  },
  {
   "cell_type": "code",
   "execution_count": null,
   "id": "13da0dcc",
   "metadata": {},
   "outputs": [],
   "source": [
    "mask = shipping[\"Delivery Time\"] > \"3000 days\"\n",
    "shipping[mask]"
   ]
  }
 ],
 "metadata": {
  "kernelspec": {
   "display_name": "Python 3 (ipykernel)",
   "language": "python",
   "name": "python3"
  },
  "language_info": {
   "codemirror_mode": {
    "name": "ipython",
    "version": 3
   },
   "file_extension": ".py",
   "mimetype": "text/x-python",
   "name": "python",
   "nbconvert_exporter": "python",
   "pygments_lexer": "ipython3",
   "version": "3.10.4"
  }
 },
 "nbformat": 4,
 "nbformat_minor": 5
}
