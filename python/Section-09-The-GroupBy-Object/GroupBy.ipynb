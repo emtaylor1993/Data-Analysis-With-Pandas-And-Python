{
 "cells": [
  {
   "cell_type": "markdown",
   "id": "564a5567",
   "metadata": {},
   "source": [
    "# Importing Pandas and DataSet"
   ]
  },
  {
   "cell_type": "code",
   "execution_count": null,
   "id": "ae6032b9",
   "metadata": {},
   "outputs": [],
   "source": [
    "import pandas as pd"
   ]
  },
  {
   "cell_type": "code",
   "execution_count": null,
   "id": "465c796d",
   "metadata": {},
   "outputs": [],
   "source": [
    "fortune = (\n",
    "    pd.read_csv(\"C:\\\\Users\\\\Maverick\\\\Documents\\\\git\\\\Data-Analysis-With-Pandas-And-Python\\\\datasets\\\\fortune1000.csv\",\n",
    "    index_col = \"Rank\")\n",
    ")\n",
    "\n",
    "sectors = fortune.groupby(\"Sector\")\n",
    "fortune.head(3)"
   ]
  },
  {
   "cell_type": "code",
   "execution_count": null,
   "id": "bb422699",
   "metadata": {},
   "outputs": [],
   "source": [
    "type(fortune)"
   ]
  },
  {
   "cell_type": "code",
   "execution_count": null,
   "id": "cd1e44aa",
   "metadata": {},
   "outputs": [],
   "source": [
    "type(sectors)"
   ]
  },
  {
   "cell_type": "code",
   "execution_count": null,
   "id": "9ccc911e",
   "metadata": {},
   "outputs": [],
   "source": [
    "sectors"
   ]
  },
  {
   "cell_type": "markdown",
   "id": "0fb1ce5d",
   "metadata": {},
   "source": [
    "# The <code>.groupby()</code> Method"
   ]
  },
  {
   "cell_type": "code",
   "execution_count": null,
   "id": "a4261a30",
   "metadata": {},
   "outputs": [],
   "source": [
    "fortune = (\n",
    "    pd.read_csv(\"C:\\\\Users\\\\Maverick\\\\Documents\\\\git\\\\Data-Analysis-With-Pandas-And-Python\\\\datasets\\\\fortune1000.csv\",\n",
    "    index_col = \"Rank\")\n",
    ")\n",
    "\n",
    "sectors = fortune.groupby(\"Sector\")\n",
    "fortune.head(3)"
   ]
  },
  {
   "cell_type": "code",
   "execution_count": null,
   "id": "fc116614",
   "metadata": {},
   "outputs": [],
   "source": [
    "len(sectors)"
   ]
  },
  {
   "cell_type": "code",
   "execution_count": null,
   "id": "4fbc2451",
   "metadata": {},
   "outputs": [],
   "source": [
    "fortune[\"Sector\"].nunique()"
   ]
  },
  {
   "cell_type": "code",
   "execution_count": null,
   "id": "eb120859",
   "metadata": {},
   "outputs": [],
   "source": [
    "sectors.size()"
   ]
  },
  {
   "cell_type": "code",
   "execution_count": null,
   "id": "84349931",
   "metadata": {},
   "outputs": [],
   "source": [
    "fortune[\"Sector\"].value_counts()"
   ]
  },
  {
   "cell_type": "code",
   "execution_count": null,
   "id": "19a002c9",
   "metadata": {},
   "outputs": [],
   "source": [
    "sectors.first()"
   ]
  },
  {
   "cell_type": "code",
   "execution_count": null,
   "id": "01276fec",
   "metadata": {},
   "outputs": [],
   "source": [
    "sectors.last()"
   ]
  },
  {
   "cell_type": "code",
   "execution_count": null,
   "id": "63a20ba6",
   "metadata": {},
   "outputs": [],
   "source": [
    "sectors.groups"
   ]
  },
  {
   "cell_type": "markdown",
   "id": "16503d9a",
   "metadata": {},
   "source": [
    "# Retrieve a Group with the <code>.get_group()</code> Method"
   ]
  },
  {
   "cell_type": "code",
   "execution_count": null,
   "id": "200d9973",
   "metadata": {},
   "outputs": [],
   "source": [
    "fortune = (\n",
    "    pd.read_csv(\"C:\\\\Users\\\\Maverick\\\\Documents\\\\git\\\\Data-Analysis-With-Pandas-And-Python\\\\datasets\\\\fortune1000.csv\",\n",
    "    index_col = \"Rank\")\n",
    ")\n",
    "\n",
    "sectors = fortune.groupby(\"Sector\")\n",
    "fortune.head(3)"
   ]
  },
  {
   "cell_type": "code",
   "execution_count": null,
   "id": "1893036e",
   "metadata": {},
   "outputs": [],
   "source": [
    "sectors.get_group(\"Energy\")\n",
    "sectors.get_group(\"Technology\")\n",
    "sectors.get_group(\"Apparel\")"
   ]
  },
  {
   "cell_type": "markdown",
   "id": "8e0ba02e",
   "metadata": {},
   "source": [
    "# Methods on the GroupBy Object and DataFrame Columns"
   ]
  },
  {
   "cell_type": "code",
   "execution_count": null,
   "id": "9e9441e7",
   "metadata": {},
   "outputs": [],
   "source": [
    "fortune = (\n",
    "    pd.read_csv(\"C:\\\\Users\\\\Maverick\\\\Documents\\\\git\\\\Data-Analysis-With-Pandas-And-Python\\\\datasets\\\\fortune1000.csv\",\n",
    "    index_col = \"Rank\")\n",
    ")\n",
    "\n",
    "sectors = fortune.groupby(\"Sector\")\n",
    "fortune.head(3)"
   ]
  },
  {
   "cell_type": "code",
   "execution_count": null,
   "id": "f1acd157",
   "metadata": {},
   "outputs": [],
   "source": [
    "# Defaults to the company column because it is the leftmost column.\n",
    "sectors.max()"
   ]
  },
  {
   "cell_type": "code",
   "execution_count": null,
   "id": "63c8a736",
   "metadata": {},
   "outputs": [],
   "source": [
    "sectors.min()"
   ]
  },
  {
   "cell_type": "code",
   "execution_count": null,
   "id": "4312483d",
   "metadata": {},
   "outputs": [],
   "source": [
    "sectors.sum()"
   ]
  },
  {
   "cell_type": "code",
   "execution_count": null,
   "id": "ab47349d",
   "metadata": {},
   "outputs": [],
   "source": [
    "sectors.mean()"
   ]
  },
  {
   "cell_type": "code",
   "execution_count": null,
   "id": "68dcdfb2",
   "metadata": {},
   "outputs": [],
   "source": [
    "sectors.get_group(\"Apparel\")[\"Profits\"].sum()"
   ]
  },
  {
   "cell_type": "code",
   "execution_count": null,
   "id": "61f136a5",
   "metadata": {},
   "outputs": [],
   "source": [
    "sectors[\"Revenue\"].sum()\n",
    "sectors[\"Employees\"].sum()\n",
    "sectors[\"Profits\"].max()\n",
    "sectors[\"Profits\"].min()\n",
    "sectors[\"Employees\"].mean()\n",
    "\n",
    "sectors[[\"Revenue\", \"Profits\"]].sum()"
   ]
  },
  {
   "cell_type": "markdown",
   "id": "8f723cc9",
   "metadata": {},
   "source": [
    "# Grouping by Multiple Columns"
   ]
  },
  {
   "cell_type": "code",
   "execution_count": null,
   "id": "f9fdb0c8",
   "metadata": {},
   "outputs": [],
   "source": [
    "fortune = (\n",
    "    pd.read_csv(\"C:\\\\Users\\\\Maverick\\\\Documents\\\\git\\\\Data-Analysis-With-Pandas-And-Python\\\\datasets\\\\fortune1000.csv\",\n",
    "    index_col = \"Rank\")\n",
    ")\n",
    "\n",
    "fortune.head(3)"
   ]
  },
  {
   "cell_type": "code",
   "execution_count": null,
   "id": "13e90ba2",
   "metadata": {},
   "outputs": [],
   "source": [
    "sectors = fortune.groupby([\"Sector\", \"Industry\"])\n",
    "sectors.size()\n",
    "sectors.sum()\n",
    "sectors[\"Revenue\"].sum()\n",
    "sectors[\"Employees\"].mean()"
   ]
  },
  {
   "cell_type": "markdown",
   "id": "d4ea12c0",
   "metadata": {},
   "source": [
    "# The <code>.agg()</code> Method"
   ]
  },
  {
   "cell_type": "code",
   "execution_count": null,
   "id": "ea53a730",
   "metadata": {},
   "outputs": [],
   "source": [
    "fortune = (\n",
    "    pd.read_csv(\"C:\\\\Users\\\\Maverick\\\\Documents\\\\git\\\\Data-Analysis-With-Pandas-And-Python\\\\datasets\\\\fortune1000.csv\",\n",
    "    index_col = \"Rank\")\n",
    ")\n",
    "\n",
    "sectors = fortune.groupby(\"Sector\")\n",
    "fortune.head(3)"
   ]
  },
  {
   "cell_type": "code",
   "execution_count": null,
   "id": "e45adc70",
   "metadata": {},
   "outputs": [],
   "source": [
    "# The .agg() function is useful for using different functions on different columns.\n",
    "sectors.agg({\"Employees\" : \"mean\"})\n",
    "sectors.agg({\"Revenue\" : \"sum\",\n",
    "             \"Profits\" : \"sum\",\n",
    "             \"Employees\" : \"mean\"})"
   ]
  },
  {
   "cell_type": "code",
   "execution_count": null,
   "id": "e5cef7d4",
   "metadata": {},
   "outputs": [],
   "source": [
    "sectors.agg([\"size\", \"sum\", \"mean\"])"
   ]
  },
  {
   "cell_type": "markdown",
   "id": "f8d34df2",
   "metadata": {},
   "source": [
    "# Iterating through Groups"
   ]
  },
  {
   "cell_type": "code",
   "execution_count": null,
   "id": "13f84b2f",
   "metadata": {},
   "outputs": [],
   "source": [
    "fortune = (\n",
    "    pd.read_csv(\"C:\\\\Users\\\\Maverick\\\\Documents\\\\git\\\\Data-Analysis-With-Pandas-And-Python\\\\datasets\\\\fortune1000.csv\",\n",
    "    index_col = \"Rank\")\n",
    ")\n",
    "\n",
    "sectors = fortune.groupby(\"Sector\")\n",
    "fortune.head(3)"
   ]
  },
  {
   "cell_type": "code",
   "execution_count": null,
   "id": "5bdec126",
   "metadata": {},
   "outputs": [],
   "source": [
    "df = pd.DataFrame(columns = fortune.columns)\n",
    "df"
   ]
  },
  {
   "cell_type": "code",
   "execution_count": null,
   "id": "3cb5a0d8",
   "metadata": {},
   "outputs": [],
   "source": [
    "for sector, data in sectors:\n",
    "    highest_revenue_company_in_group = data.nlargest(1, \"Revenue\")\n",
    "    df = df.append(highest_revenue_company_in_group)"
   ]
  },
  {
   "cell_type": "code",
   "execution_count": null,
   "id": "00303096",
   "metadata": {},
   "outputs": [],
   "source": [
    "df"
   ]
  },
  {
   "cell_type": "code",
   "execution_count": null,
   "id": "e43b92a5",
   "metadata": {},
   "outputs": [],
   "source": [
    "cities = fortune.groupby(\"Location\")\n",
    "df = pd.DataFrame(columns = fortune.columns)\n",
    "df"
   ]
  },
  {
   "cell_type": "code",
   "execution_count": null,
   "id": "3922aeae",
   "metadata": {},
   "outputs": [],
   "source": [
    "for city, data in cities:\n",
    "    highest_revenue_in_city = data.nlargest(1, \"Revenue\")\n",
    "    df = df.append(highest_revenue_in_city)\n",
    "    df"
   ]
  }
 ],
 "metadata": {
  "kernelspec": {
   "display_name": "Python 3 (ipykernel)",
   "language": "python",
   "name": "python3"
  },
  "language_info": {
   "codemirror_mode": {
    "name": "ipython",
    "version": 3
   },
   "file_extension": ".py",
   "mimetype": "text/x-python",
   "name": "python",
   "nbconvert_exporter": "python",
   "pygments_lexer": "ipython3",
   "version": "3.10.4"
  }
 },
 "nbformat": 4,
 "nbformat_minor": 5
}
