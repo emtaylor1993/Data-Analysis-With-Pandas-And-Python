{
 "cells": [
  {
   "cell_type": "markdown",
   "id": "ea7e972b",
   "metadata": {},
   "source": [
    "# Memory Optimization"
   ]
  },
  {
   "cell_type": "code",
   "execution_count": null,
   "id": "2a2ace59",
   "metadata": {},
   "outputs": [],
   "source": [
    "import pandas as pd"
   ]
  },
  {
   "cell_type": "code",
   "execution_count": null,
   "id": "86907cb0",
   "metadata": {},
   "outputs": [],
   "source": [
    "df = pd.read_csv(\"C:\\\\Users\\\\Maverick\\\\Documents\\\\git\\\\Data-Analysis-With-Pandas-And-Python\\\\datasets\\\\employees.csv\")\n",
    "df.head(3)"
   ]
  },
  {
   "cell_type": "code",
   "execution_count": null,
   "id": "c5175530",
   "metadata": {},
   "outputs": [],
   "source": [
    "df.info()"
   ]
  },
  {
   "cell_type": "code",
   "execution_count": null,
   "id": "83664790",
   "metadata": {},
   "outputs": [],
   "source": [
    "# Optimize columns by making sure that the time columns store data as DateTime objects.\n",
    "df[\"Start Date\"] = pd.to_datetime(df[\"Start Date\"])\n",
    "df.head(3)"
   ]
  },
  {
   "cell_type": "code",
   "execution_count": null,
   "id": "be8c120b",
   "metadata": {},
   "outputs": [],
   "source": [
    "df[\"Last Login Time\"] = pd.to_datetime(df[\"Last Login Time\"])\n",
    "df.head(3)"
   ]
  },
  {
   "cell_type": "code",
   "execution_count": null,
   "id": "19aceade",
   "metadata": {},
   "outputs": [],
   "source": [
    "df[\"Senior Management\"] = df[\"Senior Management\"].astype(\"bool\")"
   ]
  },
  {
   "cell_type": "code",
   "execution_count": null,
   "id": "077e6ef6",
   "metadata": {},
   "outputs": [],
   "source": [
    "df.head(3)"
   ]
  },
  {
   "cell_type": "code",
   "execution_count": null,
   "id": "d4895ffa",
   "metadata": {},
   "outputs": [],
   "source": [
    "df[\"Gender\"] = df[\"Gender\"].astype(\"category\")\n",
    "df.head(3)"
   ]
  },
  {
   "cell_type": "code",
   "execution_count": null,
   "id": "7be6d18a",
   "metadata": {},
   "outputs": [],
   "source": [
    "# Saved memory consumption by more than 20%\n",
    "49 / 62.6"
   ]
  },
  {
   "cell_type": "markdown",
   "id": "c468a6c3",
   "metadata": {},
   "source": [
    "# Filter a DataFrame Based on a Condition"
   ]
  },
  {
   "cell_type": "code",
   "execution_count": null,
   "id": "53f3b312",
   "metadata": {},
   "outputs": [],
   "source": [
    "# DateTime objects can be parsed in the read_csv line.\n",
    "df = (\n",
    "    pd.read_csv(\"C:\\\\Users\\\\Maverick\\\\Documents\\\\git\\\\Data-Analysis-With-Pandas-And-Python\\\\datasets\\\\employees.csv\", \n",
    "    parse_dates = [\"Start Date\", \"Last Login Time\"])\n",
    ")\n",
    "\n",
    "df[\"Senior Management\"] = df[\"Senior Management\"].astype(\"bool\")\n",
    "df[\"Gender\"] = df[\"Gender\"].astype(\"category\")\n",
    "df.head(3)"
   ]
  },
  {
   "cell_type": "code",
   "execution_count": null,
   "id": "6a1cdac8",
   "metadata": {},
   "outputs": [],
   "source": [
    "# Passing in a Boolean series to a DataFrame will return rows where the condition is True.\n",
    "df[df[\"Gender\"] == \"Male\"]"
   ]
  },
  {
   "cell_type": "code",
   "execution_count": null,
   "id": "22cdcf99",
   "metadata": {},
   "outputs": [],
   "source": [
    "# Pulling everyone from the Finance Team. Different syntax.\n",
    "mask = df[\"Team\"] == \"Finance\"\n",
    "df[mask]"
   ]
  },
  {
   "cell_type": "code",
   "execution_count": null,
   "id": "af5282e3",
   "metadata": {},
   "outputs": [],
   "source": [
    "# Senior Management is already a Boolean Series so we can pass this directly in.\n",
    "df[df[\"Senior Management\"]]"
   ]
  },
  {
   "cell_type": "code",
   "execution_count": null,
   "id": "605b5152",
   "metadata": {},
   "outputs": [],
   "source": [
    "mask = df[\"Team\"] != \"Marketing\"\n",
    "df[mask]"
   ]
  },
  {
   "cell_type": "code",
   "execution_count": null,
   "id": "58a7f8ec",
   "metadata": {},
   "outputs": [],
   "source": [
    "mask = df[\"Salary\"] > 110000\n",
    "df[mask]"
   ]
  },
  {
   "cell_type": "code",
   "execution_count": null,
   "id": "c859826c",
   "metadata": {},
   "outputs": [],
   "source": [
    "mask = df[\"Bonus %\"] < 1.5\n",
    "df[mask]"
   ]
  },
  {
   "cell_type": "code",
   "execution_count": null,
   "id": "8f14a619",
   "metadata": {},
   "outputs": [],
   "source": [
    "mask = df[\"Start Date\"] <= \"1985-01-01\"\n",
    "df[mask]"
   ]
  },
  {
   "cell_type": "markdown",
   "id": "4071f9d5",
   "metadata": {},
   "source": [
    "# Filtering with More than One Condition (AND)"
   ]
  },
  {
   "cell_type": "code",
   "execution_count": null,
   "id": "0774f7d5",
   "metadata": {},
   "outputs": [],
   "source": [
    "df = (\n",
    "    pd.read_csv(\"C:\\\\Users\\\\Maverick\\\\Documents\\\\git\\\\Data-Analysis-With-Pandas-And-Python\\\\datasets\\\\employees.csv\", \n",
    "    parse_dates = [\"Start Date\", \"Last Login Time\"])\n",
    ")\n",
    "\n",
    "df[\"Senior Management\"] = df[\"Senior Management\"].astype(\"bool\")\n",
    "df[\"Gender\"] = df[\"Gender\"].astype(\"category\")\n",
    "df.head(3)"
   ]
  },
  {
   "cell_type": "code",
   "execution_count": null,
   "id": "7237b6b3",
   "metadata": {},
   "outputs": [],
   "source": [
    "mask1 = df[\"Gender\"] == \"Male\" \n",
    "mask2 = df[\"Team\"] == \"Marketing\"\n",
    "df[mask1 & mask2]"
   ]
  },
  {
   "cell_type": "markdown",
   "id": "529217b6",
   "metadata": {},
   "source": [
    "# Filering with More than One Condition (OR)"
   ]
  },
  {
   "cell_type": "code",
   "execution_count": null,
   "id": "cea106fb",
   "metadata": {},
   "outputs": [],
   "source": [
    "df = (\n",
    "    pd.read_csv(\"C:\\\\Users\\\\Maverick\\\\Documents\\\\git\\\\Data-Analysis-With-Pandas-And-Python\\\\datasets\\\\employees.csv\", \n",
    "    parse_dates = [\"Start Date\", \"Last Login Time\"])\n",
    ")\n",
    "\n",
    "df[\"Senior Management\"] = df[\"Senior Management\"].astype(\"bool\")\n",
    "df[\"Gender\"] = df[\"Gender\"].astype(\"category\")\n",
    "df.head(3)"
   ]
  },
  {
   "cell_type": "code",
   "execution_count": null,
   "id": "e9dfbc48",
   "metadata": {},
   "outputs": [],
   "source": [
    "mask1 = df[\"Senior Management\"]\n",
    "mask2 = df[\"Start Date\"] < \"1990-01-01\"\n",
    "df[mask1 | mask2]"
   ]
  },
  {
   "cell_type": "code",
   "execution_count": null,
   "id": "07c30de1",
   "metadata": {},
   "outputs": [],
   "source": [
    "mask1 = df[\"First Name\"] == \"Robert\"\n",
    "mask2 = df[\"Team\"] == \"Client Services\"\n",
    "mask3 = df[\"Start Date\"] > \"2016-06-01\"\n",
    "df[(mask1 & mask2) | mask3]"
   ]
  },
  {
   "cell_type": "markdown",
   "id": "2a921be3",
   "metadata": {},
   "source": [
    "# The .isin() Method"
   ]
  },
  {
   "cell_type": "code",
   "execution_count": null,
   "id": "ce1b5331",
   "metadata": {},
   "outputs": [],
   "source": [
    "df = (\n",
    "    pd.read_csv(\"C:\\\\Users\\\\Maverick\\\\Documents\\\\git\\\\Data-Analysis-With-Pandas-And-Python\\\\datasets\\\\employees.csv\", \n",
    "    parse_dates = [\"Start Date\", \"Last Login Time\"])\n",
    ")\n",
    "\n",
    "df[\"Senior Management\"] = df[\"Senior Management\"].astype(\"bool\")\n",
    "df[\"Gender\"] = df[\"Gender\"].astype(\"category\")\n",
    "df.head(3)"
   ]
  },
  {
   "cell_type": "code",
   "execution_count": null,
   "id": "202fdf7a",
   "metadata": {},
   "outputs": [],
   "source": [
    "mask1 = df[\"Team\"] == \"Legal\"\n",
    "mask2 = df[\"Team\"] == \"Sales\"\n",
    "mask3 = df[\"Team\"] == \"Product\"\n",
    "df[mask1 | mask2 | mask3]"
   ]
  },
  {
   "cell_type": "code",
   "execution_count": null,
   "id": "3ed2963b",
   "metadata": {},
   "outputs": [],
   "source": [
    "# A quicker way to do this using the .isin() method.\n",
    "mask = df[\"Team\"].isin([\"Legal\", \"Sales\", \"Product\"])\n",
    "df[mask]"
   ]
  },
  {
   "cell_type": "markdown",
   "id": "c0d90893",
   "metadata": {},
   "source": [
    "# The .isnull() and .notnull() Methods"
   ]
  },
  {
   "cell_type": "code",
   "execution_count": null,
   "id": "95717660",
   "metadata": {},
   "outputs": [],
   "source": [
    "df = (\n",
    "    pd.read_csv(\"C:\\\\Users\\\\Maverick\\\\Documents\\\\git\\\\Data-Analysis-With-Pandas-And-Python\\\\datasets\\\\employees.csv\", \n",
    "    parse_dates = [\"Start Date\", \"Last Login Time\"])\n",
    ")\n",
    "\n",
    "df[\"Senior Management\"] = df[\"Senior Management\"].astype(\"bool\")\n",
    "df[\"Gender\"] = df[\"Gender\"].astype(\"category\")\n",
    "df.head(3)"
   ]
  },
  {
   "cell_type": "code",
   "execution_count": null,
   "id": "a105505b",
   "metadata": {},
   "outputs": [],
   "source": [
    "# Creates a Boolean Series that returns True for rows that contain NaN.\n",
    "mask = df[\"Team\"].isnull()\n",
    "df[mask]"
   ]
  },
  {
   "cell_type": "code",
   "execution_count": null,
   "id": "d4b4d588",
   "metadata": {},
   "outputs": [],
   "source": [
    "# Creates a Boolean Series that returns True for rows that do not contain NaN.\n",
    "condition = df[\"Gender\"].notnull()\n",
    "df[condition]"
   ]
  },
  {
   "cell_type": "markdown",
   "id": "844b10d4",
   "metadata": {},
   "source": [
    "# The .between() Method"
   ]
  },
  {
   "cell_type": "code",
   "execution_count": null,
   "id": "176e239f",
   "metadata": {},
   "outputs": [],
   "source": [
    "df = (\n",
    "    pd.read_csv(\"C:\\\\Users\\\\Maverick\\\\Documents\\\\git\\\\Data-Analysis-With-Pandas-And-Python\\\\datasets\\\\employees.csv\", \n",
    "    parse_dates = [\"Start Date\", \"Last Login Time\"])\n",
    ")\n",
    "\n",
    "df[\"Senior Management\"] = df[\"Senior Management\"].astype(\"bool\")\n",
    "df[\"Gender\"] = df[\"Gender\"].astype(\"category\")\n",
    "df.head(3)"
   ]
  },
  {
   "cell_type": "code",
   "execution_count": null,
   "id": "9788bcff",
   "metadata": {},
   "outputs": [],
   "source": [
    "# The .between() method returns a Boolean Series that returns True for values within the given range.\n",
    "# This method is inclusive.\n",
    "mask = df[\"Salary\"].between(60000, 70000)\n",
    "df[mask]"
   ]
  },
  {
   "cell_type": "code",
   "execution_count": null,
   "id": "fc2b0e66",
   "metadata": {},
   "outputs": [],
   "source": [
    "mask = df[\"Bonus %\"].between(2.0, 5.0)\n",
    "df[mask]"
   ]
  },
  {
   "cell_type": "code",
   "execution_count": null,
   "id": "e9df94ad",
   "metadata": {},
   "outputs": [],
   "source": [
    "mask = df[\"Start Date\"].between(\"1991-01-01\", \"1992-01-01\")\n",
    "df[mask]"
   ]
  },
  {
   "cell_type": "code",
   "execution_count": null,
   "id": "9bf96733",
   "metadata": {},
   "outputs": [],
   "source": [
    "mask = df[\"Last Login Time\"].between(\"08:30AM\", \"12:00PM\")\n",
    "df[mask]"
   ]
  },
  {
   "cell_type": "markdown",
   "id": "5afdab7f",
   "metadata": {},
   "source": [
    "# The .duplicated() Method"
   ]
  },
  {
   "cell_type": "code",
   "execution_count": null,
   "id": "a649df8c",
   "metadata": {},
   "outputs": [],
   "source": [
    "df = (\n",
    "    pd.read_csv(\"C:\\\\Users\\\\Maverick\\\\Documents\\\\git\\\\Data-Analysis-With-Pandas-And-Python\\\\datasets\\\\employees.csv\", \n",
    "    parse_dates = [\"Start Date\", \"Last Login Time\"])\n",
    ")\n",
    "\n",
    "df[\"Senior Management\"] = df[\"Senior Management\"].astype(\"bool\")\n",
    "df[\"Gender\"] = df[\"Gender\"].astype(\"category\")\n",
    "df.sort_values(\"First Name\", inplace = True)\n",
    "df.head(3)"
   ]
  },
  {
   "cell_type": "code",
   "execution_count": null,
   "id": "63cbdd89",
   "metadata": {},
   "outputs": [],
   "source": [
    "# The .duplicated() extracts rows from our DataFrame that are duplicates.\n",
    "mask = df[\"First Name\"].duplicated()\n",
    "df[mask]"
   ]
  },
  {
   "cell_type": "code",
   "execution_count": null,
   "id": "010b0743",
   "metadata": {},
   "outputs": [],
   "source": [
    "mask = df[\"First Name\"].duplicated(keep = \"last\")\n",
    "df[mask]"
   ]
  },
  {
   "cell_type": "code",
   "execution_count": null,
   "id": "fa45dc35",
   "metadata": {},
   "outputs": [],
   "source": [
    "# The negation symbol ~ is used to swap values. We now have a series of unique first names.\n",
    "mask = ~df[\"First Name\"].duplicated(keep = False)\n",
    "df[mask]"
   ]
  },
  {
   "cell_type": "markdown",
   "id": "16959838",
   "metadata": {},
   "source": [
    "# The .drop_duplicates() Method"
   ]
  },
  {
   "cell_type": "code",
   "execution_count": null,
   "id": "42fe6816",
   "metadata": {},
   "outputs": [],
   "source": [
    "df = (\n",
    "    pd.read_csv(\"C:\\\\Users\\\\Maverick\\\\Documents\\\\git\\\\Data-Analysis-With-Pandas-And-Python\\\\datasets\\\\employees.csv\", \n",
    "    parse_dates = [\"Start Date\", \"Last Login Time\"])\n",
    ")\n",
    "\n",
    "df[\"Senior Management\"] = df[\"Senior Management\"].astype(\"bool\")\n",
    "df[\"Gender\"] = df[\"Gender\"].astype(\"category\")\n",
    "df.sort_values(\"First Name\", inplace = True)\n",
    "df.head(3)"
   ]
  },
  {
   "cell_type": "code",
   "execution_count": null,
   "id": "b78fe070",
   "metadata": {},
   "outputs": [],
   "source": [
    "len(df)"
   ]
  },
  {
   "cell_type": "code",
   "execution_count": null,
   "id": "786871ae",
   "metadata": {},
   "outputs": [],
   "source": [
    "# We get the same length because it doesn't matter of a duplicate appears in a column.\n",
    "# All cells have to be identical across rows to be dropped.\n",
    "len(df.drop_duplicates())"
   ]
  },
  {
   "cell_type": "code",
   "execution_count": null,
   "id": "1f9ff449",
   "metadata": {},
   "outputs": [],
   "source": [
    "# If we want to delete a row based on a single column duplicate, we must use the subset parameter.\n",
    "# Keep is keeping the first occurrence of duplicates in the \"First Name\" column.\n",
    "df.drop_duplicates(subset = [\"First Name\"], keep = \"first\")"
   ]
  },
  {
   "cell_type": "code",
   "execution_count": null,
   "id": "8e9c104e",
   "metadata": {},
   "outputs": [],
   "source": [
    "# Doesn't keep any duplicates at all.\n",
    "df.drop_duplicates(subset = [\"First Name\"], keep = False)"
   ]
  },
  {
   "cell_type": "code",
   "execution_count": null,
   "id": "dac6d4a4",
   "metadata": {},
   "outputs": [],
   "source": [
    "# Wipes everything because no element in Team occurs only once.\n",
    "df.drop_duplicates(subset = [\"Team\"], keep = False)"
   ]
  },
  {
   "cell_type": "code",
   "execution_count": null,
   "id": "2484c301",
   "metadata": {},
   "outputs": [],
   "source": [
    "df.drop_duplicates(subset = [\"First Name\", \"Team\"], inplace = True)"
   ]
  },
  {
   "cell_type": "code",
   "execution_count": null,
   "id": "35aced49",
   "metadata": {},
   "outputs": [],
   "source": [
    "len(df)"
   ]
  },
  {
   "cell_type": "markdown",
   "id": "34911c8e",
   "metadata": {},
   "source": [
    "# The .unique() and .nunique() Methods"
   ]
  },
  {
   "cell_type": "code",
   "execution_count": null,
   "id": "0d9c250b",
   "metadata": {},
   "outputs": [],
   "source": [
    "df = (\n",
    "    pd.read_csv(\"C:\\\\Users\\\\Maverick\\\\Documents\\\\git\\\\Data-Analysis-With-Pandas-And-Python\\\\datasets\\\\employees.csv\", \n",
    "    parse_dates = [\"Start Date\", \"Last Login Time\"])\n",
    ")\n",
    "\n",
    "df[\"Senior Management\"] = df[\"Senior Management\"].astype(\"bool\")\n",
    "df[\"Gender\"] = df[\"Gender\"].astype(\"category\")\n",
    "df.head(3)"
   ]
  },
  {
   "cell_type": "code",
   "execution_count": null,
   "id": "4c048061",
   "metadata": {},
   "outputs": [],
   "source": [
    "df[\"Gender\"].unique()\n",
    "df[\"Team\"].unique()"
   ]
  },
  {
   "cell_type": "code",
   "execution_count": null,
   "id": "4e1562c6",
   "metadata": {},
   "outputs": [],
   "source": [
    "len(df[\"Team\"].unique())"
   ]
  },
  {
   "cell_type": "code",
   "execution_count": null,
   "id": "5afe722a",
   "metadata": {},
   "outputs": [],
   "source": [
    "df[\"Team\"].nunique()"
   ]
  },
  {
   "cell_type": "code",
   "execution_count": null,
   "id": "9c823959",
   "metadata": {},
   "outputs": [],
   "source": [
    "df[\"Team\"].nunique(dropna = False)"
   ]
  }
 ],
 "metadata": {
  "kernelspec": {
   "display_name": "Python 3 (ipykernel)",
   "language": "python",
   "name": "python3"
  },
  "language_info": {
   "codemirror_mode": {
    "name": "ipython",
    "version": 3
   },
   "file_extension": ".py",
   "mimetype": "text/x-python",
   "name": "python",
   "nbconvert_exporter": "python",
   "pygments_lexer": "ipython3",
   "version": "3.10.4"
  }
 },
 "nbformat": 4,
 "nbformat_minor": 5
}
