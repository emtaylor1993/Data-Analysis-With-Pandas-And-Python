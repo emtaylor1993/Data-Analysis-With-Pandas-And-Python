{
 "cells": [
  {
   "cell_type": "markdown",
   "id": "c772d52c",
   "metadata": {},
   "source": [
    "# Import Pandas Library"
   ]
  },
  {
   "cell_type": "code",
   "execution_count": null,
   "id": "eeb2d25d",
   "metadata": {},
   "outputs": [],
   "source": [
    "import pandas as pd"
   ]
  },
  {
   "cell_type": "markdown",
   "id": "4082f7a9",
   "metadata": {},
   "source": [
    "# Pass a URL to the <code>pd.read_csv()</code> Method"
   ]
  },
  {
   "cell_type": "code",
   "execution_count": null,
   "id": "1c8e1afc",
   "metadata": {},
   "outputs": [],
   "source": [
    "# The advantage of this is when you're working with a Dataset that is continuously being\n",
    "# updated. Using the URL will always fetch the latest updated Dataset!\n",
    "url = \"https://data.cityofnewyork.us/api/views/25th-nujf/rows.csv\"\n",
    "baby_names = pd.read_csv(url)\n",
    "baby_names.head(6)"
   ]
  },
  {
   "cell_type": "markdown",
   "id": "1df5eebd",
   "metadata": {},
   "source": [
    "# Quick Object Conversions"
   ]
  },
  {
   "cell_type": "code",
   "execution_count": null,
   "id": "c26174c2",
   "metadata": {},
   "outputs": [],
   "source": [
    "url = \"https://data.cityofnewyork.us/api/views/25th-nujf/rows.csv\"\n",
    "baby_names = pd.read_csv(url)\n",
    "baby_names.head()"
   ]
  },
  {
   "cell_type": "code",
   "execution_count": null,
   "id": "5a9b7c5e",
   "metadata": {},
   "outputs": [],
   "source": [
    "baby_names[\"Child's First Name\"].to_frame()"
   ]
  },
  {
   "cell_type": "code",
   "execution_count": null,
   "id": "f566f5c0",
   "metadata": {},
   "outputs": [],
   "source": [
    "baby_names[\"Child's First Name\"].tolist()"
   ]
  },
  {
   "cell_type": "code",
   "execution_count": null,
   "id": "36b8d24c",
   "metadata": {},
   "outputs": [],
   "source": [
    "baby_names[\"Child's First Name\"].to_dict()"
   ]
  },
  {
   "cell_type": "code",
   "execution_count": null,
   "id": "c5a36fa0",
   "metadata": {},
   "outputs": [],
   "source": [
    "\"!\".join([\"a\", \"b\", \"c\"])"
   ]
  },
  {
   "cell_type": "code",
   "execution_count": null,
   "id": "dcf0a2a1",
   "metadata": {},
   "outputs": [],
   "source": [
    "\", \".join(baby_names[\"Child's First Name\"].str.title().drop_duplicates().sort_values())"
   ]
  },
  {
   "cell_type": "markdown",
   "id": "497e0414",
   "metadata": {},
   "source": [
    "# Export CSV File with the <code>.to_csv()</code> Method"
   ]
  },
  {
   "cell_type": "code",
   "execution_count": null,
   "id": "75ceca60",
   "metadata": {},
   "outputs": [],
   "source": [
    "url = \"https://data.cityofnewyork.us/api/views/25th-nujf/rows.csv\"\n",
    "baby_names = pd.read_csv(url)\n",
    "baby_names.head()"
   ]
  },
  {
   "cell_type": "code",
   "execution_count": null,
   "id": "532acc2b",
   "metadata": {},
   "outputs": [],
   "source": [
    "baby_names.to_csv(\"NYC_Baby_Names.csv\", index = False, columns = [\"Gender\", \"Ethnicity\", \"Child's First Name\"], encoding = \"utf-8\")"
   ]
  },
  {
   "cell_type": "markdown",
   "id": "1433bbd0",
   "metadata": {},
   "source": [
    "# Import Excel File into Pandas"
   ]
  },
  {
   "cell_type": "code",
   "execution_count": null,
   "id": "1fa55b27",
   "metadata": {},
   "outputs": [],
   "source": [
    "df = (\n",
    "    pd.read_excel(\"C:\\\\Users\\\\Maverick\\\\Documents\\\\git\\\\Data-Analysis-With-Pandas-And-Python\\\\datasets\\\\Data - Single Worksheet.xlsx\")\n",
    ")\n",
    "\n",
    "df"
   ]
  },
  {
   "cell_type": "code",
   "execution_count": null,
   "id": "a4beaa3a",
   "metadata": {},
   "outputs": [],
   "source": [
    "# By default, Pandas will target the first worksheet. To get around this, use the sheet_name parameter.\n",
    "df = (\n",
    "    pd.read_excel(\"C:\\\\Users\\\\Maverick\\\\Documents\\\\git\\\\Data-Analysis-With-Pandas-And-Python\\\\datasets\\\\Data - Multiple Worksheets.xlsx\",\n",
    "    sheet_name = \"Data 2\")\n",
    ")\n",
    "\n",
    "df"
   ]
  },
  {
   "cell_type": "code",
   "execution_count": null,
   "id": "e0f3f74e",
   "metadata": {},
   "outputs": [],
   "source": [
    "# This will import multiple worksheets. They'll be stored into a Python Dictionary\n",
    "data = (\n",
    "    pd.read_excel(\"C:\\\\Users\\\\Maverick\\\\Documents\\\\git\\\\Data-Analysis-With-Pandas-And-Python\\\\datasets\\\\Data - Multiple Worksheets.xlsx\",\n",
    "    sheet_name = [0, 1])\n",
    ")\n",
    "\n",
    "data"
   ]
  },
  {
   "cell_type": "code",
   "execution_count": null,
   "id": "bfd64359",
   "metadata": {},
   "outputs": [],
   "source": [
    "type(data)"
   ]
  },
  {
   "cell_type": "code",
   "execution_count": null,
   "id": "4096af5d",
   "metadata": {},
   "outputs": [],
   "source": [
    "data[0]\n",
    "data[1]"
   ]
  },
  {
   "cell_type": "code",
   "execution_count": null,
   "id": "0f1cf30d",
   "metadata": {},
   "outputs": [],
   "source": [
    "# Passing in None, Pandas will import everything.\n",
    "data = (\n",
    "    pd.read_excel(\"C:\\\\Users\\\\Maverick\\\\Documents\\\\git\\\\Data-Analysis-With-Pandas-And-Python\\\\datasets\\\\Data - Multiple Worksheets.xlsx\",\n",
    "    sheet_name = None)\n",
    ")\n",
    "\n",
    "data"
   ]
  },
  {
   "cell_type": "markdown",
   "id": "ff40e942",
   "metadata": {},
   "source": [
    "# Export Excel File"
   ]
  },
  {
   "cell_type": "code",
   "execution_count": null,
   "id": "3b1bf370",
   "metadata": {},
   "outputs": [],
   "source": [
    "url = \"https://data.cityofnewyork.us/api/views/25th-nujf/rows.csv\"\n",
    "baby_names = pd.read_csv(url)\n",
    "baby_names.head()"
   ]
  },
  {
   "cell_type": "code",
   "execution_count": null,
   "id": "deb30713",
   "metadata": {},
   "outputs": [],
   "source": [
    "girls = baby_names[baby_names[\"Gender\"] == \"FEMALE\"]\n",
    "boys = baby_names[baby_names[\"Gender\"] == \"MALE\"]"
   ]
  },
  {
   "cell_type": "code",
   "execution_count": null,
   "id": "1981aaf9",
   "metadata": {},
   "outputs": [],
   "source": [
    "excel_file = pd.ExcelWriter(\"Baby_Names.xlsx\")"
   ]
  },
  {
   "cell_type": "code",
   "execution_count": null,
   "id": "9ee6f93f",
   "metadata": {},
   "outputs": [],
   "source": [
    "girls.to_excel(excel_file, sheet_name = \"Girls\", index = False)\n",
    "boys.to_excel(excel_file, sheet_name = \"Boys\", index = False, columns = [\"Year of Birth\", \"Gender\", \"Ethnicity\"])"
   ]
  },
  {
   "cell_type": "code",
   "execution_count": null,
   "id": "2dccd60b",
   "metadata": {},
   "outputs": [],
   "source": [
    "excel_file.save()"
   ]
  }
 ],
 "metadata": {
  "kernelspec": {
   "display_name": "Python 3 (ipykernel)",
   "language": "python",
   "name": "python3"
  },
  "language_info": {
   "codemirror_mode": {
    "name": "ipython",
    "version": 3
   },
   "file_extension": ".py",
   "mimetype": "text/x-python",
   "name": "python",
   "nbconvert_exporter": "python",
   "pygments_lexer": "ipython3",
   "version": "3.10.4"
  }
 },
 "nbformat": 4,
 "nbformat_minor": 5
}
