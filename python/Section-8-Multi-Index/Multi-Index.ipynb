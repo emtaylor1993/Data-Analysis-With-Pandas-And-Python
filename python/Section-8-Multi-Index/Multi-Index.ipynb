{
 "cells": [
  {
   "cell_type": "markdown",
   "id": "4781de4a",
   "metadata": {},
   "source": [
    "# Import Pandas Library and Data"
   ]
  },
  {
   "cell_type": "code",
   "execution_count": null,
   "id": "46d9b33b",
   "metadata": {},
   "outputs": [],
   "source": [
    "import pandas as pd"
   ]
  },
  {
   "cell_type": "code",
   "execution_count": null,
   "id": "3efd5df1",
   "metadata": {},
   "outputs": [],
   "source": [
    "bigmac = (\n",
    "    pd.read_csv(\"C:\\\\Users\\\\Maverick\\\\Documents\\\\git\\\\Data-Analysis-With-Pandas-And-Python\\\\datasets\\\\bigmac.csv\",\n",
    "    parse_dates = [\"Date\"])\n",
    ")\n",
    "\n",
    "bigmac.head(3)"
   ]
  },
  {
   "cell_type": "code",
   "execution_count": null,
   "id": "88809809",
   "metadata": {},
   "outputs": [],
   "source": [
    "bigmac.dtypes"
   ]
  },
  {
   "cell_type": "code",
   "execution_count": null,
   "id": "7a378a4c",
   "metadata": {},
   "outputs": [],
   "source": [
    "bigmac.info()"
   ]
  },
  {
   "cell_type": "markdown",
   "id": "8199bda5",
   "metadata": {},
   "source": [
    "# Create a Multi-Index witih the <code>.set_index()</code> Method"
   ]
  },
  {
   "cell_type": "code",
   "execution_count": null,
   "id": "84c28ee7",
   "metadata": {},
   "outputs": [],
   "source": [
    "bigmac = (\n",
    "    pd.read_csv(\"C:\\\\Users\\\\Maverick\\\\Documents\\\\git\\\\Data-Analysis-With-Pandas-And-Python\\\\datasets\\\\bigmac.csv\",\n",
    "    parse_dates = [\"Date\"])\n",
    ")\n",
    "\n",
    "bigmac.head(3)"
   ]
  },
  {
   "cell_type": "code",
   "execution_count": null,
   "id": "8424a7b3",
   "metadata": {},
   "outputs": [],
   "source": [
    "bigmac.nunique()"
   ]
  },
  {
   "cell_type": "code",
   "execution_count": null,
   "id": "132108f9",
   "metadata": {},
   "outputs": [],
   "source": [
    "# We can have multiple layers of indexes by feeding a list into the .set_index() Method.\n",
    "bigmac.set_index(keys = [\"Country\", \"Date\"])\n",
    "bigmac.set_index([\"Date\", \"Country\"], inplace = True)\n",
    "bigmac.head(3)"
   ]
  },
  {
   "cell_type": "code",
   "execution_count": null,
   "id": "2cb1c208",
   "metadata": {},
   "outputs": [],
   "source": [
    "bigmac.sort_index(inplace = True)\n",
    "bigmac.head(3)"
   ]
  },
  {
   "cell_type": "code",
   "execution_count": null,
   "id": "6f0abcda",
   "metadata": {},
   "outputs": [],
   "source": [
    "bigmac.index\n",
    "bigmac.index.names"
   ]
  },
  {
   "cell_type": "code",
   "execution_count": null,
   "id": "29f47840",
   "metadata": {},
   "outputs": [],
   "source": [
    "type(bigmac.index)\n",
    "bigmac.index[10]"
   ]
  },
  {
   "cell_type": "markdown",
   "id": "d0bf22a1",
   "metadata": {},
   "source": [
    "# Extract Index Level Values with the <code>.get_level_values()</code> Method"
   ]
  },
  {
   "cell_type": "code",
   "execution_count": null,
   "id": "6084f661",
   "metadata": {},
   "outputs": [],
   "source": [
    "# We can set MultiIndexes within the read_csv statement.\n",
    "bigmac = (\n",
    "    pd.read_csv(\"C:\\\\Users\\\\Maverick\\\\Documents\\\\git\\\\Data-Analysis-With-Pandas-And-Python\\\\datasets\\\\bigmac.csv\",\n",
    "    parse_dates = [\"Date\"],\n",
    "    index_col = [\"Date\", \"Country\"])\n",
    ")\n",
    "\n",
    "bigmac.sort_index(inplace = True)\n",
    "bigmac.head(3)"
   ]
  },
  {
   "cell_type": "code",
   "execution_count": null,
   "id": "f2d4f62c",
   "metadata": {},
   "outputs": [],
   "source": [
    "# The .get_level_values() Method can return a list of values for the level passed in.\n",
    "bigmac.index.get_level_values(\"Date\")\n",
    "bigmac.index.get_level_values(0)"
   ]
  },
  {
   "cell_type": "code",
   "execution_count": null,
   "id": "712de4c0",
   "metadata": {},
   "outputs": [],
   "source": [
    "bigmac.index.get_level_values(\"Country\")\n",
    "bigmac.index.get_level_values(1)"
   ]
  },
  {
   "cell_type": "markdown",
   "id": "8af3f169",
   "metadata": {},
   "source": [
    "# Change Index Level Name with the <code>.set_names()</code> Method"
   ]
  },
  {
   "cell_type": "code",
   "execution_count": null,
   "id": "f4781ab2",
   "metadata": {},
   "outputs": [],
   "source": [
    "bigmac = (\n",
    "    pd.read_csv(\"C:\\\\Users\\\\Maverick\\\\Documents\\\\git\\\\Data-Analysis-With-Pandas-And-Python\\\\datasets\\\\bigmac.csv\",\n",
    "    parse_dates = [\"Date\"],\n",
    "    index_col = [\"Date\", \"Country\"])\n",
    ")\n",
    "\n",
    "bigmac.sort_index(inplace = True)\n",
    "bigmac.head(3)"
   ]
  },
  {
   "cell_type": "code",
   "execution_count": null,
   "id": "e4adda5b",
   "metadata": {},
   "outputs": [],
   "source": [
    "# We can change the name of the indxes by using the .set_names() method.\n",
    "bigmac.index.set_names([\"Day\", \"Location\"], inplace = True)\n",
    "bigmac.head(3)"
   ]
  },
  {
   "cell_type": "code",
   "execution_count": null,
   "id": "d1427bc2",
   "metadata": {},
   "outputs": [],
   "source": [
    "# If you only want to change one name, use the level parameter.\n",
    "bigmac.index.set_names(names = \"Date\", level = 0)\n",
    "bigmac.index.set_names(names = \"Date\", level = \"Day\", inplace = True)\n",
    "bigmac.head(3)"
   ]
  },
  {
   "cell_type": "markdown",
   "id": "73c72eec",
   "metadata": {},
   "source": [
    "# The <code>.sort_index()</code> Method on a Multi-Index DataFrame"
   ]
  },
  {
   "cell_type": "code",
   "execution_count": null,
   "id": "bf04218b",
   "metadata": {},
   "outputs": [],
   "source": [
    "bigmac = (\n",
    "    pd.read_csv(\"C:\\\\Users\\\\Maverick\\\\Documents\\\\git\\\\Data-Analysis-With-Pandas-And-Python\\\\datasets\\\\bigmac.csv\",\n",
    "    parse_dates = [\"Date\"],\n",
    "    index_col = [\"Date\", \"Country\"])\n",
    ")\n",
    "\n",
    "bigmac.head(3)"
   ]
  },
  {
   "cell_type": "code",
   "execution_count": null,
   "id": "ffccc943",
   "metadata": {},
   "outputs": [],
   "source": [
    "# The outermost layer will be sorted first, followed by the inner layers.\n",
    "bigmac.sort_index()\n",
    "bigmac.sort_index(ascending = True)\n",
    "bigmac.sort_index(ascending = False)\n",
    "bigmac.sort_index(ascending = [True, False])\n",
    "bigmac.sort_index(ascending = [False, True], inplace = True)\n",
    "bigmac.head()"
   ]
  },
  {
   "cell_type": "code",
   "execution_count": null,
   "id": "3c8a12d5",
   "metadata": {},
   "outputs": [],
   "source": [
    "# We can use the level parameter to access the level we want to sort.\n",
    "bigmac.sort_index(level = 0)\n",
    "bigmac.sort_index(level = \"Date\")\n",
    "bigmac.sort_index(level = 1)\n",
    "bigmac.sort_index(level = \"Country\")\n",
    "bigmac.sort_index(level = \"Country\", ascending = False)"
   ]
  },
  {
   "cell_type": "markdown",
   "id": "34fc0941",
   "metadata": {},
   "source": [
    "# Extract Rows from a Multi-Index DataFrame"
   ]
  },
  {
   "cell_type": "code",
   "execution_count": null,
   "id": "a565b6f0",
   "metadata": {},
   "outputs": [],
   "source": [
    "bigmac = (\n",
    "    pd.read_csv(\"C:\\\\Users\\\\Maverick\\\\Documents\\\\git\\\\Data-Analysis-With-Pandas-And-Python\\\\datasets\\\\bigmac.csv\",\n",
    "    parse_dates = [\"Date\"],\n",
    "    index_col = [\"Date\", \"Country\"])\n",
    ")\n",
    "\n",
    "bigmac.sort_index(inplace = True)\n",
    "bigmac.head(3)"
   ]
  },
  {
   "cell_type": "code",
   "execution_count": null,
   "id": "c34beb78",
   "metadata": {},
   "outputs": [],
   "source": [
    "# The less desirable method.\n",
    "bigmac.loc[\"2010-01-01\", \"Argentina\"]\n",
    "bigmac.loc[\"2010-01-01\", \"Price in US Dollars\"]"
   ]
  },
  {
   "cell_type": "code",
   "execution_count": null,
   "id": "8addbc4b",
   "metadata": {},
   "outputs": [],
   "source": [
    "bigmac.loc[(\"2010-01-01\", \"Argentina\"), [\"Price in US Dollars\", \"Price in US Dollars\"]]\n",
    "bigmac.loc[(\"2010-01-01\",)]"
   ]
  },
  {
   "cell_type": "code",
   "execution_count": null,
   "id": "350f7742",
   "metadata": {},
   "outputs": [],
   "source": [
    "# Multi-Indexes do not affect .iloc[] at all. The desirable method.\n",
    "bigmac.iloc[0]\n",
    "bigmac.iloc[10]\n",
    "bigmac.iloc[[10, 20, 30]]\n",
    "bigmac.iloc[[10, 20, 30, 250]]"
   ]
  },
  {
   "cell_type": "markdown",
   "id": "14b3202e",
   "metadata": {},
   "source": [
    "# The <code>.transpose()</code> Method"
   ]
  },
  {
   "cell_type": "code",
   "execution_count": null,
   "id": "89749996",
   "metadata": {},
   "outputs": [],
   "source": [
    "bigmac = (\n",
    "    pd.read_csv(\"C:\\\\Users\\\\Maverick\\\\Documents\\\\git\\\\Data-Analysis-With-Pandas-And-Python\\\\datasets\\\\bigmac.csv\",\n",
    "    parse_dates = [\"Date\"],\n",
    "    index_col = [\"Date\", \"Country\"])\n",
    ")\n",
    "\n",
    "bigmac.sort_index(inplace = True)\n",
    "bigmac.head(3)"
   ]
  },
  {
   "cell_type": "code",
   "execution_count": null,
   "id": "8d91d625",
   "metadata": {},
   "outputs": [],
   "source": [
    "# The .transpose() method swaps the row index with the column index.\n",
    "# Does not mutate the DataFrame or have an inplace parameter.\n",
    "bigmac = bigmac.transpose()\n",
    "bigmac.head(3)"
   ]
  },
  {
   "cell_type": "code",
   "execution_count": null,
   "id": "983913f1",
   "metadata": {},
   "outputs": [],
   "source": [
    "bigmac.loc[(\"Price in US Dollars\",), (\"2010-01-01\", \"Sri Lanka\") : (\"2010-01-01\", \"Ukraine\")]"
   ]
  },
  {
   "cell_type": "markdown",
   "id": "55469f51",
   "metadata": {},
   "source": [
    "# The <code>.swaplevel()</code> Method"
   ]
  },
  {
   "cell_type": "code",
   "execution_count": null,
   "id": "9f007494",
   "metadata": {},
   "outputs": [],
   "source": [
    "bigmac = (\n",
    "    pd.read_csv(\"C:\\\\Users\\\\Maverick\\\\Documents\\\\git\\\\Data-Analysis-With-Pandas-And-Python\\\\datasets\\\\bigmac.csv\",\n",
    "    parse_dates = [\"Date\"],\n",
    "    index_col = [\"Date\", \"Country\"])\n",
    ")\n",
    "\n",
    "bigmac.sort_index(inplace = True)\n",
    "bigmac.head(3)"
   ]
  },
  {
   "cell_type": "code",
   "execution_count": null,
   "id": "5413ea96",
   "metadata": {},
   "outputs": [],
   "source": [
    "bigmac.swaplevel()\n",
    "bigmac.swaplevel(\"Date\", \"Country\")\n",
    "bigmac.swaplevel(\"Country\", \"Date\")\n",
    "bigmac.swaplevel(0, 1)\n",
    "bigmac.swaplevel(1, 0)"
   ]
  },
  {
   "cell_type": "code",
   "execution_count": null,
   "id": "9a2ecda0",
   "metadata": {},
   "outputs": [],
   "source": [
    "bigmac = bigmac.swaplevel(1, 0)\n",
    "bigmac.head(3)"
   ]
  },
  {
   "cell_type": "markdown",
   "id": "4ae3d1d1",
   "metadata": {},
   "source": [
    "# The <code>.stack()</code> Method"
   ]
  },
  {
   "cell_type": "code",
   "execution_count": null,
   "id": "4de41698",
   "metadata": {},
   "outputs": [],
   "source": [
    "world = (\n",
    "    pd.read_csv(\"C:\\\\Users\\\\Maverick\\\\Documents\\\\git\\\\Data-Analysis-With-Pandas-And-Python\\\\datasets\\\\worldstats.csv\",\n",
    "    index_col = [\"country\", \"year\"])\n",
    ")\n",
    "\n",
    "world.head(3)"
   ]
  },
  {
   "cell_type": "code",
   "execution_count": null,
   "id": "c5188d1e",
   "metadata": {},
   "outputs": [],
   "source": [
    "# The .stack() method combines multiple columns into one.\n",
    "# Using the .to_frame() method can change a Series to a DataFrame.\n",
    "world.stack().to_frame()"
   ]
  },
  {
   "cell_type": "markdown",
   "id": "1d7ea7f5",
   "metadata": {},
   "source": [
    "# The <code>.unstack()</code> Method, Part 1"
   ]
  },
  {
   "cell_type": "code",
   "execution_count": null,
   "id": "1e5b073c",
   "metadata": {},
   "outputs": [],
   "source": [
    "world = (\n",
    "    pd.read_csv(\"C:\\\\Users\\\\Maverick\\\\Documents\\\\git\\\\Data-Analysis-With-Pandas-And-Python\\\\datasets\\\\worldstats.csv\",\n",
    "    index_col = [\"country\", \"year\"])\n",
    ")\n",
    "\n",
    "world.head(3)"
   ]
  },
  {
   "cell_type": "code",
   "execution_count": null,
   "id": "7d613bb0",
   "metadata": {},
   "outputs": [],
   "source": [
    "s = world.stack()\n",
    "s.head(3)"
   ]
  },
  {
   "cell_type": "code",
   "execution_count": null,
   "id": "f151a66c",
   "metadata": {},
   "outputs": [],
   "source": [
    "# Predictably, reverses the stack() method.\n",
    "s.unstack()"
   ]
  },
  {
   "cell_type": "code",
   "execution_count": null,
   "id": "cd17aacf",
   "metadata": {},
   "outputs": [],
   "source": [
    "# You can method chain unstack as long as you have multiple indexes.\n",
    "s.unstack().unstack()"
   ]
  },
  {
   "cell_type": "code",
   "execution_count": null,
   "id": "60ddb62d",
   "metadata": {},
   "outputs": [],
   "source": [
    "s.unstack().unstack().unstack()"
   ]
  },
  {
   "cell_type": "markdown",
   "id": "43b472e5",
   "metadata": {},
   "source": [
    "# The <code>.unstack()</code> Method, Part 2"
   ]
  },
  {
   "cell_type": "code",
   "execution_count": null,
   "id": "1e725641",
   "metadata": {},
   "outputs": [],
   "source": [
    "world = (\n",
    "    pd.read_csv(\"C:\\\\Users\\\\Maverick\\\\Documents\\\\git\\\\Data-Analysis-With-Pandas-And-Python\\\\datasets\\\\worldstats.csv\",\n",
    "    index_col = [\"country\", \"year\"])\n",
    ")\n",
    "\n",
    "world.head(3)"
   ]
  },
  {
   "cell_type": "code",
   "execution_count": null,
   "id": "88ccce04",
   "metadata": {},
   "outputs": [],
   "source": [
    "s = world.stack()\n",
    "s.head(3)"
   ]
  },
  {
   "cell_type": "code",
   "execution_count": null,
   "id": "bed67708",
   "metadata": {},
   "outputs": [],
   "source": [
    "s.unstack(-1)\n",
    "s.unstack(2)\n",
    "\n",
    "s.unstack(-2)\n",
    "s.unstack(1)\n",
    "\n",
    "s.unstack(-3)\n",
    "s.unstack(0)"
   ]
  },
  {
   "cell_type": "markdown",
   "id": "dd27a19a",
   "metadata": {},
   "source": [
    "# The <code>.unstack()</code> Method, Part 3"
   ]
  },
  {
   "cell_type": "code",
   "execution_count": null,
   "id": "af2d2311",
   "metadata": {},
   "outputs": [],
   "source": [
    "world = (\n",
    "    pd.read_csv(\"C:\\\\Users\\\\Maverick\\\\Documents\\\\git\\\\Data-Analysis-With-Pandas-And-Python\\\\datasets\\\\worldstats.csv\",\n",
    "    index_col = [\"country\", \"year\"])\n",
    ")\n",
    "\n",
    "s = world.stack()\n",
    "s.head(3)"
   ]
  },
  {
   "cell_type": "code",
   "execution_count": null,
   "id": "f0b81ef7",
   "metadata": {},
   "outputs": [],
   "source": [
    "# The .unstack() method supports lists as well.\n",
    "s.unstack(level = [1, 0])\n",
    "s.unstack(level = [\"country\", \"year\"])"
   ]
  },
  {
   "cell_type": "code",
   "execution_count": null,
   "id": "1bbe4384",
   "metadata": {},
   "outputs": [],
   "source": [
    "# The method will place NaN for values that do not exist.\n",
    "s = s.unstack(\"year\", fill_value = 0)\n",
    "s.head()"
   ]
  },
  {
   "cell_type": "markdown",
   "id": "dad177d8",
   "metadata": {},
   "source": [
    "# The <code>.pivot()</code> Method"
   ]
  },
  {
   "cell_type": "code",
   "execution_count": null,
   "id": "ac1f2866",
   "metadata": {},
   "outputs": [],
   "source": [
    "sales = (\n",
    "    pd.read_csv(\"C:\\\\Users\\\\Maverick\\\\Documents\\\\git\\\\Data-Analysis-With-Pandas-And-Python\\\\datasets\\\\salesmen.csv\",\n",
    "    parse_dates = [\"Date\"])\n",
    ")\n",
    "\n",
    "sales[\"Salesman\"] = sales[\"Salesman\"].astype(\"category\")\n",
    "sales.head(3)"
   ]
  },
  {
   "cell_type": "code",
   "execution_count": null,
   "id": "1daf923f",
   "metadata": {},
   "outputs": [],
   "source": [
    "sales[\"Salesman\"].value_counts()"
   ]
  },
  {
   "cell_type": "code",
   "execution_count": null,
   "id": "9805fbcf",
   "metadata": {},
   "outputs": [],
   "source": [
    "# The pivot() method can be used to better represent sets of data.\n",
    "sales.pivot(index = \"Date\", columns = \"Salesman\", values = \"Revenue\")"
   ]
  },
  {
   "cell_type": "markdown",
   "id": "85c1294a",
   "metadata": {},
   "source": [
    "# The <code>.pivot_table()</code> Method"
   ]
  },
  {
   "cell_type": "code",
   "execution_count": null,
   "id": "3d62c6eb",
   "metadata": {},
   "outputs": [],
   "source": [
    "foods = (\n",
    "    pd.read_csv(\"C:\\\\Users\\\\Maverick\\\\Documents\\\\git\\\\Data-Analysis-With-Pandas-And-Python\\\\datasets\\\\foods.csv\")\n",
    ")\n",
    "\n",
    "foods.head(3)"
   ]
  },
  {
   "cell_type": "code",
   "execution_count": null,
   "id": "fc973ad1",
   "metadata": {},
   "outputs": [],
   "source": [
    "foods.pivot_table(values = \"Spend\", index = [\"Gender\", \"Item\"], columns = [\"Frequency\", \"City\"], aggfunc = \"sum\")"
   ]
  },
  {
   "cell_type": "code",
   "execution_count": null,
   "id": "94ba7f1c",
   "metadata": {},
   "outputs": [],
   "source": [
    "pd.pivot_table(data = foods, values = \"Spend\", index = [\"Gender\", \"Item\"], columns = [\"Frequency\", \"City\"], aggfunc = \"sum\")"
   ]
  },
  {
   "cell_type": "markdown",
   "id": "6f75a9b9",
   "metadata": {},
   "source": [
    "# The <code>pd.melt()</code> Method"
   ]
  },
  {
   "cell_type": "code",
   "execution_count": null,
   "id": "a985b49f",
   "metadata": {},
   "outputs": [],
   "source": [
    "sales = (\n",
    "    pd.read_csv(\"C:\\\\Users\\\\Maverick\\\\Documents\\\\git\\\\Data-Analysis-With-Pandas-And-Python\\\\datasets\\\\quarters.csv\")\n",
    ")\n",
    "\n",
    "sales"
   ]
  },
  {
   "cell_type": "code",
   "execution_count": null,
   "id": "82825edb",
   "metadata": {},
   "outputs": [],
   "source": [
    "# The opposite of the pivot_table() method.\n",
    "pd.melt(sales, id_vars = \"Salesman\", var_name = \"Quarter\", value_name = \"Revenue\")"
   ]
  },
  {
   "cell_type": "code",
   "execution_count": null,
   "id": "9d1f7af8",
   "metadata": {},
   "outputs": [],
   "source": []
  },
  {
   "cell_type": "code",
   "execution_count": null,
   "id": "524a8283",
   "metadata": {},
   "outputs": [],
   "source": []
  },
  {
   "cell_type": "code",
   "execution_count": null,
   "id": "2010cb87",
   "metadata": {},
   "outputs": [],
   "source": []
  },
  {
   "cell_type": "code",
   "execution_count": null,
   "id": "943b48ab",
   "metadata": {},
   "outputs": [],
   "source": []
  }
 ],
 "metadata": {
  "kernelspec": {
   "display_name": "Python 3 (ipykernel)",
   "language": "python",
   "name": "python3"
  },
  "language_info": {
   "codemirror_mode": {
    "name": "ipython",
    "version": 3
   },
   "file_extension": ".py",
   "mimetype": "text/x-python",
   "name": "python",
   "nbconvert_exporter": "python",
   "pygments_lexer": "ipython3",
   "version": "3.10.4"
  }
 },
 "nbformat": 4,
 "nbformat_minor": 5
}
