{
 "cells": [
  {
   "cell_type": "markdown",
   "id": "fa264ae0",
   "metadata": {},
   "source": [
    "# Create a Series Object from a Python List"
   ]
  },
  {
   "cell_type": "code",
   "execution_count": null,
   "id": "2e16f07d",
   "metadata": {},
   "outputs": [],
   "source": [
    "import pandas as pd"
   ]
  },
  {
   "cell_type": "code",
   "execution_count": null,
   "id": "75b9e13f",
   "metadata": {},
   "outputs": [],
   "source": [
    "# A pandas series is a more powerful version of a Python list.\n",
    "ice_cream = [\"Chocolate\", \"Vanilla\", \"Strawberry\", \"Rum Raisin\"]\n",
    "pd.Series(ice_cream)"
   ]
  },
  {
   "cell_type": "code",
   "execution_count": null,
   "id": "081b27b8",
   "metadata": {},
   "outputs": [],
   "source": [
    "lottery = [4, 8, 15, 16, 23, 42]\n",
    "pd.Series(lottery)"
   ]
  },
  {
   "cell_type": "code",
   "execution_count": null,
   "id": "ea41d7a6",
   "metadata": {},
   "outputs": [],
   "source": [
    "registrations = [True, False, False, False, True]\n",
    "pd.Series(registrations)"
   ]
  },
  {
   "cell_type": "markdown",
   "id": "5b2cab49",
   "metadata": {},
   "source": [
    "# Create a Series Object from a Dictionary"
   ]
  },
  {
   "cell_type": "code",
   "execution_count": null,
   "id": "a2131035",
   "metadata": {},
   "outputs": [],
   "source": [
    "# Creating a pandas Series with a Python dictionary gives names to each index.\n",
    "webster = {\"Aardvark\" : \"An aninmal\",\n",
    "           \"Banana\" : \"A delicious fruit\",\n",
    "           \"Cyan\" : \"A color\"}\n",
    "\n",
    "pd.Series(webster)"
   ]
  },
  {
   "cell_type": "markdown",
   "id": "527fe6d4",
   "metadata": {},
   "source": [
    "# Introduction to Attributes"
   ]
  },
  {
   "cell_type": "code",
   "execution_count": null,
   "id": "2ed12504",
   "metadata": {},
   "outputs": [],
   "source": [
    "# Attributes are used to display certain information about a Series without\n",
    "# actually modifying it.\n",
    "about_me = [\"Smart\", \"Handsome\", \"Charming\", \"Brilliant\", \"Humble\"]\n",
    "s = pd.Series(about_me)\n",
    "s"
   ]
  },
  {
   "cell_type": "code",
   "execution_count": null,
   "id": "a8711390",
   "metadata": {},
   "outputs": [],
   "source": [
    "# To reference the attribute of a Series, use the following syntax.\n",
    "# Tab-complete will show all applicable attributes after the \".\"\n",
    "# Attributes do not require parentheses at the end.\n",
    "s.values"
   ]
  },
  {
   "cell_type": "code",
   "execution_count": null,
   "id": "d310d826",
   "metadata": {},
   "outputs": [],
   "source": [
    "s.index"
   ]
  },
  {
   "cell_type": "code",
   "execution_count": null,
   "id": "8cb6fab5",
   "metadata": {},
   "outputs": [],
   "source": [
    "s.dtype"
   ]
  },
  {
   "cell_type": "markdown",
   "id": "5ed8c085",
   "metadata": {},
   "source": [
    "# Introduction to Methods"
   ]
  },
  {
   "cell_type": "code",
   "execution_count": null,
   "id": "1fe6f0e2",
   "metadata": {},
   "outputs": [],
   "source": [
    "# Use to perform operations on a series by modifying it.\n",
    "prices = [2.99, 4.45, 1.36]\n",
    "s = pd.Series(prices)\n",
    "s"
   ]
  },
  {
   "cell_type": "code",
   "execution_count": null,
   "id": "d83afc68",
   "metadata": {},
   "outputs": [],
   "source": [
    "# Methods require parentheses at the end unlike Attributes.\n",
    "s.sum()"
   ]
  },
  {
   "cell_type": "code",
   "execution_count": null,
   "id": "a1b45e17",
   "metadata": {},
   "outputs": [],
   "source": [
    "s.product()"
   ]
  },
  {
   "cell_type": "code",
   "execution_count": null,
   "id": "a3722169",
   "metadata": {},
   "outputs": [],
   "source": [
    "s.mean()"
   ]
  },
  {
   "cell_type": "markdown",
   "id": "5161db81",
   "metadata": {},
   "source": [
    "# Parameters and Arguments"
   ]
  },
  {
   "cell_type": "code",
   "execution_count": null,
   "id": "c5ba628e",
   "metadata": {},
   "outputs": [],
   "source": [
    "# Methods have parameters that take values called arguments.\n",
    "fruits = [\"Apple\", \"Orange\", \"Plum\", \"Grape\", \"Blueberry\"]\n",
    "weekdays = [\"Monday\", \"Tuesday\", \"Wednesday\", \"Thursday\", \"Friday\"]\n",
    "\n",
    "pd.Series(fruits, weekdays)\n",
    "pd.Series(data = fruits, index = weekdays)\n",
    "pd.Series(fruits, index = weekdays)\n",
    "# The above three lines are equivalent"
   ]
  },
  {
   "cell_type": "code",
   "execution_count": null,
   "id": "4200ff07",
   "metadata": {},
   "outputs": [],
   "source": [
    "# Data and Index must be identical in length for pandas to process them correctly.\n",
    "# The index labels do not have to be unique like within a Python dictionary.\n",
    "fruits = [\"Apple\", \"Orange\", \"Plum\", \"Grape\", \"Blueberry\", \"Watermelon\"]\n",
    "weekdays = [\"Monday\", \"Tuesday\", \"Wednesday\", \"Thursday\", \"Friday\", \"Monday\"]\n",
    "\n",
    "pd.Series(data = fruits, index = weekdays)"
   ]
  },
  {
   "cell_type": "markdown",
   "id": "b0c93956",
   "metadata": {},
   "source": [
    "# Import Series with the <code>.read_csv()</code> Method"
   ]
  },
  {
   "cell_type": "code",
   "execution_count": null,
   "id": "597e1d07",
   "metadata": {},
   "outputs": [],
   "source": [
    "# Pandas stores read in CSV files into dataframes by default. Using .squeeze() will force the import into a Series.\n",
    "pokemon = (\n",
    "    pd.read_csv(\"C:\\\\Users\\\\Maverick\\\\Documents\\\\git\\\\Data-Analysis-With-Pandas-And-Python\\\\datasets\\\\pokemon.csv\",\n",
    "    usecols = [\"Pokemon\"]).squeeze()\n",
    ")\n",
    "\n",
    "pokemon"
   ]
  },
  {
   "cell_type": "code",
   "execution_count": null,
   "id": "27d2d192",
   "metadata": {},
   "outputs": [],
   "source": [
    "google = (\n",
    "    pd.read_csv(\"C:/Users/Maverick/Documents/git/Data-Analysis-With-Pandas-And-Python/datasets/google_stock_price.csv\",\n",
    "    usecols = [\"Stock Price\"]).squeeze()\n",
    ")\n",
    "\n",
    "google"
   ]
  },
  {
   "cell_type": "markdown",
   "id": "ec4cf05a",
   "metadata": {},
   "source": [
    "# The <code>.head()</code> and <code>.tail()</code> Methods"
   ]
  },
  {
   "cell_type": "code",
   "execution_count": null,
   "id": "ed56c555",
   "metadata": {},
   "outputs": [],
   "source": [
    "pokemon = (\n",
    "    pd.read_csv(\"C:\\\\Users\\\\Maverick\\\\Documents\\\\git\\\\Data-Analysis-With-Pandas-And-Python\\\\datasets\\\\pokemon.csv\",\n",
    "    usecols = [\"Pokemon\"]).squeeze()\n",
    ")\n",
    "\n",
    "google = (\n",
    "    pd.read_csv(\"C:/Users/Maverick/Documents/git/Data-Analysis-With-Pandas-And-Python/datasets/google_stock_price.csv\",\n",
    "    usecols = [\"Stock Price\"]).squeeze()\n",
    ")"
   ]
  },
  {
   "cell_type": "code",
   "execution_count": null,
   "id": "349559fd",
   "metadata": {},
   "outputs": [],
   "source": [
    "# The .head() method returns a Series with the first five rows.\n",
    "pokemon.head()"
   ]
  },
  {
   "cell_type": "code",
   "execution_count": null,
   "id": "391b39d8",
   "metadata": {},
   "outputs": [],
   "source": [
    "# An integer can be used as an argument to change the number returned.\n",
    "pokemon.head(3)"
   ]
  },
  {
   "cell_type": "code",
   "execution_count": null,
   "id": "532a87a5",
   "metadata": {},
   "outputs": [],
   "source": [
    "# The .tail() method returns the last five rows of a Series.\n",
    "google.tail()"
   ]
  },
  {
   "cell_type": "code",
   "execution_count": null,
   "id": "9fb471f4",
   "metadata": {},
   "outputs": [],
   "source": [
    "# An integer can be used as an argument to change the number of values returned.\n",
    "google.tail(3)"
   ]
  },
  {
   "cell_type": "markdown",
   "id": "7266889c",
   "metadata": {},
   "source": [
    "# Python Built-In Functions"
   ]
  },
  {
   "cell_type": "code",
   "execution_count": null,
   "id": "b41b6de3",
   "metadata": {},
   "outputs": [],
   "source": [
    "pokemon = (\n",
    "    pd.read_csv(\"C:\\\\Users\\\\Maverick\\\\Documents\\\\git\\\\Data-Analysis-With-Pandas-And-Python\\\\datasets\\\\pokemon.csv\",\n",
    "    usecols = [\"Pokemon\"]).squeeze()\n",
    ")\n",
    "\n",
    "google = (\n",
    "    pd.read_csv(\"C:/Users/Maverick/Documents/git/Data-Analysis-With-Pandas-And-Python/datasets/google_stock_price.csv\",\n",
    "    usecols = [\"Stock Price\"]).squeeze()\n",
    ")"
   ]
  },
  {
   "cell_type": "code",
   "execution_count": null,
   "id": "d78bccb1",
   "metadata": {},
   "outputs": [],
   "source": [
    "# The len() function can be used with Series object to get the number of rows within the Series.\n",
    "len(pokemon)"
   ]
  },
  {
   "cell_type": "code",
   "execution_count": null,
   "id": "c138ab85",
   "metadata": {},
   "outputs": [],
   "source": [
    "# The type() function can be used with Series objects as well.\n",
    "len(google)"
   ]
  },
  {
   "cell_type": "code",
   "execution_count": null,
   "id": "46aff5f5",
   "metadata": {},
   "outputs": [],
   "source": [
    "# The dir() function shows all available attributes/methods for the objects including hidden methods.\n",
    "dir(pokemon)"
   ]
  },
  {
   "cell_type": "code",
   "execution_count": null,
   "id": "61292f56",
   "metadata": {},
   "outputs": [],
   "source": [
    "# The sorted() function can be used to sort the values of a Series.\n",
    "sorted(pokemon)\n",
    "sorted(google)"
   ]
  },
  {
   "cell_type": "code",
   "execution_count": null,
   "id": "2b6c2e2a",
   "metadata": {},
   "outputs": [],
   "source": [
    "# The list() function can be used with Series to convert it into a Python list.\n",
    "list(pokemon)"
   ]
  },
  {
   "cell_type": "code",
   "execution_count": null,
   "id": "426fa954",
   "metadata": {},
   "outputs": [],
   "source": [
    "# The dict() function can be used with Series to convert it into a Python dictionary.\n",
    "dict(google)"
   ]
  },
  {
   "cell_type": "code",
   "execution_count": null,
   "id": "01013b59",
   "metadata": {},
   "outputs": [],
   "source": [
    "# The max() function can be used to return the last value after being sorted alphabetically.\n",
    "max(pokemon)"
   ]
  },
  {
   "cell_type": "code",
   "execution_count": null,
   "id": "e7f1bc39",
   "metadata": {},
   "outputs": [],
   "source": [
    "# The max() function will return the highest value in numerical Series objects.\n",
    "max(google)"
   ]
  },
  {
   "cell_type": "code",
   "execution_count": null,
   "id": "84f98f07",
   "metadata": {},
   "outputs": [],
   "source": [
    "# The min() function can be used to return the first value in a Series after it's been sorted alphabetically.\n",
    "min(pokemon)"
   ]
  },
  {
   "cell_type": "code",
   "execution_count": null,
   "id": "486fa5e1",
   "metadata": {},
   "outputs": [],
   "source": [
    "# The min() function will return the lowest value in a numerical series.\n",
    "min(google)"
   ]
  },
  {
   "cell_type": "markdown",
   "id": "e15159a8",
   "metadata": {},
   "source": [
    "# More Series Attributes"
   ]
  },
  {
   "cell_type": "code",
   "execution_count": null,
   "id": "3904652f",
   "metadata": {},
   "outputs": [],
   "source": [
    "pokemon = (\n",
    "    pd.read_csv(\"C:\\\\Users\\\\Maverick\\\\Documents\\\\git\\\\Data-Analysis-With-Pandas-And-Python\\\\datasets\\\\pokemon.csv\",\n",
    "    usecols = [\"Pokemon\"]).squeeze()\n",
    ")\n",
    "\n",
    "google = (\n",
    "    pd.read_csv(\"C:/Users/Maverick/Documents/git/Data-Analysis-With-Pandas-And-Python/datasets/google_stock_price.csv\",\n",
    "    usecols = [\"Stock Price\"]).squeeze()\n",
    ")"
   ]
  },
  {
   "cell_type": "code",
   "execution_count": null,
   "id": "30f64ffc",
   "metadata": {},
   "outputs": [],
   "source": [
    "pokemon.values\n",
    "google.values"
   ]
  },
  {
   "cell_type": "code",
   "execution_count": null,
   "id": "cfd60b7d",
   "metadata": {},
   "outputs": [],
   "source": [
    "pokemon.index"
   ]
  },
  {
   "cell_type": "code",
   "execution_count": null,
   "id": "14282b30",
   "metadata": {},
   "outputs": [],
   "source": [
    "pokemon.dtype\n",
    "google.dtype"
   ]
  },
  {
   "cell_type": "code",
   "execution_count": null,
   "id": "1368cc57",
   "metadata": {},
   "outputs": [],
   "source": [
    "# The is_unique attribute will return True if the Series is unique.\n",
    "pokemon.is_unique"
   ]
  },
  {
   "cell_type": "code",
   "execution_count": null,
   "id": "a1b75133",
   "metadata": {},
   "outputs": [],
   "source": [
    "# The ndim attribute will return the number of dimensions of an object.\n",
    "google.ndim"
   ]
  },
  {
   "cell_type": "code",
   "execution_count": null,
   "id": "8acaef50",
   "metadata": {},
   "outputs": [],
   "source": [
    "# the shape attribute gives us a tuple with the shape of an object.\n",
    "pokemon.shape"
   ]
  },
  {
   "cell_type": "code",
   "execution_count": null,
   "id": "99490b4b",
   "metadata": {},
   "outputs": [],
   "source": [
    "# The size attribute returns the number of cells in a Series.\n",
    "# This attribute does count null values as well.\n",
    "google.size\n",
    "pokemon.size"
   ]
  },
  {
   "cell_type": "code",
   "execution_count": null,
   "id": "47e6385c",
   "metadata": {},
   "outputs": [],
   "source": [
    "# The name attribute tells us the name of the Series (Column Header).\n",
    "google.name"
   ]
  },
  {
   "cell_type": "code",
   "execution_count": null,
   "id": "95a96794",
   "metadata": {},
   "outputs": [],
   "source": [
    "# The name attribute can be used to modify the name as well.\n",
    "pokemon.name = \"Pocket Monsters\"\n",
    "pokemon.head()"
   ]
  },
  {
   "cell_type": "markdown",
   "id": "dbabf8cd",
   "metadata": {},
   "source": [
    "# The <code>.sort_values()</code> Method"
   ]
  },
  {
   "cell_type": "code",
   "execution_count": null,
   "id": "806162c8",
   "metadata": {},
   "outputs": [],
   "source": [
    "pokemon = (\n",
    "    pd.read_csv(\"C:\\\\Users\\\\Maverick\\\\Documents\\\\git\\\\Data-Analysis-With-Pandas-And-Python\\\\datasets\\\\pokemon.csv\",\n",
    "    usecols = [\"Pokemon\"]).squeeze()\n",
    ")\n",
    "\n",
    "google = (\n",
    "    pd.read_csv(\"C:/Users/Maverick/Documents/git/Data-Analysis-With-Pandas-And-Python/datasets/google_stock_price.csv\",\n",
    "    usecols = [\"Stock Price\"]).squeeze()\n",
    ")"
   ]
  },
  {
   "cell_type": "code",
   "execution_count": null,
   "id": "adf81e4c",
   "metadata": {},
   "outputs": [],
   "source": [
    "# Returns a new series with the values in alphabetical order.\n",
    "pokemon.sort_values()"
   ]
  },
  {
   "cell_type": "code",
   "execution_count": null,
   "id": "938561c1",
   "metadata": {},
   "outputs": [],
   "source": [
    "# Because methods return a new object, they can be method chained.\n",
    "pokemon.sort_values().head()"
   ]
  },
  {
   "cell_type": "code",
   "execution_count": null,
   "id": "42b911f7",
   "metadata": {},
   "outputs": [],
   "source": [
    "# Series can also be sorted in reverse order.\n",
    "pokemon.sort_values(ascending = False)\n",
    "pokemon.sort_values(ascending = False).tail()"
   ]
  },
  {
   "cell_type": "code",
   "execution_count": null,
   "id": "4e7f671d",
   "metadata": {},
   "outputs": [],
   "source": [
    "google.sort_values()\n",
    "google.sort_values(ascending = False).head(1)"
   ]
  },
  {
   "cell_type": "code",
   "execution_count": null,
   "id": "5be172fd",
   "metadata": {},
   "outputs": [],
   "source": [
    "# Methods do not modify the original Series.\n",
    "google.head(1)"
   ]
  },
  {
   "cell_type": "markdown",
   "id": "c28a4581",
   "metadata": {},
   "source": [
    "# The <code>inplace</code> Parameter"
   ]
  },
  {
   "cell_type": "code",
   "execution_count": null,
   "id": "1e7dfee5",
   "metadata": {},
   "outputs": [],
   "source": [
    "pokemon = (\n",
    "    pd.read_csv(\"C:\\\\Users\\\\Maverick\\\\Documents\\\\git\\\\Data-Analysis-With-Pandas-And-Python\\\\datasets\\\\pokemon.csv\",\n",
    "    usecols = [\"Pokemon\"]).squeeze()\n",
    ")\n",
    "\n",
    "google = (\n",
    "    pd.read_csv(\"C:/Users/Maverick/Documents/git/Data-Analysis-With-Pandas-And-Python/datasets/google_stock_price.csv\",\n",
    "    usecols = [\"Stock Price\"]).squeeze()\n",
    ")"
   ]
  },
  {
   "cell_type": "code",
   "execution_count": null,
   "id": "881e01a6",
   "metadata": {},
   "outputs": [],
   "source": [
    "google.head(3)"
   ]
  },
  {
   "cell_type": "code",
   "execution_count": null,
   "id": "b0058325",
   "metadata": {},
   "outputs": [],
   "source": [
    "google = google.sort_values()\n",
    "google.head()"
   ]
  },
  {
   "cell_type": "code",
   "execution_count": null,
   "id": "6e5ed958",
   "metadata": {},
   "outputs": [],
   "source": [
    "# Setting the inplace parameter to True will overwrite the Series that is currently stored.\n",
    "google.sort_values(ascending = False, inplace = True)\n",
    "google.head(3)"
   ]
  },
  {
   "cell_type": "markdown",
   "id": "3c69b3f7",
   "metadata": {},
   "source": [
    "# The <code>.sort_index()</code> Method"
   ]
  },
  {
   "cell_type": "code",
   "execution_count": null,
   "id": "1762b679",
   "metadata": {},
   "outputs": [],
   "source": [
    "pokemon = (\n",
    "    pd.read_csv(\"C:\\\\Users\\\\Maverick\\\\Documents\\\\git\\\\Data-Analysis-With-Pandas-And-Python\\\\datasets\\\\pokemon.csv\",\n",
    "    usecols = [\"Pokemon\"]).squeeze()\n",
    ")\n",
    "\n",
    "google = (\n",
    "    pd.read_csv(\"C:/Users/Maverick/Documents/git/Data-Analysis-With-Pandas-And-Python/datasets/google_stock_price.csv\",\n",
    "    usecols = [\"Stock Price\"]).squeeze()\n",
    ")"
   ]
  },
  {
   "cell_type": "code",
   "execution_count": null,
   "id": "6a1d5819",
   "metadata": {},
   "outputs": [],
   "source": [
    "pokemon"
   ]
  },
  {
   "cell_type": "code",
   "execution_count": null,
   "id": "a15f0690",
   "metadata": {},
   "outputs": [],
   "source": [
    "pokemon = pokemon.sort_values(ascending = False)\n",
    "pokemon.head(3)"
   ]
  },
  {
   "cell_type": "code",
   "execution_count": null,
   "id": "588458b0",
   "metadata": {},
   "outputs": [],
   "source": [
    "# The complementary method to .sort_values() is .sort_index()\n",
    "pokemon.sort_index()"
   ]
  },
  {
   "cell_type": "code",
   "execution_count": null,
   "id": "77a92cc5",
   "metadata": {},
   "outputs": [],
   "source": [
    "pokemon.sort_index(ascending = True, inplace = True)"
   ]
  },
  {
   "cell_type": "code",
   "execution_count": null,
   "id": "9568d132",
   "metadata": {},
   "outputs": [],
   "source": [
    "pokemon"
   ]
  },
  {
   "cell_type": "markdown",
   "id": "2f0c59a3",
   "metadata": {},
   "source": [
    "# Python's <code>in</code> Keyword"
   ]
  },
  {
   "cell_type": "code",
   "execution_count": null,
   "id": "a502a772",
   "metadata": {},
   "outputs": [],
   "source": [
    "pokemon = (\n",
    "    pd.read_csv(\"C:\\\\Users\\\\Maverick\\\\Documents\\\\git\\\\Data-Analysis-With-Pandas-And-Python\\\\datasets\\\\pokemon.csv\",\n",
    "    usecols = [\"Pokemon\"]).squeeze()\n",
    ")\n",
    "\n",
    "google = (\n",
    "    pd.read_csv(\"C:/Users/Maverick/Documents/git/Data-Analysis-With-Pandas-And-Python/datasets/google_stock_price.csv\",\n",
    "    usecols = [\"Stock Price\"]).squeeze()\n",
    ")"
   ]
  },
  {
   "cell_type": "code",
   "execution_count": null,
   "id": "a3904ed1",
   "metadata": {},
   "outputs": [],
   "source": [
    "3 in [1, 2, 3, 4, 5]"
   ]
  },
  {
   "cell_type": "code",
   "execution_count": null,
   "id": "c7057536",
   "metadata": {},
   "outputs": [],
   "source": [
    "pokemon.head(3)"
   ]
  },
  {
   "cell_type": "code",
   "execution_count": null,
   "id": "e1336ca6",
   "metadata": {},
   "outputs": [],
   "source": [
    "# The in keyword will search among indexes, not values.\n",
    "\"Bulbasaur\" in pokemon"
   ]
  },
  {
   "cell_type": "code",
   "execution_count": null,
   "id": "60c36ab1",
   "metadata": {},
   "outputs": [],
   "source": [
    "# To look amongst values, use the .values attribute.\n",
    "\"Bulbasaur\" in pokemon.values"
   ]
  },
  {
   "cell_type": "markdown",
   "id": "6e95a50a",
   "metadata": {},
   "source": [
    "# Extracting Values by Index Position"
   ]
  },
  {
   "cell_type": "code",
   "execution_count": null,
   "id": "34404150",
   "metadata": {},
   "outputs": [],
   "source": [
    "pokemon = (\n",
    "    pd.read_csv(\"C:\\\\Users\\\\Maverick\\\\Documents\\\\git\\\\Data-Analysis-With-Pandas-And-Python\\\\datasets\\\\pokemon.csv\",\n",
    "    usecols = [\"Pokemon\"]).squeeze()\n",
    ")\n",
    "\n",
    "google = (\n",
    "    pd.read_csv(\"C:/Users/Maverick/Documents/git/Data-Analysis-With-Pandas-And-Python/datasets/google_stock_price.csv\",\n",
    "    usecols = [\"Stock Price\"]).squeeze()\n",
    ")"
   ]
  },
  {
   "cell_type": "code",
   "execution_count": null,
   "id": "e7fd5885",
   "metadata": {},
   "outputs": [],
   "source": [
    "# To extract a value by index position, use brackets.\n",
    "pokemon[500]"
   ]
  },
  {
   "cell_type": "code",
   "execution_count": null,
   "id": "bdec65f7",
   "metadata": {},
   "outputs": [],
   "source": [
    "# Returning a three value Series.\n",
    "pokemon[[100, 200, 300]]"
   ]
  },
  {
   "cell_type": "code",
   "execution_count": null,
   "id": "5f48448d",
   "metadata": {},
   "outputs": [],
   "source": [
    "# Returning a series spanning from 50-99.\n",
    "pokemon[50:100]"
   ]
  },
  {
   "cell_type": "markdown",
   "id": "8c75f444",
   "metadata": {},
   "source": [
    "# Extract Values by Index Label"
   ]
  },
  {
   "cell_type": "code",
   "execution_count": null,
   "id": "95c21eb7",
   "metadata": {},
   "outputs": [],
   "source": [
    "pokemon = (\n",
    "    pd.read_csv(\"C:\\\\Users\\\\Maverick\\\\Documents\\\\git\\\\Data-Analysis-With-Pandas-And-Python\\\\datasets\\\\pokemon.csv\",\n",
    "    index_col = \"Pokemon\").squeeze()\n",
    ")\n",
    "\n",
    "pokemon.head(3)"
   ]
  },
  {
   "cell_type": "code",
   "execution_count": null,
   "id": "e2656353",
   "metadata": {},
   "outputs": [],
   "source": [
    "# Extraction by index position.\n",
    "pokemon[0]\n",
    "pokemon[[100, 134]]"
   ]
  },
  {
   "cell_type": "code",
   "execution_count": null,
   "id": "acd6bba3",
   "metadata": {},
   "outputs": [],
   "source": [
    "# Extraction by index label.\n",
    "pokemon[\"Bulbasaur\"]\n",
    "pokemon[\"Ditto\"]\n",
    "pokemon[[\"Charizard\", \"Jolteon\"]]"
   ]
  },
  {
   "cell_type": "code",
   "execution_count": null,
   "id": "71cc2075",
   "metadata": {},
   "outputs": [],
   "source": [
    "# For index labels, the upper endpoint is included as opposed to index positions.\n",
    "pokemon[\"Charmander\" : \"Weedle\"]"
   ]
  },
  {
   "cell_type": "code",
   "execution_count": null,
   "id": "c690b283",
   "metadata": {},
   "outputs": [],
   "source": [
    "# .reindex() can be used to avoid key errors should an index not exist.\n",
    "pokemon.reindex(index = [\"Pikachu\", \"Digimon\"])"
   ]
  },
  {
   "cell_type": "markdown",
   "id": "392ff219",
   "metadata": {},
   "source": [
    "# The <code>.get()</code> Method on a Series"
   ]
  },
  {
   "cell_type": "code",
   "execution_count": null,
   "id": "c5fb3fc4",
   "metadata": {},
   "outputs": [],
   "source": [
    "pokemon = (\n",
    "    pd.read_csv(\"C:\\\\Users\\\\Maverick\\\\Documents\\\\git\\\\Data-Analysis-With-Pandas-And-Python\\\\datasets\\\\pokemon.csv\",\n",
    "    index_col = \"Pokemon\").squeeze()\n",
    ")\n",
    "\n",
    "pokemon.sort_index(inplace = True)\n",
    "pokemon.head(3)"
   ]
  },
  {
   "cell_type": "code",
   "execution_count": null,
   "id": "b40abef0",
   "metadata": {},
   "outputs": [],
   "source": [
    "pokemon.get(0)\n",
    "pokemon.get(\"Moltres\")"
   ]
  },
  {
   "cell_type": "code",
   "execution_count": null,
   "id": "08a1031e",
   "metadata": {},
   "outputs": [],
   "source": [
    "pokemon.get([0, 5])\n",
    "pokemon.get([\"Moltres\", \"Meowth\"])"
   ]
  },
  {
   "cell_type": "code",
   "execution_count": null,
   "id": "8eee6667",
   "metadata": {},
   "outputs": [],
   "source": [
    "# The .get() method, by default, returns nothing if the key is not found.\n",
    "# We can change this to return a message if we want.\n",
    "pokemon.get(key = \"Digimon\", default = \"This is not a Pokemon\")\n",
    "pokemon.get(key = 10000, default = \"This is not a Pokemon\")"
   ]
  },
  {
   "cell_type": "markdown",
   "id": "926e781a",
   "metadata": {},
   "source": [
    "# Overwrite a Series Value"
   ]
  },
  {
   "cell_type": "code",
   "execution_count": null,
   "id": "787fa9c7",
   "metadata": {},
   "outputs": [],
   "source": [
    "pokemon = (\n",
    "    pd.read_csv(\"C:\\\\Users\\\\Maverick\\\\Documents\\\\git\\\\Data-Analysis-With-Pandas-And-Python\\\\datasets\\\\pokemon.csv\",\n",
    "    usecols = \"Pokemon\").squeeze()\n",
    ")"
   ]
  },
  {
   "cell_type": "code",
   "execution_count": null,
   "id": "c3951890",
   "metadata": {},
   "outputs": [],
   "source": [
    "pokemon[0] = \"Borisaur\"\n",
    "pokemon.head()"
   ]
  },
  {
   "cell_type": "code",
   "execution_count": null,
   "id": "357cf94c",
   "metadata": {},
   "outputs": [],
   "source": [
    "pokemon[1500] = \"Hello\"\n",
    "pokemon"
   ]
  },
  {
   "cell_type": "code",
   "execution_count": null,
   "id": "21a80f75",
   "metadata": {},
   "outputs": [],
   "source": [
    "pokemon[[1, 2, 4]] = [\"Firemon\", \"Flamemon\", \"Blazemon\"]\n",
    "pokemon.head()"
   ]
  },
  {
   "cell_type": "code",
   "execution_count": null,
   "id": "b651ac38",
   "metadata": {},
   "outputs": [],
   "source": [
    "pokemon = (\n",
    "    pd.read_csv(\"C:\\\\Users\\\\Maverick\\\\Documents\\\\git\\\\Data-Analysis-With-Pandas-And-Python\\\\datasets\\\\pokemon.csv\",\n",
    "    index_col = \"Pokemon\").squeeze()\n",
    ")"
   ]
  },
  {
   "cell_type": "code",
   "execution_count": null,
   "id": "a876280d",
   "metadata": {},
   "outputs": [],
   "source": [
    "pokemon[\"Bulbasaur\"] = \"Awesomemon\"\n",
    "pokemon.head()"
   ]
  },
  {
   "cell_type": "code",
   "execution_count": null,
   "id": "5b59ea8e",
   "metadata": {},
   "outputs": [],
   "source": [
    "pokemon[1] = \"Grassmon\"\n",
    "pokemon.head()"
   ]
  },
  {
   "cell_type": "markdown",
   "id": "f8d030df",
   "metadata": {},
   "source": [
    "# The <code>.copy()</code> Method"
   ]
  },
  {
   "cell_type": "code",
   "execution_count": null,
   "id": "4a3b5d58",
   "metadata": {},
   "outputs": [],
   "source": [
    "pokemon_df = (\n",
    "    pd.read_csv(\"C:\\\\Users\\\\Maverick\\\\Documents\\\\git\\\\Data-Analysis-With-Pandas-And-Python\\\\datasets\\\\pokemon.csv\", \n",
    "    usecols = [\"Pokemon\"])\n",
    ")\n",
    "\n",
    "pokemon_series = pokemon_df.squeeze(\"columns\")\n",
    "pokemon_series.head()"
   ]
  },
  {
   "cell_type": "code",
   "execution_count": null,
   "id": "85d3ad63",
   "metadata": {},
   "outputs": [],
   "source": [
    "pokemon_series[0] = \"Whatever\"\n",
    "pokemon_series.head(1)"
   ]
  },
  {
   "cell_type": "code",
   "execution_count": null,
   "id": "a941708e",
   "metadata": {},
   "outputs": [],
   "source": [
    "# An operation on the Series has affected the DataFrame. Be careful about this!\n",
    "pokemon_df.head()"
   ]
  },
  {
   "cell_type": "code",
   "execution_count": null,
   "id": "d05c01f3",
   "metadata": {},
   "outputs": [],
   "source": [
    "# Creates a copy of the Series independent of the Series derived from the DataFrame.\n",
    "pokemon_df = (\n",
    "    pd.read_csv(\"C:\\\\Users\\\\Maverick\\\\Documents\\\\git\\\\Data-Analysis-With-Pandas-And-Python\\\\datasets\\\\pokemon.csv\", \n",
    "    usecols = [\"Pokemon\"])\n",
    ")\n",
    "\n",
    "pokemon_series = pokemon_df.squeeze(\"columns\").copy()\n",
    "pokemon_series[0] = \"Whatever\"\n",
    "pokemon_series.head()"
   ]
  },
  {
   "cell_type": "code",
   "execution_count": null,
   "id": "95fcb2ad",
   "metadata": {},
   "outputs": [],
   "source": [
    "# Notice the DataFrame remains unchanged.\n",
    "pokemon_df.head()"
   ]
  },
  {
   "cell_type": "markdown",
   "id": "d4f3ab13",
   "metadata": {},
   "source": [
    "# The <code>inplace</code> Parameter"
   ]
  },
  {
   "cell_type": "code",
   "execution_count": null,
   "id": "b336583a",
   "metadata": {},
   "outputs": [],
   "source": [
    "# Using the .copy() method to make sure we are using a copy and not a view.\n",
    "google = (\n",
    "    pd.read_csv(\"C:/Users/Maverick/Documents/git/Data-Analysis-With-Pandas-And-Python/datasets/google_stock_price.csv\",\n",
    "    usecols = [\"Stock Price\"])\n",
    "    .squeeze(\"columns\")\n",
    "    .copy()\n",
    ")\n",
    "\n",
    "google.head()"
   ]
  },
  {
   "cell_type": "code",
   "execution_count": null,
   "id": "152d78fd",
   "metadata": {},
   "outputs": [],
   "source": [
    "# One way to permanently change a series is to simply overwrite it.\n",
    "# This is considered to be the best way to do this.\n",
    "google = google.sort_values()\n",
    "google.head()"
   ]
  },
  {
   "cell_type": "code",
   "execution_count": null,
   "id": "bfb4a5e1",
   "metadata": {},
   "outputs": [],
   "source": [
    "# Another way to do this would be using the inplace parameter.\n",
    "# Will eventually be deprecated by Pandas developers.\n",
    "google = (\n",
    "    pd.read_csv(\"C:/Users/Maverick/Documents/git/Data-Analysis-With-Pandas-And-Python/datasets/google_stock_price.csv\",\n",
    "    usecols = [\"Stock Price\"])\n",
    "    .squeeze(\"columns\")\n",
    "    .copy()\n",
    ")\n",
    "\n",
    "google.sort_values(inplace = True)\n",
    "google.head()"
   ]
  },
  {
   "cell_type": "markdown",
   "id": "530f0f92",
   "metadata": {},
   "source": [
    "# Math Methods on Series Objects"
   ]
  },
  {
   "cell_type": "code",
   "execution_count": null,
   "id": "dee58567",
   "metadata": {},
   "outputs": [],
   "source": [
    "google = (\n",
    "    pd.read_csv(\"C:/Users/Maverick/Documents/git/Data-Analysis-With-Pandas-And-Python/datasets/google_stock_price.csv\",\n",
    "    usecols = [\"Stock Price\"]).squeeze()\n",
    ")\n",
    "\n",
    "google.head(3)"
   ]
  },
  {
   "cell_type": "code",
   "execution_count": null,
   "id": "f3e16449",
   "metadata": {},
   "outputs": [],
   "source": [
    "# The .count() method returns the number of valid values within our Series.\n",
    "# Differs from .len() because it excluses NaN values.\n",
    "google.count()"
   ]
  },
  {
   "cell_type": "code",
   "execution_count": null,
   "id": "a4157d4e",
   "metadata": {},
   "outputs": [],
   "source": [
    "google.sum()"
   ]
  },
  {
   "cell_type": "code",
   "execution_count": null,
   "id": "7880de66",
   "metadata": {},
   "outputs": [],
   "source": [
    "google.mean()"
   ]
  },
  {
   "cell_type": "code",
   "execution_count": null,
   "id": "c85ecc0b",
   "metadata": {},
   "outputs": [],
   "source": [
    "google.sum() / google.count()"
   ]
  },
  {
   "cell_type": "code",
   "execution_count": null,
   "id": "82fd1d62",
   "metadata": {},
   "outputs": [],
   "source": [
    "# Standard Deviations are available with Series.\n",
    "google.std()"
   ]
  },
  {
   "cell_type": "code",
   "execution_count": null,
   "id": "23d464e6",
   "metadata": {},
   "outputs": [],
   "source": [
    "google.min()"
   ]
  },
  {
   "cell_type": "code",
   "execution_count": null,
   "id": "f7daaa0a",
   "metadata": {},
   "outputs": [],
   "source": [
    "google.max()"
   ]
  },
  {
   "cell_type": "code",
   "execution_count": null,
   "id": "b85e8eed",
   "metadata": {},
   "outputs": [],
   "source": [
    "google.median()"
   ]
  },
  {
   "cell_type": "code",
   "execution_count": null,
   "id": "2d1d7b00",
   "metadata": {},
   "outputs": [],
   "source": [
    "google.mode()"
   ]
  },
  {
   "cell_type": "code",
   "execution_count": null,
   "id": "3ebe36dc",
   "metadata": {},
   "outputs": [],
   "source": [
    "# The .describe() methods gives us a nice statistical summary below the cell.\n",
    "google.describe()"
   ]
  },
  {
   "cell_type": "markdown",
   "id": "6f24531f",
   "metadata": {},
   "source": [
    "# Broadcasting"
   ]
  },
  {
   "cell_type": "code",
   "execution_count": null,
   "id": "65d3a247",
   "metadata": {},
   "outputs": [],
   "source": [
    "# Broadcasting is the process of applying something to every value within the Series.\n",
    "google = (\n",
    "    pd.read_csv(\"C:/Users/Maverick/Documents/git/Data-Analysis-With-Pandas-And-Python/datasets/google_stock_price.csv\",\n",
    "    usecols = [\"Stock Price\"])\n",
    "    .squeeze(\"columns\")\n",
    ")"
   ]
  },
  {
   "cell_type": "code",
   "execution_count": null,
   "id": "a9c44710",
   "metadata": {},
   "outputs": [],
   "source": [
    "# Add 10 to every single value within the Series.\n",
    "google + 10"
   ]
  },
  {
   "cell_type": "code",
   "execution_count": null,
   "id": "c08b0efb",
   "metadata": {},
   "outputs": [],
   "source": [
    "# There are methods as well that perform the same application.\n",
    "google.add(10)"
   ]
  },
  {
   "cell_type": "markdown",
   "id": "b45c63e9",
   "metadata": {},
   "source": [
    "# The <code>.idmax()</code> and <code>.idxmin()</code> Methods"
   ]
  },
  {
   "cell_type": "code",
   "execution_count": null,
   "id": "20e924f4",
   "metadata": {},
   "outputs": [],
   "source": [
    "google = (\n",
    "    pd.read_csv(\"C:/Users/Maverick/Documents/git/Data-Analysis-With-Pandas-And-Python/datasets/google_stock_price.csv\",\n",
    "    usecols = [\"Stock Price\"]).squeeze()\n",
    ")\n",
    "\n",
    "google.max()"
   ]
  },
  {
   "cell_type": "code",
   "execution_count": null,
   "id": "ff1a0f6d",
   "metadata": {},
   "outputs": [],
   "source": [
    "google.min()"
   ]
  },
  {
   "cell_type": "code",
   "execution_count": null,
   "id": "55c3c5b8",
   "metadata": {},
   "outputs": [],
   "source": [
    "# The idxmax() function returns the index position that stores the maximum value.\n",
    "google.idxmax()"
   ]
  },
  {
   "cell_type": "code",
   "execution_count": null,
   "id": "19403e98",
   "metadata": {},
   "outputs": [],
   "source": [
    "# The idxmin() function returns the index position that stores the minimum value.\n",
    "google.idxmin()"
   ]
  },
  {
   "cell_type": "code",
   "execution_count": null,
   "id": "8a9fbddd",
   "metadata": {},
   "outputs": [],
   "source": [
    "google[3011]"
   ]
  },
  {
   "cell_type": "code",
   "execution_count": null,
   "id": "0bf0ee87",
   "metadata": {},
   "outputs": [],
   "source": [
    "google[11]"
   ]
  },
  {
   "cell_type": "code",
   "execution_count": null,
   "id": "8268758d",
   "metadata": {},
   "outputs": [],
   "source": [
    "google[google.idxmin()]\n",
    "google[google.idxmax()]"
   ]
  },
  {
   "cell_type": "markdown",
   "id": "c297f0c4",
   "metadata": {},
   "source": [
    "# The <code>.value_counts()</code> Method"
   ]
  },
  {
   "cell_type": "code",
   "execution_count": null,
   "id": "ff3c5521",
   "metadata": {},
   "outputs": [],
   "source": [
    "pokemon = (\n",
    "    pd.read_csv(\"C:\\\\Users\\\\Maverick\\\\Documents\\\\git\\\\Data-Analysis-With-Pandas-And-Python\\\\datasets\\\\pokemon.csv\",\n",
    "    index_col = \"Pokemon\").squeeze()\n",
    ")\n",
    "\n",
    "pokemon.head(3)"
   ]
  },
  {
   "cell_type": "code",
   "execution_count": null,
   "id": "008d150f",
   "metadata": {},
   "outputs": [],
   "source": [
    "# Counts each unique value and returns the number of times it appears in the Series.\n",
    "pokemon.value_counts()"
   ]
  },
  {
   "cell_type": "code",
   "execution_count": null,
   "id": "d2553470",
   "metadata": {},
   "outputs": [],
   "source": [
    "# This should equal the total length of our Series.\n",
    "pokemon.value_counts().sum()"
   ]
  },
  {
   "cell_type": "markdown",
   "id": "689fcba2",
   "metadata": {},
   "source": [
    "# The <code>.apply()</code> Method"
   ]
  },
  {
   "cell_type": "code",
   "execution_count": null,
   "id": "ca710505",
   "metadata": {},
   "outputs": [],
   "source": [
    "google = (\n",
    "    pd.read_csv(\"C:/Users/Maverick/Documents/git/Data-Analysis-With-Pandas-And-Python/datasets/google_stock_price.csv\",\n",
    "    usecols = [\"Stock Price\"]).squeeze()\n",
    ")\n",
    "\n",
    "google.head(6)"
   ]
  },
  {
   "cell_type": "code",
   "execution_count": null,
   "id": "92819a37",
   "metadata": {},
   "outputs": [],
   "source": [
    "def classify_performance(number):\n",
    "    if number < 300:\n",
    "        return \"OK\"\n",
    "    elif number >= 300 and number < 650:\n",
    "        return \"Satisfactory\"\n",
    "    else:\n",
    "        return \"Incredible\""
   ]
  },
  {
   "cell_type": "code",
   "execution_count": null,
   "id": "35a2f8b3",
   "metadata": {},
   "outputs": [],
   "source": [
    "# The .apply() method will apply a function to every element in the Series.\n",
    "google.apply(classify_performance)"
   ]
  },
  {
   "cell_type": "code",
   "execution_count": null,
   "id": "f262f6e9",
   "metadata": {},
   "outputs": [],
   "source": [
    "google.head(6)"
   ]
  },
  {
   "cell_type": "code",
   "execution_count": null,
   "id": "5f641814",
   "metadata": {},
   "outputs": [],
   "source": [
    "# Anonymous functions can be used to perform operations that are simple.\n",
    "google.apply(lambda stock_price : stock_price + 1)"
   ]
  },
  {
   "cell_type": "markdown",
   "id": "08a99886",
   "metadata": {},
   "source": [
    "# The <code>.map()</code> Method"
   ]
  },
  {
   "cell_type": "code",
   "execution_count": null,
   "id": "8d11eeb4",
   "metadata": {},
   "outputs": [],
   "source": [
    "pokemon_names = (\n",
    "    pd.read_csv(\"C:\\\\Users\\\\Maverick\\\\Documents\\\\git\\\\Data-Analysis-With-Pandas-And-Python\\\\datasets\\\\pokemon.csv\",\n",
    "    usecols = [\"Pokemon\"]).squeeze()\n",
    ")\n",
    "\n",
    "pokemon_names.head(3)"
   ]
  },
  {
   "cell_type": "code",
   "execution_count": null,
   "id": "8124a523",
   "metadata": {},
   "outputs": [],
   "source": [
    "pokemon_types = (\n",
    "    pd.read_csv(\"C:\\\\Users\\\\Maverick\\\\Documents\\\\git\\\\Data-Analysis-With-Pandas-And-Python\\\\datasets\\\\pokemon.csv\",\n",
    "    index_col = \"Pokemon\").squeeze()\n",
    ")\n",
    "\n",
    "pokemon_types.head(3)"
   ]
  },
  {
   "cell_type": "code",
   "execution_count": null,
   "id": "16b30dd9",
   "metadata": {},
   "outputs": [],
   "source": [
    "# The .map() method can map values from one Series to the index of a second Series.\n",
    "pokemon_names.map(pokemon_types)"
   ]
  },
  {
   "cell_type": "code",
   "execution_count": null,
   "id": "291ee594",
   "metadata": {},
   "outputs": [],
   "source": [
    "pokemon_names = (\n",
    "    pd.read_csv(\"C:\\\\Users\\\\Maverick\\\\Documents\\\\git\\\\Data-Analysis-With-Pandas-And-Python\\\\datasets\\\\pokemon.csv\",\n",
    "    usecols = [\"Pokemon\"]).squeeze()\n",
    ")\n",
    "\n",
    "pokemon_types = (\n",
    "    pd.read_csv(\"C:\\\\Users\\\\Maverick\\\\Documents\\\\git\\\\Data-Analysis-With-Pandas-And-Python\\\\datasets\\\\pokemon.csv\",\n",
    "    index_col = \"Pokemon\").squeeze().to_dict()\n",
    ")"
   ]
  },
  {
   "cell_type": "code",
   "execution_count": null,
   "id": "fff85a87",
   "metadata": {},
   "outputs": [],
   "source": [
    "pokemon_names.head(5)"
   ]
  },
  {
   "cell_type": "code",
   "execution_count": null,
   "id": "991ca4e6",
   "metadata": {},
   "outputs": [],
   "source": [
    "pokemon_types"
   ]
  },
  {
   "cell_type": "code",
   "execution_count": null,
   "id": "4979edd2",
   "metadata": {},
   "outputs": [],
   "source": [
    "pokemon_names.map(pokemon_types)"
   ]
  }
 ],
 "metadata": {
  "kernelspec": {
   "display_name": "Python 3 (ipykernel)",
   "language": "python",
   "name": "python3"
  },
  "language_info": {
   "codemirror_mode": {
    "name": "ipython",
    "version": 3
   },
   "file_extension": ".py",
   "mimetype": "text/x-python",
   "name": "python",
   "nbconvert_exporter": "python",
   "pygments_lexer": "ipython3",
   "version": "3.10.4"
  }
 },
 "nbformat": 4,
 "nbformat_minor": 5
}
