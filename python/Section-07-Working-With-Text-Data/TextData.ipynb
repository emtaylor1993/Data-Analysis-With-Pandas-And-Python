{
 "cells": [
  {
   "cell_type": "markdown",
   "id": "062ea722",
   "metadata": {},
   "source": [
    "# Importing Pandas and Dataset"
   ]
  },
  {
   "cell_type": "code",
   "execution_count": null,
   "id": "a8326e1e",
   "metadata": {},
   "outputs": [],
   "source": [
    "import pandas as pd"
   ]
  },
  {
   "cell_type": "code",
   "execution_count": null,
   "id": "dc67e850",
   "metadata": {},
   "outputs": [],
   "source": [
    "chicago = (\n",
    "    pd.read_csv(\"C:\\\\Users\\\\Maverick\\\\Documents\\\\git\\\\Data-Analysis-With-Pandas-And-Python\\\\datasets\\\\chicago.csv\")\n",
    ")\n",
    "\n",
    "chicago.head(3)"
   ]
  },
  {
   "cell_type": "code",
   "execution_count": null,
   "id": "3a589e97",
   "metadata": {},
   "outputs": [],
   "source": [
    "chicago.info()"
   ]
  },
  {
   "cell_type": "code",
   "execution_count": null,
   "id": "67852b7a",
   "metadata": {},
   "outputs": [],
   "source": [
    "chicago[\"Department\"].nunique()"
   ]
  },
  {
   "cell_type": "code",
   "execution_count": null,
   "id": "461accc2",
   "metadata": {},
   "outputs": [],
   "source": [
    "chicago.nunique()"
   ]
  },
  {
   "cell_type": "code",
   "execution_count": null,
   "id": "acaf620c",
   "metadata": {},
   "outputs": [],
   "source": [
    "chicago[\"Department\"] = chicago[\"Department\"].astype(\"category\")\n",
    "chicago.head(3)"
   ]
  },
  {
   "cell_type": "code",
   "execution_count": null,
   "id": "a21d2131",
   "metadata": {},
   "outputs": [],
   "source": [
    "chicago.info()"
   ]
  },
  {
   "cell_type": "markdown",
   "id": "e180b058",
   "metadata": {},
   "source": [
    "# Common String Methods - <code>.lower()</code>, <code>.upper()</code>, <code>.title()</code>, and <code>.len()</code>"
   ]
  },
  {
   "cell_type": "code",
   "execution_count": null,
   "id": "e395bddb",
   "metadata": {},
   "outputs": [],
   "source": [
    "chicago = (\n",
    "    pd.read_csv(\"C:\\\\Users\\\\Maverick\\\\Documents\\\\git\\\\Data-Analysis-With-Pandas-And-Python\\\\datasets\\\\chicago.csv\")\n",
    ")\n",
    "\n",
    "chicago[\"Department\"] = chicago[\"Department\"].astype(\"category\")\n",
    "chicago.head(3)"
   ]
  },
  {
   "cell_type": "code",
   "execution_count": null,
   "id": "3edbd9df",
   "metadata": {},
   "outputs": [],
   "source": [
    "# The .str prefix handles conflicts with existing Python method names when working with Series.\n",
    "chicago[\"Name\"] = chicago[\"Name\"].str.title()\n",
    "chicago[\"Position Title\"] = chicago[\"Position Title\"].str.title()\n",
    "chicago.head(3)"
   ]
  },
  {
   "cell_type": "code",
   "execution_count": null,
   "id": "b2c5d136",
   "metadata": {},
   "outputs": [],
   "source": [
    "# .len() is an available method for Series.\n",
    "chicago[\"Department\"].str.len()"
   ]
  },
  {
   "cell_type": "markdown",
   "id": "bf943f99",
   "metadata": {},
   "source": [
    "# The <code>.str.replace()</code> Method"
   ]
  },
  {
   "cell_type": "code",
   "execution_count": null,
   "id": "92a60c20",
   "metadata": {},
   "outputs": [],
   "source": [
    "chicago = (\n",
    "    pd.read_csv(\"C:\\\\Users\\\\Maverick\\\\Documents\\\\git\\\\Data-Analysis-With-Pandas-And-Python\\\\datasets\\\\chicago.csv\")\n",
    "    .dropna(how = \"all\")\n",
    ")\n",
    "\n",
    "chicago[\"Department\"] = chicago[\"Department\"].astype(\"category\")\n",
    "chicago.head(3)"
   ]
  },
  {
   "cell_type": "code",
   "execution_count": null,
   "id": "85a19d0a",
   "metadata": {},
   "outputs": [],
   "source": [
    "chicago[\"Department\"] = chicago[\"Department\"].str.replace(\"MGMNT\", \"MANAGEMENT\")\n",
    "chicago[\"Department\"].head()"
   ]
  },
  {
   "cell_type": "code",
   "execution_count": null,
   "id": "e824fbcb",
   "metadata": {},
   "outputs": [],
   "source": [
    "chicago[\"Employee Annual Salary\"] = chicago[\"Employee Annual Salary\"].str.replace('$', '').astype(float)"
   ]
  },
  {
   "cell_type": "code",
   "execution_count": null,
   "id": "4e4b56ef",
   "metadata": {},
   "outputs": [],
   "source": [
    "chicago[\"Employee Annual Salary\"].sum()\n",
    "chicago[\"Employee Annual Salary\"].mean()\n",
    "chicago[\"Employee Annual Salary\"].std()\n",
    "chicago[\"Employee Annual Salary\"].nlargest(10)"
   ]
  },
  {
   "cell_type": "markdown",
   "id": "2ebc13ba",
   "metadata": {},
   "source": [
    "# Filter with String Methods"
   ]
  },
  {
   "cell_type": "code",
   "execution_count": null,
   "id": "64cd6990",
   "metadata": {},
   "outputs": [],
   "source": [
    "chicago = (\n",
    "    pd.read_csv(\"C:\\\\Users\\\\Maverick\\\\Documents\\\\git\\\\Data-Analysis-With-Pandas-And-Python\\\\datasets\\\\chicago.csv\")\n",
    "    .dropna(how = \"all\")\n",
    ")\n",
    "\n",
    "chicago[\"Department\"] = chicago[\"Department\"].astype(\"category\")\n",
    "chicago.tail(3)"
   ]
  },
  {
   "cell_type": "code",
   "execution_count": null,
   "id": "52ffeb9f",
   "metadata": {},
   "outputs": [],
   "source": [
    "# Returns a DataFrame where \"Position Titles\" contain the string \"water\"\n",
    "mask = chicago[\"Position Title\"].str.lower().str.contains(\"water\")\n",
    "chicago[mask]"
   ]
  },
  {
   "cell_type": "code",
   "execution_count": null,
   "id": "da539f2a",
   "metadata": {},
   "outputs": [],
   "source": [
    "# Returns a DataFrame where \"Position Titles\" start with \"water\"\n",
    "chicago[chicago[\"Position Title\"].str.lower().str.startswith(\"water\")]"
   ]
  },
  {
   "cell_type": "code",
   "execution_count": null,
   "id": "3bff69d5",
   "metadata": {},
   "outputs": [],
   "source": [
    "# Returns a DataFrame where \"Position Titles\" start with \"water\"\n",
    "mask = chicago[\"Position Title\"].str.lower().str.endswith(\"ist\")\n",
    "chicago[mask]"
   ]
  },
  {
   "cell_type": "markdown",
   "id": "6ea228dc",
   "metadata": {},
   "source": [
    "# More String Methods - <code>.strip()</code>, <code>.lstrip()</code>, and <code>.rstrip()</code>"
   ]
  },
  {
   "cell_type": "code",
   "execution_count": null,
   "id": "7be9d130",
   "metadata": {},
   "outputs": [],
   "source": [
    "chicago = (\n",
    "    pd.read_csv(\"C:\\\\Users\\\\Maverick\\\\Documents\\\\git\\\\Data-Analysis-With-Pandas-And-Python\\\\datasets\\\\chicago.csv\")\n",
    "    .dropna(how = \"all\")\n",
    ")\n",
    "\n",
    "chicago[\"Department\"] = chicago[\"Department\"].astype(\"category\")\n",
    "chicago.tail(3)"
   ]
  },
  {
   "cell_type": "code",
   "execution_count": null,
   "id": "df914bbc",
   "metadata": {},
   "outputs": [],
   "source": [
    "chicago[\"Name\"] = chicago[\"Name\"].str.rstrip().str.lstrip()"
   ]
  },
  {
   "cell_type": "code",
   "execution_count": null,
   "id": "672e99cc",
   "metadata": {},
   "outputs": [],
   "source": [
    "chicago[\"Position Title\"] = chicago[\"Position Title\"].str.strip()"
   ]
  },
  {
   "cell_type": "markdown",
   "id": "ce411741",
   "metadata": {},
   "source": [
    "# String Methods on Index and Columns"
   ]
  },
  {
   "cell_type": "code",
   "execution_count": null,
   "id": "fe05a4e5",
   "metadata": {},
   "outputs": [],
   "source": [
    "chicago = (\n",
    "    pd.read_csv(\"C:\\\\Users\\\\Maverick\\\\Documents\\\\git\\\\Data-Analysis-With-Pandas-And-Python\\\\datasets\\\\chicago.csv\",\n",
    "    index_col = \"Name\")\n",
    "    .dropna(how = \"all\")\n",
    ")\n",
    "\n",
    "chicago[\"Department\"] = chicago[\"Department\"].astype(\"category\")\n",
    "chicago.tail(3)"
   ]
  },
  {
   "cell_type": "code",
   "execution_count": null,
   "id": "3a33d0f7",
   "metadata": {},
   "outputs": [],
   "source": [
    "chicago.index = chicago.index.str.strip().str.title()\n",
    "chicago.head(3)"
   ]
  },
  {
   "cell_type": "code",
   "execution_count": null,
   "id": "0d17e76c",
   "metadata": {},
   "outputs": [],
   "source": [
    "chicago.columns = chicago.columns.str.upper()\n",
    "chicago.head(3)"
   ]
  },
  {
   "cell_type": "markdown",
   "id": "fe3636a3",
   "metadata": {},
   "source": [
    "# Split Strings by Characters with the <code>.str.split()</code> Method"
   ]
  },
  {
   "cell_type": "code",
   "execution_count": null,
   "id": "b15381d8",
   "metadata": {},
   "outputs": [],
   "source": [
    "chicago = (\n",
    "    pd.read_csv(\"C:\\\\Users\\\\Maverick\\\\Documents\\\\git\\\\Data-Analysis-With-Pandas-And-Python\\\\datasets\\\\chicago.csv\")\n",
    "    .dropna(how = \"all\")\n",
    ")\n",
    "\n",
    "chicago[\"Department\"] = chicago[\"Department\"].astype(\"category\")\n",
    "chicago.tail(3)"
   ]
  },
  {
   "cell_type": "code",
   "execution_count": null,
   "id": "4030b31f",
   "metadata": {},
   "outputs": [],
   "source": [
    "# Splits each entry by \",\" and gets the first element of each list set.\n",
    "chicago[\"Name\"].str.split(\",\").str.get(0).str.title().value_counts()"
   ]
  },
  {
   "cell_type": "code",
   "execution_count": null,
   "id": "acf0af30",
   "metadata": {},
   "outputs": [],
   "source": [
    "chicago[\"Position Title\"].str.split(\" \").str.get(0).value_counts()"
   ]
  },
  {
   "cell_type": "markdown",
   "id": "0af09cbc",
   "metadata": {},
   "source": [
    "# More Practice with Splits"
   ]
  },
  {
   "cell_type": "code",
   "execution_count": null,
   "id": "73ef331e",
   "metadata": {},
   "outputs": [],
   "source": [
    "chicago = (\n",
    "    pd.read_csv(\"C:\\\\Users\\\\Maverick\\\\Documents\\\\git\\\\Data-Analysis-With-Pandas-And-Python\\\\datasets\\\\chicago.csv\")\n",
    "    .dropna(how = \"all\")\n",
    ")\n",
    "\n",
    "chicago[\"Department\"] = chicago[\"Department\"].astype(\"category\")\n",
    "chicago.tail(3)"
   ]
  },
  {
   "cell_type": "code",
   "execution_count": null,
   "id": "568fc2de",
   "metadata": {},
   "outputs": [],
   "source": [
    "# Some serious method chaining going on here. See if you can understand what is happening.\n",
    "chicago[\"Name\"].str.split(\",\").str.get(1).str.strip().str.split(\" \").str.get(0).value_counts().head()"
   ]
  },
  {
   "cell_type": "markdown",
   "id": "bf693a62",
   "metadata": {},
   "source": [
    "# The <code>expand</code> and <code>n</code> Parameters of the <code>.str.split()</code> Method"
   ]
  },
  {
   "cell_type": "code",
   "execution_count": null,
   "id": "b589dea3",
   "metadata": {},
   "outputs": [],
   "source": [
    "chicago = (\n",
    "    pd.read_csv(\"C:\\\\Users\\\\Maverick\\\\Documents\\\\git\\\\Data-Analysis-With-Pandas-And-Python\\\\datasets\\\\chicago.csv\")\n",
    "    .dropna(how = \"all\")\n",
    ")\n",
    "\n",
    "chicago[\"Department\"] = chicago[\"Department\"].astype(\"category\")\n",
    "chicago.tail(3)"
   ]
  },
  {
   "cell_type": "code",
   "execution_count": null,
   "id": "60cf1192",
   "metadata": {},
   "outputs": [],
   "source": [
    "# Expand returns a DataFrame rather than a Series with List Values separated by columns.\n",
    "chicago[[\"First Name\", \"Last Name\"]] = chicago[\"Name\"].str.split(\",\", expand = True)\n",
    "chicago.head(3)"
   ]
  },
  {
   "cell_type": "code",
   "execution_count": null,
   "id": "bfab78ee",
   "metadata": {},
   "outputs": [],
   "source": [
    "# The n parameter is the number of times the split will occur.\n",
    "chicago[[\"First Title Word\", \"Remaining Words\"]] = chicago[\"Position Title\"].str.split(\" \", expand = True, n = 1)\n",
    "chicago.head(3)"
   ]
  }
 ],
 "metadata": {
  "kernelspec": {
   "display_name": "Python 3 (ipykernel)",
   "language": "python",
   "name": "python3"
  },
  "language_info": {
   "codemirror_mode": {
    "name": "ipython",
    "version": 3
   },
   "file_extension": ".py",
   "mimetype": "text/x-python",
   "name": "python",
   "nbconvert_exporter": "python",
   "pygments_lexer": "ipython3",
   "version": "3.10.4"
  }
 },
 "nbformat": 4,
 "nbformat_minor": 5
}
