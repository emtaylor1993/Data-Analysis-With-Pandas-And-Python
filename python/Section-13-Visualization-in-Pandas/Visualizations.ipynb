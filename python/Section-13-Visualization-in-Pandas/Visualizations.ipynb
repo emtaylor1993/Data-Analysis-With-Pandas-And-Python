{
 "cells": [
  {
   "cell_type": "markdown",
   "id": "4345e0a4",
   "metadata": {},
   "source": [
    "# Import Required Packages"
   ]
  },
  {
   "cell_type": "code",
   "execution_count": null,
   "id": "159a03c3",
   "metadata": {},
   "outputs": [],
   "source": [
    "import pandas as pd\n",
    "import matplotlib.pyplot as plt\n",
    "from pandas_datareader import data\n",
    "\n",
    "# Causes plots to display below cell instead of as a pop-up window.\n",
    "%matplotlib inline"
   ]
  },
  {
   "cell_type": "markdown",
   "id": "7f23cadb",
   "metadata": {},
   "source": [
    "# Use the <code>Plot</code> Method to Render a Line Chart"
   ]
  },
  {
   "cell_type": "code",
   "execution_count": null,
   "id": "c20fb9f3",
   "metadata": {},
   "outputs": [],
   "source": [
    "bb = data.DataReader(name = \"BB\", data_source = \"yahoo\", start = \"2007-01-01\", end = \"2020-12-31\")\n",
    "bb.head(3)"
   ]
  },
  {
   "cell_type": "code",
   "execution_count": null,
   "id": "08a35cb4",
   "metadata": {},
   "outputs": [],
   "source": [
    "bb.plot(y = \"High\")"
   ]
  },
  {
   "cell_type": "code",
   "execution_count": null,
   "id": "0a98b153",
   "metadata": {},
   "outputs": [],
   "source": [
    "bb[\"High\"].plot()"
   ]
  },
  {
   "cell_type": "code",
   "execution_count": null,
   "id": "6d0f656c",
   "metadata": {},
   "outputs": [],
   "source": [
    "bb[[\"High\", \"Close\"]].plot()"
   ]
  },
  {
   "cell_type": "markdown",
   "id": "ab9f6431",
   "metadata": {},
   "source": [
    "# Modifying Plot Aesthetics with <code>Matplotlib</code> Templates"
   ]
  },
  {
   "cell_type": "code",
   "execution_count": null,
   "id": "170c700d",
   "metadata": {},
   "outputs": [],
   "source": [
    "bb = data.DataReader(name = \"BB\", data_source = \"yahoo\", start = \"2007-01-01\", end = \"2020-12-31\")\n",
    "bb.head(3)"
   ]
  },
  {
   "cell_type": "code",
   "execution_count": null,
   "id": "bac37737",
   "metadata": {},
   "outputs": [],
   "source": [
    "plt.style.available"
   ]
  },
  {
   "cell_type": "code",
   "execution_count": null,
   "id": "b2b390e8",
   "metadata": {},
   "outputs": [],
   "source": [
    "plt.style.use(\"fivethirtyeight\")\n",
    "bb.plot(y = \"Close\")"
   ]
  },
  {
   "cell_type": "code",
   "execution_count": null,
   "id": "faf80b39",
   "metadata": {},
   "outputs": [],
   "source": [
    "plt.style.use(\"dark_background\")\n",
    "bb.plot(y = \"Close\")"
   ]
  },
  {
   "cell_type": "code",
   "execution_count": null,
   "id": "30e26af5",
   "metadata": {},
   "outputs": [],
   "source": [
    "plt.style.use(\"ggplot\")\n",
    "bb.plot(y = \"Close\")"
   ]
  },
  {
   "cell_type": "markdown",
   "id": "b514903a",
   "metadata": {},
   "source": [
    "# Creating Bar Graphs to Show Counts"
   ]
  },
  {
   "cell_type": "code",
   "execution_count": null,
   "id": "88ef3c77",
   "metadata": {},
   "outputs": [],
   "source": [
    "bb = data.DataReader(name = \"BB\", data_source = \"yahoo\", start = \"2007-01-01\", end = \"2020-12-31\")\n",
    "bb.head(3)"
   ]
  },
  {
   "cell_type": "code",
   "execution_count": null,
   "id": "c80863f4",
   "metadata": {},
   "outputs": [],
   "source": [
    "def rank_performance(stock_price):\n",
    "    if stock_price <= 10:\n",
    "        return \"Poor\"\n",
    "    elif stock_price <= 50:\n",
    "        return \"Satisfactory\"\n",
    "    else:\n",
    "        return \"Stellar\""
   ]
  },
  {
   "cell_type": "code",
   "execution_count": null,
   "id": "0e66b8d3",
   "metadata": {},
   "outputs": [],
   "source": [
    "bb[\"Close\"].apply(rank_performance).value_counts().plot(kind = \"bar\")"
   ]
  },
  {
   "cell_type": "code",
   "execution_count": null,
   "id": "109411ca",
   "metadata": {},
   "outputs": [],
   "source": [
    "bb[\"Close\"].apply(rank_performance).value_counts().plot(kind = \"barh\")"
   ]
  },
  {
   "cell_type": "markdown",
   "id": "2e6cc9f5",
   "metadata": {},
   "source": [
    "# Creating Pie Charts to Represent Proportions"
   ]
  },
  {
   "cell_type": "code",
   "execution_count": null,
   "id": "82d9e438",
   "metadata": {},
   "outputs": [],
   "source": [
    "bb = data.DataReader(name = \"BB\", data_source = \"yahoo\", start = \"2007-01-01\", end = \"2020-12-31\")\n",
    "bb.head(3)"
   ]
  },
  {
   "cell_type": "code",
   "execution_count": null,
   "id": "26d258a3",
   "metadata": {},
   "outputs": [],
   "source": [
    "bb[\"Close\"].mean()"
   ]
  },
  {
   "cell_type": "code",
   "execution_count": null,
   "id": "8b30f8d6",
   "metadata": {},
   "outputs": [],
   "source": [
    "def rank_performance(stock_price):\n",
    "    if stock_price >= 29.452764073094578:\n",
    "        return \"Above Average\"\n",
    "    else:\n",
    "        return \"Below Average\""
   ]
  },
  {
   "cell_type": "code",
   "execution_count": null,
   "id": "592d88d6",
   "metadata": {},
   "outputs": [],
   "source": [
    "plt.style.use(\"dark_background\")\n",
    "bb[\"Close\"].apply(rank_performance).value_counts().plot(kind = \"pie\", legend = True)"
   ]
  }
 ],
 "metadata": {
  "kernelspec": {
   "display_name": "Python 3 (ipykernel)",
   "language": "python",
   "name": "python3"
  },
  "language_info": {
   "codemirror_mode": {
    "name": "ipython",
    "version": 3
   },
   "file_extension": ".py",
   "mimetype": "text/x-python",
   "name": "python",
   "nbconvert_exporter": "python",
   "pygments_lexer": "ipython3",
   "version": "3.10.4"
  }
 },
 "nbformat": 4,
 "nbformat_minor": 5
}
