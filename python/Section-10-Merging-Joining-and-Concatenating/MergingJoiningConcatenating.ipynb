{
 "cells": [
  {
   "cell_type": "markdown",
   "id": "7ac1929d",
   "metadata": {},
   "source": [
    "# Importing Pandas and DataSet"
   ]
  },
  {
   "cell_type": "code",
   "execution_count": null,
   "id": "88b1181f",
   "metadata": {},
   "outputs": [],
   "source": [
    "import pandas as pd"
   ]
  },
  {
   "cell_type": "markdown",
   "id": "dc06ce42",
   "metadata": {},
   "source": [
    "# The <code>pd.concat()</code> Method, Part 1"
   ]
  },
  {
   "cell_type": "code",
   "execution_count": null,
   "id": "f448c287",
   "metadata": {},
   "outputs": [],
   "source": [
    "week1 = (\n",
    "    pd.read_csv(\"C://Users//Maverick//Documents//git//Data-Analysis-With-Pandas-And-Python//datasets//Restaurant - Week 1 Sales.csv\")\n",
    ")\n",
    "\n",
    "week2 = (\n",
    "    pd.read_csv(\"C://Users//Maverick//Documents//git//Data-Analysis-With-Pandas-And-Python//datasets//Restaurant - Week 2 Sales.csv\")\n",
    ")\n",
    "\n",
    "customers = (\n",
    "    pd.read_csv(\"C://Users//Maverick//Documents//git//Data-Analysis-With-Pandas-And-Python//datasets//Restaurant - Customers.csv\")\n",
    ")\n",
    "\n",
    "foods = (\n",
    "    pd.read_csv(\"C://Users//Maverick//Documents//git//Data-Analysis-With-Pandas-And-Python//datasets//Restaurant - Foods.csv\")\n",
    ")"
   ]
  },
  {
   "cell_type": "code",
   "execution_count": null,
   "id": "70912a0b",
   "metadata": {},
   "outputs": [],
   "source": [
    "week1.head(3)"
   ]
  },
  {
   "cell_type": "code",
   "execution_count": null,
   "id": "cc23495e",
   "metadata": {},
   "outputs": [],
   "source": [
    "week2.head(3)"
   ]
  },
  {
   "cell_type": "code",
   "execution_count": null,
   "id": "697ed32d",
   "metadata": {},
   "outputs": [],
   "source": [
    "pd.concat(objs = [week1, week2])\n",
    "pd.concat(objs = [week1, week2], ignore_index = True)"
   ]
  },
  {
   "cell_type": "code",
   "execution_count": null,
   "id": "4bacc2a0",
   "metadata": {},
   "outputs": [],
   "source": [
    "# Will soon be deprecated.\n",
    "week1.append(other = week2)\n",
    "week1.append(other = week2, ignore_index = True)"
   ]
  },
  {
   "cell_type": "markdown",
   "id": "805521cb",
   "metadata": {},
   "source": [
    "# The <code>pd.concat()</code> Method, Part 2"
   ]
  },
  {
   "cell_type": "code",
   "execution_count": null,
   "id": "ac584c4c",
   "metadata": {},
   "outputs": [],
   "source": [
    "week1 = (\n",
    "    pd.read_csv(\"C://Users//Maverick//Documents//git//Data-Analysis-With-Pandas-And-Python//datasets//Restaurant - Week 1 Sales.csv\")\n",
    ")\n",
    "\n",
    "week2 = (\n",
    "    pd.read_csv(\"C://Users//Maverick//Documents//git//Data-Analysis-With-Pandas-And-Python//datasets//Restaurant - Week 2 Sales.csv\")\n",
    ")\n",
    "\n",
    "customers = (\n",
    "    pd.read_csv(\"C://Users//Maverick//Documents//git//Data-Analysis-With-Pandas-And-Python//datasets//Restaurant - Customers.csv\")\n",
    ")\n",
    "\n",
    "foods = (\n",
    "    pd.read_csv(\"C://Users//Maverick//Documents//git//Data-Analysis-With-Pandas-And-Python//datasets//Restaurant - Foods.csv\")\n",
    ")"
   ]
  },
  {
   "cell_type": "code",
   "execution_count": null,
   "id": "ef175d2b",
   "metadata": {},
   "outputs": [],
   "source": [
    "sales = pd.concat(objs = [week1, week2], keys = [\"Week 1\", \"Week 2\"])\n",
    "sales.head(3)"
   ]
  },
  {
   "cell_type": "code",
   "execution_count": null,
   "id": "1f624143",
   "metadata": {},
   "outputs": [],
   "source": [
    "sales.loc[(\"Week 1\",)]\n",
    "sales.loc[(\"Week 2\",)]\n",
    "sales.loc[(\"Week 1\", 240)]\n",
    "sales.loc[(\"Week 2\", 183)]\n",
    "sales.loc[(\"Week 1\", 240), \"Customer ID\"]\n",
    "sales.loc[(\"Week 2\", 183), [\"Customer ID\", \"Food ID\"]]"
   ]
  },
  {
   "cell_type": "markdown",
   "id": "7ae0df23",
   "metadata": {},
   "source": [
    "# Inner Joins, Part 1"
   ]
  },
  {
   "cell_type": "code",
   "execution_count": null,
   "id": "94314fb0",
   "metadata": {},
   "outputs": [],
   "source": [
    "week1 = (\n",
    "    pd.read_csv(\"C://Users//Maverick//Documents//git//Data-Analysis-With-Pandas-And-Python//datasets//Restaurant - Week 1 Sales.csv\")\n",
    ")\n",
    "\n",
    "week2 = (\n",
    "    pd.read_csv(\"C://Users//Maverick//Documents//git//Data-Analysis-With-Pandas-And-Python//datasets//Restaurant - Week 2 Sales.csv\")\n",
    ")\n",
    "\n",
    "customers = (\n",
    "    pd.read_csv(\"C://Users//Maverick//Documents//git//Data-Analysis-With-Pandas-And-Python//datasets//Restaurant - Customers.csv\")\n",
    ")\n",
    "\n",
    "foods = (\n",
    "    pd.read_csv(\"C://Users//Maverick//Documents//git//Data-Analysis-With-Pandas-And-Python//datasets//Restaurant - Foods.csv\")\n",
    ")"
   ]
  },
  {
   "cell_type": "code",
   "execution_count": null,
   "id": "f6f706f9",
   "metadata": {},
   "outputs": [],
   "source": [
    "week1.head(2)"
   ]
  },
  {
   "cell_type": "code",
   "execution_count": null,
   "id": "0bb834da",
   "metadata": {},
   "outputs": [],
   "source": [
    "week2.head(2)"
   ]
  },
  {
   "cell_type": "code",
   "execution_count": null,
   "id": "331a0e9a",
   "metadata": {},
   "outputs": [],
   "source": [
    "# Merges the two DataFrames on Customer ID. Does not dedup.\n",
    "week1.merge(week2, how = \"inner\", on = \"Customer ID\", suffixes = [\" - Week 1\", \" - Week 2\"]).head(4)"
   ]
  },
  {
   "cell_type": "code",
   "execution_count": null,
   "id": "479579de",
   "metadata": {},
   "outputs": [],
   "source": [
    "week1[week1[\"Customer ID\"] == 155]"
   ]
  },
  {
   "cell_type": "code",
   "execution_count": null,
   "id": "fb772bf8",
   "metadata": {},
   "outputs": [],
   "source": [
    "week2[week2[\"Customer ID\"] == 155]"
   ]
  },
  {
   "cell_type": "markdown",
   "id": "a27a39b3",
   "metadata": {},
   "source": [
    "# Inner Joins, Part 2"
   ]
  },
  {
   "cell_type": "code",
   "execution_count": null,
   "id": "4ae05e42",
   "metadata": {},
   "outputs": [],
   "source": [
    "week1 = (\n",
    "    pd.read_csv(\"C://Users//Maverick//Documents//git//Data-Analysis-With-Pandas-And-Python//datasets//Restaurant - Week 1 Sales.csv\")\n",
    ")\n",
    "\n",
    "week2 = (\n",
    "    pd.read_csv(\"C://Users//Maverick//Documents//git//Data-Analysis-With-Pandas-And-Python//datasets//Restaurant - Week 2 Sales.csv\")\n",
    ")\n",
    "\n",
    "customers = (\n",
    "    pd.read_csv(\"C://Users//Maverick//Documents//git//Data-Analysis-With-Pandas-And-Python//datasets//Restaurant - Customers.csv\")\n",
    ")\n",
    "\n",
    "foods = (\n",
    "    pd.read_csv(\"C://Users//Maverick//Documents//git//Data-Analysis-With-Pandas-And-Python//datasets//Restaurant - Foods.csv\")\n",
    ")"
   ]
  },
  {
   "cell_type": "code",
   "execution_count": null,
   "id": "f049f108",
   "metadata": {},
   "outputs": [],
   "source": [
    "week1.head(2)"
   ]
  },
  {
   "cell_type": "code",
   "execution_count": null,
   "id": "e954908b",
   "metadata": {},
   "outputs": [],
   "source": [
    "week2.head(2)"
   ]
  },
  {
   "cell_type": "code",
   "execution_count": null,
   "id": "cdc2470e",
   "metadata": {},
   "outputs": [],
   "source": [
    "week1.merge(week2, how = \"inner\", on = [\"Customer ID\", \"Food ID\"])"
   ]
  },
  {
   "cell_type": "code",
   "execution_count": null,
   "id": "ee00801c",
   "metadata": {},
   "outputs": [],
   "source": [
    "week1[week1[\"Customer ID\"] == 21]"
   ]
  },
  {
   "cell_type": "code",
   "execution_count": null,
   "id": "08064631",
   "metadata": {},
   "outputs": [],
   "source": [
    "week2[week2[\"Customer ID\"] == 21]"
   ]
  },
  {
   "cell_type": "markdown",
   "id": "b6a2e6e2",
   "metadata": {},
   "source": [
    "# Outer Joins"
   ]
  },
  {
   "cell_type": "code",
   "execution_count": null,
   "id": "c28b1f5e",
   "metadata": {},
   "outputs": [],
   "source": [
    "week1 = (\n",
    "    pd.read_csv(\"C://Users//Maverick//Documents//git//Data-Analysis-With-Pandas-And-Python//datasets//Restaurant - Week 1 Sales.csv\")\n",
    ")\n",
    "\n",
    "week2 = (\n",
    "    pd.read_csv(\"C://Users//Maverick//Documents//git//Data-Analysis-With-Pandas-And-Python//datasets//Restaurant - Week 2 Sales.csv\")\n",
    ")\n",
    "\n",
    "customers = (\n",
    "    pd.read_csv(\"C://Users//Maverick//Documents//git//Data-Analysis-With-Pandas-And-Python//datasets//Restaurant - Customers.csv\")\n",
    ")\n",
    "\n",
    "foods = (\n",
    "    pd.read_csv(\"C://Users//Maverick//Documents//git//Data-Analysis-With-Pandas-And-Python//datasets//Restaurant - Foods.csv\")\n",
    ")"
   ]
  },
  {
   "cell_type": "code",
   "execution_count": null,
   "id": "a04ef5c5",
   "metadata": {},
   "outputs": [],
   "source": [
    "week1.head(2)"
   ]
  },
  {
   "cell_type": "code",
   "execution_count": null,
   "id": "f53192bf",
   "metadata": {},
   "outputs": [],
   "source": [
    "week2.head(2)"
   ]
  },
  {
   "cell_type": "code",
   "execution_count": null,
   "id": "c91a96d7",
   "metadata": {},
   "outputs": [],
   "source": [
    "week1.merge(week2, how = \"outer\", on = \"Customer ID\", suffixes = [\" - Week 1\", \" - Week 2\"])"
   ]
  },
  {
   "cell_type": "code",
   "execution_count": null,
   "id": "823b7eea",
   "metadata": {},
   "outputs": [],
   "source": [
    "week1.merge(week2, how = \"outer\", on = \"Customer ID\", suffixes = [\" - Week 1\", \" - Week 2\"], indicator = True)"
   ]
  },
  {
   "cell_type": "code",
   "execution_count": null,
   "id": "172b9af8",
   "metadata": {},
   "outputs": [],
   "source": [
    "merged = week1.merge(week2, how = \"outer\", on = \"Customer ID\", suffixes = [\" - Week 1\", \" - Week 2\"], indicator = True)\n",
    "merged[\"_merge\"].value_counts()"
   ]
  },
  {
   "cell_type": "code",
   "execution_count": null,
   "id": "c9b36433",
   "metadata": {},
   "outputs": [],
   "source": [
    "# Every unique value from either the left or right, not both.\n",
    "mask = merged[\"_merge\"].isin([\"left_only\", \"right_only\"])\n",
    "merged[mask]"
   ]
  },
  {
   "cell_type": "markdown",
   "id": "c8eb6ad7",
   "metadata": {},
   "source": [
    "# Left Joins"
   ]
  },
  {
   "cell_type": "code",
   "execution_count": null,
   "id": "24453fa7",
   "metadata": {},
   "outputs": [],
   "source": [
    "week1 = (\n",
    "    pd.read_csv(\"C://Users//Maverick//Documents//git//Data-Analysis-With-Pandas-And-Python//datasets//Restaurant - Week 1 Sales.csv\")\n",
    ")\n",
    "\n",
    "week2 = (\n",
    "    pd.read_csv(\"C://Users//Maverick//Documents//git//Data-Analysis-With-Pandas-And-Python//datasets//Restaurant - Week 2 Sales.csv\")\n",
    ")\n",
    "\n",
    "customers = (\n",
    "    pd.read_csv(\"C://Users//Maverick//Documents//git//Data-Analysis-With-Pandas-And-Python//datasets//Restaurant - Customers.csv\")\n",
    ")\n",
    "\n",
    "foods = (\n",
    "    pd.read_csv(\"C://Users//Maverick//Documents//git//Data-Analysis-With-Pandas-And-Python//datasets//Restaurant - Foods.csv\")\n",
    ")"
   ]
  },
  {
   "cell_type": "code",
   "execution_count": null,
   "id": "2d28eb59",
   "metadata": {},
   "outputs": [],
   "source": [
    "week1.head(3)"
   ]
  },
  {
   "cell_type": "code",
   "execution_count": null,
   "id": "ce35f7be",
   "metadata": {},
   "outputs": [],
   "source": [
    "foods.head(3)"
   ]
  },
  {
   "cell_type": "code",
   "execution_count": null,
   "id": "473b6ae5",
   "metadata": {},
   "outputs": [],
   "source": [
    "# Calling sort will sort based on the \"on\" column which is \"Food ID\"\n",
    "week1 = week1.merge(foods, how = \"left\", on = \"Food ID\", sort = True)\n",
    "week1.head()"
   ]
  },
  {
   "cell_type": "markdown",
   "id": "edac0a90",
   "metadata": {},
   "source": [
    "# The <code>left_on</code> and <code>right_on</code> Parameters"
   ]
  },
  {
   "cell_type": "code",
   "execution_count": null,
   "id": "20401d8e",
   "metadata": {},
   "outputs": [],
   "source": [
    "week1 = (\n",
    "    pd.read_csv(\"C://Users//Maverick//Documents//git//Data-Analysis-With-Pandas-And-Python//datasets//Restaurant - Week 1 Sales.csv\")\n",
    ")\n",
    "\n",
    "week2 = (\n",
    "    pd.read_csv(\"C://Users//Maverick//Documents//git//Data-Analysis-With-Pandas-And-Python//datasets//Restaurant - Week 2 Sales.csv\")\n",
    ")\n",
    "\n",
    "customers = (\n",
    "    pd.read_csv(\"C://Users//Maverick//Documents//git//Data-Analysis-With-Pandas-And-Python//datasets//Restaurant - Customers.csv\")\n",
    ")\n",
    "\n",
    "foods = (\n",
    "    pd.read_csv(\"C://Users//Maverick//Documents//git//Data-Analysis-With-Pandas-And-Python//datasets//Restaurant - Foods.csv\")\n",
    ")"
   ]
  },
  {
   "cell_type": "code",
   "execution_count": null,
   "id": "228ea629",
   "metadata": {},
   "outputs": [],
   "source": [
    "week2.head(3)"
   ]
  },
  {
   "cell_type": "code",
   "execution_count": null,
   "id": "ac2cc024",
   "metadata": {},
   "outputs": [],
   "source": [
    "customers.head(3)"
   ]
  },
  {
   "cell_type": "code",
   "execution_count": null,
   "id": "06de05a7",
   "metadata": {},
   "outputs": [],
   "source": [
    "# This will create a duplicate column with both sides. You can drop one.\n",
    "week2.merge(customers, how = \"left\", left_on = \"Customer ID\", right_on = \"ID\")\n",
    "week2 = week2.merge(customers, how = \"left\", left_on = \"Customer ID\", right_on = \"ID\", sort = True).drop(\"ID\", axis = 1)\n",
    "week2.head()"
   ]
  },
  {
   "cell_type": "markdown",
   "id": "f17bcc12",
   "metadata": {},
   "source": [
    "# Merging by Indexes with the <code>left_index</code> and <code>right_index</code> Parameters"
   ]
  },
  {
   "cell_type": "code",
   "execution_count": null,
   "id": "5b1f00c4",
   "metadata": {},
   "outputs": [],
   "source": [
    "week1 = (\n",
    "    pd.read_csv(\"C://Users//Maverick//Documents//git//Data-Analysis-With-Pandas-And-Python//datasets//Restaurant - Week 1 Sales.csv\")\n",
    ")\n",
    "\n",
    "week2 = (\n",
    "    pd.read_csv(\"C://Users//Maverick//Documents//git//Data-Analysis-With-Pandas-And-Python//datasets//Restaurant - Week 2 Sales.csv\")\n",
    ")\n",
    "\n",
    "customers = (\n",
    "    pd.read_csv(\"C://Users//Maverick//Documents//git//Data-Analysis-With-Pandas-And-Python//datasets//Restaurant - Customers.csv\",\n",
    "    index_col = \"ID\")\n",
    ")\n",
    "\n",
    "foods = (\n",
    "    pd.read_csv(\"C://Users//Maverick//Documents//git//Data-Analysis-With-Pandas-And-Python//datasets//Restaurant - Foods.csv\",\n",
    "    index_col = \"Food ID\")\n",
    ")"
   ]
  },
  {
   "cell_type": "code",
   "execution_count": null,
   "id": "126c3c00",
   "metadata": {},
   "outputs": [],
   "source": [
    "customers.head()"
   ]
  },
  {
   "cell_type": "code",
   "execution_count": null,
   "id": "83d03254",
   "metadata": {},
   "outputs": [],
   "source": [
    "foods.head()"
   ]
  },
  {
   "cell_type": "code",
   "execution_count": null,
   "id": "625029d0",
   "metadata": {},
   "outputs": [],
   "source": [
    "week1.head()"
   ]
  },
  {
   "cell_type": "code",
   "execution_count": null,
   "id": "98dd8940",
   "metadata": {},
   "outputs": [],
   "source": [
    "sales = week1.merge(customers, how = \"left\", left_on = \"Customer ID\", right_index = True)\n",
    "sales.head()"
   ]
  },
  {
   "cell_type": "code",
   "execution_count": null,
   "id": "d3013b78",
   "metadata": {},
   "outputs": [],
   "source": [
    "sales.merge(foods, how = \"left\", left_on = \"Food ID\", right_index = True)"
   ]
  },
  {
   "cell_type": "code",
   "execution_count": null,
   "id": "03f5551c",
   "metadata": {},
   "outputs": [],
   "source": [
    "week1.head(3)"
   ]
  },
  {
   "cell_type": "code",
   "execution_count": null,
   "id": "cd623512",
   "metadata": {},
   "outputs": [],
   "source": [
    "week2.head(3)"
   ]
  },
  {
   "cell_type": "code",
   "execution_count": null,
   "id": "d5ef80f5",
   "metadata": {},
   "outputs": [],
   "source": [
    "week1.merge(week2, how = \"left\", left_index = True, right_index = True, suffixes = [\" - Week 1\", \" - Week 2\"])"
   ]
  },
  {
   "cell_type": "markdown",
   "id": "6d4d0557",
   "metadata": {},
   "source": [
    "# The <code>.join()</code> Method"
   ]
  },
  {
   "cell_type": "code",
   "execution_count": null,
   "id": "15fe6304",
   "metadata": {},
   "outputs": [],
   "source": [
    "week1 = (\n",
    "    pd.read_csv(\"C://Users//Maverick//Documents//git//Data-Analysis-With-Pandas-And-Python//datasets//Restaurant - Week 1 Sales.csv\")\n",
    ")\n",
    "\n",
    "week2 = (\n",
    "    pd.read_csv(\"C://Users//Maverick//Documents//git//Data-Analysis-With-Pandas-And-Python//datasets//Restaurant - Week 2 Sales.csv\")\n",
    ")\n",
    "\n",
    "customers = (\n",
    "    pd.read_csv(\"C://Users//Maverick//Documents//git//Data-Analysis-With-Pandas-And-Python//datasets//Restaurant - Customers.csv\")\n",
    ")\n",
    "\n",
    "foods = (\n",
    "    pd.read_csv(\"C://Users//Maverick//Documents//git//Data-Analysis-With-Pandas-And-Python//datasets//Restaurant - Foods.csv\")\n",
    ")\n",
    "\n",
    "satisfaction = (\n",
    "    pd.read_csv(\"C://Users//Maverick//Documents//git//Data-Analysis-With-Pandas-And-Python//datasets//Restaurant - Week 1 Satisfaction.csv\")\n",
    ")"
   ]
  },
  {
   "cell_type": "code",
   "execution_count": null,
   "id": "c4825ef6",
   "metadata": {},
   "outputs": [],
   "source": [
    "week1.head(3)"
   ]
  },
  {
   "cell_type": "code",
   "execution_count": null,
   "id": "afcabb17",
   "metadata": {},
   "outputs": [],
   "source": [
    "satisfaction.head(3)"
   ]
  },
  {
   "cell_type": "code",
   "execution_count": null,
   "id": "74eee9b0",
   "metadata": {},
   "outputs": [],
   "source": [
    "week1.merge(satisfaction, how = \"left\", left_index = True, right_index = True)"
   ]
  },
  {
   "cell_type": "code",
   "execution_count": null,
   "id": "68b7cfc5",
   "metadata": {},
   "outputs": [],
   "source": [
    "week1.join(satisfaction)"
   ]
  },
  {
   "cell_type": "markdown",
   "id": "b898597f",
   "metadata": {},
   "source": [
    "# The <code>pd.merge()</code> Method"
   ]
  },
  {
   "cell_type": "code",
   "execution_count": null,
   "id": "691f3ea1",
   "metadata": {},
   "outputs": [],
   "source": [
    "week1 = (\n",
    "    pd.read_csv(\"C://Users//Maverick//Documents//git//Data-Analysis-With-Pandas-And-Python//datasets//Restaurant - Week 1 Sales.csv\")\n",
    ")\n",
    "\n",
    "week2 = (\n",
    "    pd.read_csv(\"C://Users//Maverick//Documents//git//Data-Analysis-With-Pandas-And-Python//datasets//Restaurant - Week 2 Sales.csv\")\n",
    ")\n",
    "\n",
    "customers = (\n",
    "    pd.read_csv(\"C://Users//Maverick//Documents//git//Data-Analysis-With-Pandas-And-Python//datasets//Restaurant - Customers.csv\")\n",
    ")\n",
    "\n",
    "foods = (\n",
    "    pd.read_csv(\"C://Users//Maverick//Documents//git//Data-Analysis-With-Pandas-And-Python//datasets//Restaurant - Foods.csv\")\n",
    ")\n",
    "\n",
    "satisfaction = (\n",
    "    pd.read_csv(\"C://Users//Maverick//Documents//git//Data-Analysis-With-Pandas-And-Python//datasets//Restaurant - Week 1 Satisfaction.csv\")\n",
    ")"
   ]
  },
  {
   "cell_type": "code",
   "execution_count": null,
   "id": "c89c7e54",
   "metadata": {},
   "outputs": [],
   "source": [
    "week1.head(3)"
   ]
  },
  {
   "cell_type": "code",
   "execution_count": null,
   "id": "7dff7544",
   "metadata": {},
   "outputs": [],
   "source": [
    "customers.head(3)"
   ]
  },
  {
   "cell_type": "code",
   "execution_count": null,
   "id": "7c2b2b55",
   "metadata": {},
   "outputs": [],
   "source": [
    "pd.merge(week1, customers, how = \"left\", left_on = \"Customer ID\", right_on = \"ID\").drop(\"ID\", axis = 1)"
   ]
  }
 ],
 "metadata": {
  "kernelspec": {
   "display_name": "Python 3 (ipykernel)",
   "language": "python",
   "name": "python3"
  },
  "language_info": {
   "codemirror_mode": {
    "name": "ipython",
    "version": 3
   },
   "file_extension": ".py",
   "mimetype": "text/x-python",
   "name": "python",
   "nbconvert_exporter": "python",
   "pygments_lexer": "ipython3",
   "version": "3.10.4"
  }
 },
 "nbformat": 4,
 "nbformat_minor": 5
}
