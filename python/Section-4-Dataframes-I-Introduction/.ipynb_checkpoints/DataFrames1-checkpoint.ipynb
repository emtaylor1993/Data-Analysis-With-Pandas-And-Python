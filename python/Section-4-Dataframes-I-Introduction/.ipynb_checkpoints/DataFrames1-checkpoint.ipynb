{
 "cells": [
  {
   "cell_type": "markdown",
   "id": "3b3a69c2",
   "metadata": {},
   "source": [
    "# Shared Methods and Attributes between Series and DataFrames"
   ]
  },
  {
   "cell_type": "code",
   "execution_count": null,
   "id": "8b78a0d2",
   "metadata": {},
   "outputs": [],
   "source": [
    "# A pandas Series is a one dimensional data structure. A single column of data.\n",
    "# A dataframe is a two dimensional data structure, like a regular table.\n",
    "import pandas as pd\n",
    "nba = pd.read_csv(\"C:\\\\Users\\\\Maverick\\\\Documents\\\\git\\\\Data-Analysis-With-Pandas-And-Python\\\\datasets\\\\nba.csv\")"
   ]
  },
  {
   "cell_type": "code",
   "execution_count": null,
   "id": "03070f1d",
   "metadata": {},
   "outputs": [],
   "source": [
    "# The .head() method shows the first 5 rows just like in a pandas Series.\n",
    "nba.head()"
   ]
  },
  {
   "cell_type": "code",
   "execution_count": null,
   "id": "5667f030",
   "metadata": {},
   "outputs": [],
   "source": [
    "# The .tail() method shows the last 5 rows just like in a pandas Series.\n",
    "nba.tail()"
   ]
  },
  {
   "cell_type": "code",
   "execution_count": null,
   "id": "02b14c91",
   "metadata": {},
   "outputs": [],
   "source": [
    "nba.index"
   ]
  },
  {
   "cell_type": "code",
   "execution_count": null,
   "id": "999f64bf",
   "metadata": {},
   "outputs": [],
   "source": [
    "# Shows the numpy object that makes up the DataFrame.\n",
    "nba.values"
   ]
  },
  {
   "cell_type": "code",
   "execution_count": null,
   "id": "8c9cd5f7",
   "metadata": {},
   "outputs": [],
   "source": [
    "# Gives the tuple containing the dimensions of the DataFrame.\n",
    "nba.shape"
   ]
  },
  {
   "cell_type": "code",
   "execution_count": null,
   "id": "3b98db78",
   "metadata": {},
   "outputs": [],
   "source": [
    "# Returns the object type of each column in the DataFrame.\n",
    "nba.dtypes"
   ]
  },
  {
   "cell_type": "code",
   "execution_count": null,
   "id": "e853f99c",
   "metadata": {},
   "outputs": [],
   "source": [
    "nba.dtypes.value_counts()"
   ]
  },
  {
   "cell_type": "code",
   "execution_count": null,
   "id": "f2b9eff3",
   "metadata": {},
   "outputs": [],
   "source": [
    "# DataFrame exclusive attriibute .columns will return a list of column names.\n",
    "nba.columns"
   ]
  },
  {
   "cell_type": "code",
   "execution_count": null,
   "id": "c6ec8cd3",
   "metadata": {},
   "outputs": [],
   "source": [
    "# DataFrame exclusive attribute .axes will return both sets of indices.\n",
    "nba.axes"
   ]
  },
  {
   "cell_type": "code",
   "execution_count": null,
   "id": "a2d64b40",
   "metadata": {},
   "outputs": [],
   "source": [
    "# DataFrame exclusive method .info() will show a big picture summary of DataFrame.\n",
    "nba.info()"
   ]
  },
  {
   "cell_type": "markdown",
   "id": "2ff4efc5",
   "metadata": {},
   "source": [
    "## Difference between Shared Methods"
   ]
  },
  {
   "cell_type": "code",
   "execution_count": null,
   "id": "4ae2e30e",
   "metadata": {},
   "outputs": [],
   "source": [
    "rev = (\n",
    "    pd.read_csv(\"C:\\\\Users\\\\Maverick\\\\Documents\\\\git\\\\Data-Analysis-With-Pandas-And-Python\\\\datasets\\\\revenue.csv\", \n",
    "    index_col = \"Date\")\n",
    ")\n",
    "\n",
    "rev.head(3)"
   ]
  },
  {
   "cell_type": "code",
   "execution_count": null,
   "id": "05f0eb0c",
   "metadata": {},
   "outputs": [],
   "source": [
    "# Calling .sum() on a DataFrame returns a series with the sums of each column.\n",
    "rev.sum()"
   ]
  },
  {
   "cell_type": "code",
   "execution_count": null,
   "id": "f429b1b6",
   "metadata": {},
   "outputs": [],
   "source": [
    "# The .sum() method on a DataFrame also has an axis parameter that enables summing horizontally.\n",
    "rev.sum(axis = \"columns\")"
   ]
  },
  {
   "cell_type": "markdown",
   "id": "790cd59b",
   "metadata": {},
   "source": [
    "## Select One Column from a DataFrame"
   ]
  },
  {
   "cell_type": "code",
   "execution_count": null,
   "id": "faaf3328",
   "metadata": {},
   "outputs": [],
   "source": [
    "nba = pd.read_csv(\"C:\\\\Users\\\\Maverick\\\\Documents\\\\git\\\\Data-Analysis-With-Pandas-And-Python\\\\datasets\\\\nba.csv\")\n",
    "nba.head(3)"
   ]
  },
  {
   "cell_type": "code",
   "execution_count": null,
   "id": "9de67bd6",
   "metadata": {},
   "outputs": [],
   "source": [
    "# You can extract a column simply by calling the column name as an attribute.\n",
    "# Note: Does not work when column names are more than a single word.\n",
    "nba.Name"
   ]
  },
  {
   "cell_type": "code",
   "execution_count": null,
   "id": "c9e2173b",
   "metadata": {},
   "outputs": [],
   "source": [
    "# You can access one or more columns in one line this way.\n",
    "nba[\"Name\"]"
   ]
  },
  {
   "cell_type": "code",
   "execution_count": null,
   "id": "9c8928a4",
   "metadata": {},
   "outputs": [],
   "source": [
    "# A single column extracted from a DataFrame becomes a pandas Series.\n",
    "type(nba[\"Name\"])"
   ]
  },
  {
   "cell_type": "code",
   "execution_count": null,
   "id": "55dcff25",
   "metadata": {},
   "outputs": [],
   "source": [
    "nba[\"Name\"].head(3)"
   ]
  },
  {
   "cell_type": "markdown",
   "id": "26789412",
   "metadata": {},
   "source": [
    "## Select Two or More Columns from a DataFrame"
   ]
  },
  {
   "cell_type": "code",
   "execution_count": null,
   "id": "f30fc447",
   "metadata": {},
   "outputs": [],
   "source": [
    "nba = pd.read_csv(\"C:\\\\Users\\\\Maverick\\\\Documents\\\\git\\\\Data-Analysis-With-Pandas-And-Python\\\\datasets\\\\nba.csv\")\n",
    "nba.head(3)"
   ]
  },
  {
   "cell_type": "code",
   "execution_count": null,
   "id": "0a593d2e",
   "metadata": {},
   "outputs": [],
   "source": [
    "nba[[\"Name\", \"Team\"]].head(3)"
   ]
  },
  {
   "cell_type": "code",
   "execution_count": null,
   "id": "88150f28",
   "metadata": {},
   "outputs": [],
   "source": [
    "# You can control the order based on how the list argument is input.\n",
    "nba[[\"Team\", \"Name\"]].head(3)"
   ]
  },
  {
   "cell_type": "code",
   "execution_count": null,
   "id": "bd549a87",
   "metadata": {},
   "outputs": [],
   "source": [
    "nba[[\"Salary\", \"Team\", \"Name\"]].tail()"
   ]
  },
  {
   "cell_type": "code",
   "execution_count": null,
   "id": "83d8573f",
   "metadata": {},
   "outputs": [],
   "source": [
    "# A cleaner way to do the above:\n",
    "select = [\"Salary\", \"Team\", \"Name\"]\n",
    "nba[select].tail()"
   ]
  },
  {
   "cell_type": "markdown",
   "id": "bd5152d0",
   "metadata": {},
   "source": [
    "## Add New Column to DataFrame"
   ]
  },
  {
   "cell_type": "code",
   "execution_count": null,
   "id": "ece9e00e",
   "metadata": {},
   "outputs": [],
   "source": [
    "nba = pd.read_csv(\"C:\\\\Users\\\\Maverick\\\\Documents\\\\git\\\\Data-Analysis-With-Pandas-And-Python\\\\datasets\\\\nba.csv\")\n",
    "nba.head(3)"
   ]
  },
  {
   "cell_type": "code",
   "execution_count": null,
   "id": "9583419d",
   "metadata": {},
   "outputs": [],
   "source": [
    "# You can add a column to a pandas DataFrame by assigning the DataFrame with the column name\n",
    "# and setting it equal to values. Be careful not to overwrite!\n",
    "nba[\"Sport\"] = \"Basketball\"\n",
    "nba.head(3)"
   ]
  },
  {
   "cell_type": "code",
   "execution_count": null,
   "id": "6acf1653",
   "metadata": {},
   "outputs": [],
   "source": [
    "nba[\"League\"] = \"National Basketball Association\"\n",
    "nba.head(3)"
   ]
  },
  {
   "cell_type": "code",
   "execution_count": null,
   "id": "431cb4e2",
   "metadata": {},
   "outputs": [],
   "source": [
    "nba = pd.read_csv(\"C:\\\\Users\\\\Maverick\\\\Documents\\\\git\\\\Data-Analysis-With-Pandas-And-Python\\\\datasets\\\\nba.csv\")\n",
    "nba.head(3)"
   ]
  },
  {
   "cell_type": "code",
   "execution_count": null,
   "id": "1cf04790",
   "metadata": {},
   "outputs": [],
   "source": [
    "# Another way to do this is to use the .insert() method, you can\n",
    "# choose the index to insert the new column.\n",
    "nba.insert(3, column = \"Sport\", value = \"Basketball\")\n",
    "nba.head(3)"
   ]
  },
  {
   "cell_type": "code",
   "execution_count": null,
   "id": "f042c2ec",
   "metadata": {},
   "outputs": [],
   "source": [
    "nba.insert(7, column = \"League\", value = \"National Basketball Association\")\n",
    "nba.head(3)"
   ]
  },
  {
   "cell_type": "markdown",
   "id": "7623182f",
   "metadata": {},
   "source": [
    "## Broadcasting Operations"
   ]
  },
  {
   "cell_type": "code",
   "execution_count": null,
   "id": "f76f4d81",
   "metadata": {},
   "outputs": [],
   "source": [
    "nba = pd.read_csv(\"C:\\\\Users\\\\Maverick\\\\Documents\\\\git\\\\Data-Analysis-With-Pandas-And-Python\\\\datasets\\\\nba.csv\")\n",
    "nba.head(3)"
   ]
  },
  {
   "cell_type": "code",
   "execution_count": null,
   "id": "c4d8443e",
   "metadata": {},
   "outputs": [],
   "source": [
    "# Adding 5 to the age of every player in the DataFrame.\n",
    "nba[\"Age\"].add(5) # Can also do nba[\"Age\"] + 5"
   ]
  },
  {
   "cell_type": "code",
   "execution_count": null,
   "id": "4b4ea44a",
   "metadata": {},
   "outputs": [],
   "source": [
    "# Subtraction 5 million from the salary of every player in the DataFrame.\n",
    "nba[\"Salary\"].sub(5000000) # Can also do nba[\"Salary\"] = 5000000"
   ]
  },
  {
   "cell_type": "code",
   "execution_count": null,
   "id": "ba78abb3",
   "metadata": {},
   "outputs": [],
   "source": [
    "# Multipliying each weight by 0.45 to convert from pounds to kilograms.\n",
    "nba[\"Weight\"].mul(0.453592) # Can also do nba[\"Weight\"].mul(0.453592)"
   ]
  },
  {
   "cell_type": "code",
   "execution_count": null,
   "id": "fac6131f",
   "metadata": {},
   "outputs": [],
   "source": [
    "nba[\"Weight in Kilograms\"] = nba[\"Weight\"] * 0.453592\n",
    "nba.head(3)"
   ]
  },
  {
   "cell_type": "code",
   "execution_count": null,
   "id": "137e463a",
   "metadata": {},
   "outputs": [],
   "source": [
    "# Dividing each NBA player's salary by 1000000\n",
    "nba[\"Salary\"].div(1000000) # Can also do nba[\"Salary\"] / 1000000\n",
    "nba[\"Salary in Millions\"] = nba[\"Salary\"].div(1000000)\n",
    "nba.head(3)"
   ]
  },
  {
   "cell_type": "markdown",
   "id": "3b7d9b23",
   "metadata": {},
   "source": [
    "# A Review of the .value_counts() Method"
   ]
  },
  {
   "cell_type": "code",
   "execution_count": null,
   "id": "e3a25116",
   "metadata": {},
   "outputs": [],
   "source": [
    "nba = pd.read_csv(\"C:\\\\Users\\\\Maverick\\\\Documents\\\\git\\\\Data-Analysis-With-Pandas-And-Python\\\\datasets\\\\nba.csv\")\n",
    "nba.head(3)"
   ]
  },
  {
   "cell_type": "code",
   "execution_count": null,
   "id": "11949700",
   "metadata": {},
   "outputs": [],
   "source": [
    "nba[\"Position\"].value_counts()"
   ]
  },
  {
   "cell_type": "markdown",
   "id": "b0699b6b",
   "metadata": {},
   "source": [
    "# Drop Rows with Null Values"
   ]
  },
  {
   "cell_type": "code",
   "execution_count": null,
   "id": "230b9dc4",
   "metadata": {},
   "outputs": [],
   "source": [
    "nba = pd.read_csv(\"C:\\\\Users\\\\Maverick\\\\Documents\\\\git\\\\Data-Analysis-With-Pandas-And-Python\\\\datasets\\\\nba.csv\")\n",
    "nba.head(3)"
   ]
  },
  {
   "cell_type": "code",
   "execution_count": null,
   "id": "18216fca",
   "metadata": {},
   "outputs": [],
   "source": [
    "nba.tail(3)"
   ]
  },
  {
   "cell_type": "code",
   "execution_count": null,
   "id": "6f87c524",
   "metadata": {},
   "outputs": [],
   "source": [
    "# The .dropna() method will drop any rows that contain NaN rows.\n",
    "nba.dropna(how = \"all\", inplace = True) # Using \"all\" will only remove rows where all values are NaN\n",
    "nba.tail(3)"
   ]
  },
  {
   "cell_type": "code",
   "execution_count": null,
   "id": "019ac752",
   "metadata": {},
   "outputs": [],
   "source": [
    "# To remove columns with NaN, use .dropna() with axis set to 1.\n",
    "nba.dropna(axis = 1)"
   ]
  },
  {
   "cell_type": "code",
   "execution_count": null,
   "id": "095acb73",
   "metadata": {},
   "outputs": [],
   "source": [
    "# Dropping rows that contain a NaN value in the Salary column only.\n",
    "nba.dropna(subset = [\"Salary\"])"
   ]
  },
  {
   "cell_type": "markdown",
   "id": "0b9bf13a",
   "metadata": {},
   "source": [
    "# Fill in Null Values with the .fillna() Method"
   ]
  },
  {
   "cell_type": "code",
   "execution_count": null,
   "id": "106f1383",
   "metadata": {},
   "outputs": [],
   "source": [
    "nba = pd.read_csv(\"C:\\\\Users\\\\Maverick\\\\Documents\\\\git\\\\Data-Analysis-With-Pandas-And-Python\\\\datasets\\\\nba.csv\")\n",
    "nba.head(3)"
   ]
  },
  {
   "cell_type": "code",
   "execution_count": null,
   "id": "4f24f8d8",
   "metadata": {},
   "outputs": [],
   "source": [
    "# Be careful using this as type errors can occur\n",
    "nba.fillna(0)"
   ]
  },
  {
   "cell_type": "code",
   "execution_count": null,
   "id": "8bb157ac",
   "metadata": {},
   "outputs": [],
   "source": [
    "# To avoid the above problem, call .fillna() on the Series within the DataFrame.\n",
    "nba[\"Salary\"].fillna(0, inplace = True)\n",
    "nba.head()"
   ]
  },
  {
   "cell_type": "code",
   "execution_count": null,
   "id": "ba67369b",
   "metadata": {},
   "outputs": [],
   "source": [
    "nba[\"College\"].fillna(\"No College\", inplace = True)\n",
    "nba.head()"
   ]
  },
  {
   "cell_type": "markdown",
   "id": "d03f8dfa",
   "metadata": {},
   "source": [
    "# The .astype() Method"
   ]
  },
  {
   "cell_type": "code",
   "execution_count": null,
   "id": "f535e637",
   "metadata": {},
   "outputs": [],
   "source": [
    "nba = pd.read_csv(\"C:\\\\Users\\\\Maverick\\\\Documents\\\\git\\\\Data-Analysis-With-Pandas-And-Python\\\\datasets\\\\nba.csv\")\n",
    "nba.tail(3)"
   ]
  },
  {
   "cell_type": "code",
   "execution_count": null,
   "id": "3b82b4b6",
   "metadata": {},
   "outputs": [],
   "source": [
    "nba[\"Salary\"].fillna(0, inplace = True)\n",
    "nba[\"College\"].fillna(\"None\", inplace = True)\n",
    "nba.head(6)"
   ]
  },
  {
   "cell_type": "code",
   "execution_count": null,
   "id": "a9323034",
   "metadata": {},
   "outputs": [],
   "source": [
    "nba.dtypes"
   ]
  },
  {
   "cell_type": "code",
   "execution_count": null,
   "id": "a0fbb819",
   "metadata": {},
   "outputs": [],
   "source": [
    "nba.info()"
   ]
  },
  {
   "cell_type": "code",
   "execution_count": null,
   "id": "a2d890cb",
   "metadata": {},
   "outputs": [],
   "source": [
    "# The .astype() method is used to convert from one type to another.\n",
    "nba[\"Salary\"] = nba[\"Salary\"].astype(\"int\")"
   ]
  },
  {
   "cell_type": "code",
   "execution_count": null,
   "id": "df60df25",
   "metadata": {},
   "outputs": [],
   "source": [
    "nba[\"Salary\"].head()"
   ]
  },
  {
   "cell_type": "code",
   "execution_count": null,
   "id": "03ac6ce7",
   "metadata": {},
   "outputs": [],
   "source": [
    "nba[\"Position\"].nunique()"
   ]
  },
  {
   "cell_type": "code",
   "execution_count": null,
   "id": "8ce95067",
   "metadata": {},
   "outputs": [],
   "source": [
    "nba[\"Position\"].astype(\"category\")"
   ]
  },
  {
   "cell_type": "code",
   "execution_count": null,
   "id": "5b144aee",
   "metadata": {},
   "outputs": [],
   "source": [
    "nba[\"Team\"].nunique()"
   ]
  },
  {
   "cell_type": "code",
   "execution_count": null,
   "id": "0216fd60",
   "metadata": {},
   "outputs": [],
   "source": [
    "nba[\"Team\"] = nba[\"Team\"].astype(\"category\")\n",
    "nba.head()"
   ]
  },
  {
   "cell_type": "markdown",
   "id": "f81b0090",
   "metadata": {},
   "source": [
    "# Sort a DataFrame with the .sort_values Method, Part I"
   ]
  },
  {
   "cell_type": "code",
   "execution_count": null,
   "id": "f9e48df3",
   "metadata": {},
   "outputs": [],
   "source": [
    "nba = pd.read_csv(\"C:\\\\Users\\\\Maverick\\\\Documents\\\\git\\\\Data-Analysis-With-Pandas-And-Python\\\\datasets\\\\nba.csv\")\n",
    "nba.head(3)"
   ]
  },
  {
   "cell_type": "code",
   "execution_count": null,
   "id": "9ce408d8",
   "metadata": {},
   "outputs": [],
   "source": [
    "nba.sort_values(\"Name\")"
   ]
  },
  {
   "cell_type": "markdown",
   "id": "e2d44c79",
   "metadata": {},
   "source": [
    "# Sort a DataFrame with the .sort_values() Method, Part II"
   ]
  },
  {
   "cell_type": "code",
   "execution_count": null,
   "id": "7d44c6b9",
   "metadata": {},
   "outputs": [],
   "source": [
    "nba = pd.read_csv(\"C:\\\\Users\\\\Maverick\\\\Documents\\\\git\\\\Data-Analysis-With-Pandas-And-Python\\\\datasets\\\\nba.csv\")\n",
    "nba.head(3)"
   ]
  },
  {
   "cell_type": "code",
   "execution_count": null,
   "id": "8204fb2c",
   "metadata": {},
   "outputs": [],
   "source": [
    "nba.sort_values([\"Team\", \"Name\"])\n"
   ]
  },
  {
   "cell_type": "code",
   "execution_count": null,
   "id": "aefd7873",
   "metadata": {},
   "outputs": [],
   "source": [
    "nba.sort_values([\"Team\", \"Name\"], ascending = [True, False])"
   ]
  },
  {
   "cell_type": "markdown",
   "id": "6da6f8a4",
   "metadata": {},
   "source": [
    "# Sort DataFrame with the .sort_index() Method"
   ]
  },
  {
   "cell_type": "code",
   "execution_count": null,
   "id": "0d339bd1",
   "metadata": {},
   "outputs": [],
   "source": [
    "nba = pd.read_csv(\"C:\\\\Users\\\\Maverick\\\\Documents\\\\git\\\\Data-Analysis-With-Pandas-And-Python\\\\datasets\\\\nba.csv\")\n",
    "nba.head(3)"
   ]
  },
  {
   "cell_type": "code",
   "execution_count": null,
   "id": "a3483470",
   "metadata": {},
   "outputs": [],
   "source": [
    "nba.sort_values([\"Number\", \"Salary\", \"Name\"], inplace = True)\n",
    "nba.tail(3)"
   ]
  },
  {
   "cell_type": "code",
   "execution_count": null,
   "id": "6b486711",
   "metadata": {},
   "outputs": [],
   "source": [
    "nba.sort_index(ascending = False, inplace = True)\n",
    "nba.head(3)"
   ]
  },
  {
   "cell_type": "markdown",
   "id": "60d96b89",
   "metadata": {},
   "source": [
    "# Rank Values with the .rank() Method"
   ]
  },
  {
   "cell_type": "code",
   "execution_count": null,
   "id": "f778cdac",
   "metadata": {},
   "outputs": [],
   "source": [
    "# Getting rid of all NaN values in the salary column.\n",
    "nba = (\n",
    "    pd.read_csv(\"C:\\\\Users\\\\Maverick\\\\Documents\\\\git\\\\Data-Analysis-With-Pandas-And-Python\\\\datasets\\\\nba.csv\")\n",
    "    .dropna(how = \"all\")\n",
    ")\n",
    "\n",
    "nba[\"Salary\"] = nba[\"Salary\"].fillna(0).astype(\"int\")\n",
    "nba.head(3)"
   ]
  },
  {
   "cell_type": "code",
   "execution_count": null,
   "id": "ce9a79e4",
   "metadata": {},
   "outputs": [],
   "source": [
    "# By default, smaller salaries are reversed with higher ranks.\n",
    "nba[\"Salary Rank\"] = nba[\"Salary\"].rank(ascending = False).astype(\"int\")\n",
    "nba.head(3)"
   ]
  },
  {
   "cell_type": "code",
   "execution_count": null,
   "id": "0dd2fd73",
   "metadata": {},
   "outputs": [],
   "source": [
    "nba.sort_values(by = \"Salary\", ascending = False)"
   ]
  }
 ],
 "metadata": {
  "kernelspec": {
   "display_name": "Python 3 (ipykernel)",
   "language": "python",
   "name": "python3"
  },
  "language_info": {
   "codemirror_mode": {
    "name": "ipython",
    "version": 3
   },
   "file_extension": ".py",
   "mimetype": "text/x-python",
   "name": "python",
   "nbconvert_exporter": "python",
   "pygments_lexer": "ipython3",
   "version": "3.10.4"
  }
 },
 "nbformat": 4,
 "nbformat_minor": 5
}
