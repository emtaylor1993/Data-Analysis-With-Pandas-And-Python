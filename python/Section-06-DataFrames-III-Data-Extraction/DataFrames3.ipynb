{
 "cells": [
  {
   "cell_type": "markdown",
   "id": "1083cc0e",
   "metadata": {},
   "source": [
    "# Importing Pandas and DataFrame"
   ]
  },
  {
   "cell_type": "code",
   "execution_count": null,
   "id": "53038367",
   "metadata": {},
   "outputs": [],
   "source": [
    "import pandas as pd"
   ]
  },
  {
   "cell_type": "code",
   "execution_count": null,
   "id": "08ec0c5b",
   "metadata": {},
   "outputs": [],
   "source": [
    "bond = (\n",
    "    pd.read_csv(\"C:/Users/Maverick/Documents/git/Data-Analysis-With-Pandas-And-Python/datasets/jamesbond.csv\")\n",
    ")\n",
    "\n",
    "bond.head(3)"
   ]
  },
  {
   "cell_type": "markdown",
   "id": "4d14d3d9",
   "metadata": {},
   "source": [
    "# The <code>set_index()</code> and <code>reset_index()</code> Methods"
   ]
  },
  {
   "cell_type": "code",
   "execution_count": null,
   "id": "d42ff13b",
   "metadata": {},
   "outputs": [],
   "source": [
    "bond = (\n",
    "    pd.read_csv(\"C:/Users/Maverick/Documents/git/Data-Analysis-With-Pandas-And-Python/datasets/jamesbond.csv\")\n",
    ")\n",
    "\n",
    "# You can choose a key in which to use as the index for a DataFrame.\n",
    "bond.set_index(keys = \"Film\", inplace = True)\n",
    "bond.head(3)"
   ]
  },
  {
   "cell_type": "code",
   "execution_count": null,
   "id": "3b1c2375",
   "metadata": {},
   "outputs": [],
   "source": [
    "# Resets the DataFrame's index back to the standard sorted numerical index.\n",
    "bond.reset_index(inplace = True)\n",
    "bond.head(3)"
   ]
  },
  {
   "cell_type": "code",
   "execution_count": null,
   "id": "a95e8cfb",
   "metadata": {
    "scrolled": true
   },
   "outputs": [],
   "source": [
    "bond.set_index(\"Film\", inplace = True)\n",
    "bond.head(3)"
   ]
  },
  {
   "cell_type": "code",
   "execution_count": null,
   "id": "f621ac3d",
   "metadata": {
    "scrolled": true
   },
   "outputs": [],
   "source": [
    "# By default, replaces the previous index value and drops it out of memory.\n",
    "bond.set_index(\"Year\")"
   ]
  },
  {
   "cell_type": "code",
   "execution_count": null,
   "id": "e011434b",
   "metadata": {},
   "outputs": [],
   "source": [
    "# Combining the two methods prevents the automatic drop from the DataFrame.\n",
    "bond.reset_index(inplace = True)\n",
    "bond.set_index(\"Year\", inplace = True)\n",
    "bond.head(3)"
   ]
  },
  {
   "cell_type": "markdown",
   "id": "e5be8ab0",
   "metadata": {},
   "source": [
    "# Retrieve Rows by Index Label with <code>.loc[]</code> Accessor"
   ]
  },
  {
   "cell_type": "code",
   "execution_count": null,
   "id": "db0b50e4",
   "metadata": {},
   "outputs": [],
   "source": [
    "# By sorting the index before accessing values, we can see a speed improvement over large datasets.\n",
    "bond = (\n",
    "    pd.read_csv(\"C:/Users/Maverick/Documents/git/Data-Analysis-With-Pandas-And-Python/datasets/jamesbond.csv\",\n",
    "    index_col = \"Film\")\n",
    ")\n",
    "bond.sort_index(inplace = True)\n",
    "bond.head(3)"
   ]
  },
  {
   "cell_type": "code",
   "execution_count": null,
   "id": "ca8cf550",
   "metadata": {},
   "outputs": [],
   "source": [
    "# Index Label must exist or you will get a Key Error.\n",
    "bond.loc[\"Goldfinger\"]\n",
    "bond.loc[\"GoldenEye\"]"
   ]
  },
  {
   "cell_type": "code",
   "execution_count": null,
   "id": "325946df",
   "metadata": {},
   "outputs": [],
   "source": [
    "# If there are multiple rows with the Index Label, a DataFrame will be returned.\n",
    "bond.loc[\"Casino Royale\"]"
   ]
  },
  {
   "cell_type": "code",
   "execution_count": null,
   "id": "039a82ad",
   "metadata": {},
   "outputs": [],
   "source": [
    "# The .loc[] Accessor can handle List Slices with step intervals as well.\n",
    "bond.loc[\"Diamonds Are Forever\" : \"From Russia with Love\"]\n",
    "bond.loc[\"Diamonds Are Forever\" : \"From Russia with Love\" : 2]"
   ]
  },
  {
   "cell_type": "code",
   "execution_count": null,
   "id": "062660a3",
   "metadata": {},
   "outputs": [],
   "source": [
    "# Selects rows from \"GoldenEye\" to the end of the DataFrame.\n",
    "bond.loc[\"GoldenEye\" :]"
   ]
  },
  {
   "cell_type": "code",
   "execution_count": null,
   "id": "554495cc",
   "metadata": {
    "scrolled": false
   },
   "outputs": [],
   "source": [
    "# Selects Rows from the DataFrame up to \"On Her Majesty's Secret Service\"\n",
    "bond.loc[: \"On Her Majesty's Secret Service\"]"
   ]
  },
  {
   "cell_type": "code",
   "execution_count": null,
   "id": "47693224",
   "metadata": {},
   "outputs": [],
   "source": [
    "# Pulls out multiple rows at once by passing in a list.\n",
    "bond.loc[[\"Die Another Day\", \"Octopussy\"]]"
   ]
  },
  {
   "cell_type": "markdown",
   "id": "5a230263",
   "metadata": {},
   "source": [
    "# Retrieve Rows by Index Position with <code>.iloc[]</code> Accessor"
   ]
  },
  {
   "cell_type": "code",
   "execution_count": null,
   "id": "87f3a79b",
   "metadata": {},
   "outputs": [],
   "source": [
    "bond = (\n",
    "    pd.read_csv(\"C:/Users/Maverick/Documents/git/Data-Analysis-With-Pandas-And-Python/datasets/jamesbond.csv\",)\n",
    ")\n",
    "\n",
    "bond.head(3)"
   ]
  },
  {
   "cell_type": "code",
   "execution_count": null,
   "id": "cdc2d76e",
   "metadata": {},
   "outputs": [],
   "source": [
    "# Returns a series based on the index number, rather than index label.\n",
    "bond.iloc[0]\n",
    "bond.iloc[15]"
   ]
  },
  {
   "cell_type": "code",
   "execution_count": null,
   "id": "f6757527",
   "metadata": {},
   "outputs": [],
   "source": [
    "# Also supports multiple rows by passing in a list.\n",
    "bond.iloc[[15, 20]]"
   ]
  },
  {
   "cell_type": "code",
   "execution_count": null,
   "id": "8696b18e",
   "metadata": {},
   "outputs": [],
   "source": [
    "# iloc[] also supports List Slices too. Note, iloc[] is not inclusive like loc[]\n",
    "bond.iloc[4:8]"
   ]
  },
  {
   "cell_type": "code",
   "execution_count": null,
   "id": "567fdb08",
   "metadata": {},
   "outputs": [],
   "source": [
    "# Sets index to the film name and sorts it.\n",
    "bond.set_index(\"Film\", inplace = True)\n",
    "bond.sort_index(inplace = True)\n",
    "bond.head(3)"
   ]
  },
  {
   "cell_type": "code",
   "execution_count": null,
   "id": "f2d71528",
   "metadata": {},
   "outputs": [],
   "source": [
    "# Works normally.\n",
    "bond.loc[\"GoldenEye\"]"
   ]
  },
  {
   "cell_type": "code",
   "execution_count": null,
   "id": "45d51767",
   "metadata": {},
   "outputs": [],
   "source": [
    "# Even though the index is a string, they still have index values.\n",
    "bond.iloc[0]"
   ]
  },
  {
   "cell_type": "markdown",
   "id": "357a000e",
   "metadata": {},
   "source": [
    "# Second Arguments to <code>.loc[]</code> and <code>.iloc[]</code> Accessors"
   ]
  },
  {
   "cell_type": "code",
   "execution_count": null,
   "id": "268c4b3d",
   "metadata": {},
   "outputs": [],
   "source": [
    "bond = (\n",
    "    pd.read_csv(\"C:/Users/Maverick/Documents/git/Data-Analysis-With-Pandas-And-Python/datasets/jamesbond.csv\",\n",
    "    index_col = \"Film\")\n",
    ")\n",
    "bond.sort_index(inplace = True)\n",
    "bond.head(3)"
   ]
  },
  {
   "cell_type": "code",
   "execution_count": null,
   "id": "739148ac",
   "metadata": {},
   "outputs": [],
   "source": [
    "bond.loc[\"Moonraker\"]"
   ]
  },
  {
   "cell_type": "code",
   "execution_count": null,
   "id": "136aaf66",
   "metadata": {},
   "outputs": [],
   "source": [
    "# To specify which columns to pull out, we can use the following syntax:\n",
    "bond.loc[\"Moonraker\", \"Actor\"]\n",
    "bond.loc[\"Moonraker\", \"Director\"]\n",
    "bond.loc[\"Moonraker\", [\"Director\", \"Box Office\"]]\n",
    "bond.loc[[\"Moonraker\", \"A View to a Kill\"], [\"Director\", \"Box Office\"]]"
   ]
  },
  {
   "cell_type": "code",
   "execution_count": null,
   "id": "d31c52b9",
   "metadata": {},
   "outputs": [],
   "source": [
    "# Pandas supports list slicing syntax options here also:\n",
    "bond.loc[\"Moonraker\", \"Director\" : \"Budget\"]\n",
    "bond.loc[\"Moonraker\" : \"Thunderball\", \"Director\" : \"Budget\"]\n",
    "bond.loc[\"Moonraker\" : , \"Director\" :]\n",
    "bond.loc[ : \"Moonraker\", : \"Budget\"]"
   ]
  },
  {
   "cell_type": "code",
   "execution_count": null,
   "id": "9aa3bd03",
   "metadata": {},
   "outputs": [],
   "source": [
    "# The same can be done with iloc, except we use index positions rather than values.\n",
    "# Remember that iloc is exclusive, unlike loc.\n",
    "bond.iloc[14]\n",
    "bond.iloc[14, 2]\n",
    "bond.iloc[14, 2:5]\n",
    "bond.iloc[[14, 17], [2, 4]]\n",
    "bond.iloc[:7, [2, 4]]\n",
    "bond.iloc[:7, :3]"
   ]
  },
  {
   "cell_type": "markdown",
   "id": "62e32c7b",
   "metadata": {},
   "source": [
    "# Set New Value for a Specific Cell"
   ]
  },
  {
   "cell_type": "code",
   "execution_count": null,
   "id": "d90514f4",
   "metadata": {},
   "outputs": [],
   "source": [
    "bond = (\n",
    "    pd.read_csv(\"C:/Users/Maverick/Documents/git/Data-Analysis-With-Pandas-And-Python/datasets/jamesbond.csv\",\n",
    "    index_col = \"Film\")\n",
    ")\n",
    "\n",
    "bond.sort_index(inplace = True)\n",
    "bond.head(3)"
   ]
  },
  {
   "cell_type": "code",
   "execution_count": null,
   "id": "de845fc0",
   "metadata": {},
   "outputs": [],
   "source": [
    "# We can overwrite the value by simply assigning it a new one.\n",
    "bond.loc[\"Dr. No\"]\n",
    "bond.loc[\"Dr. No\", \"Actor\"]\n",
    "bond.loc[\"Dr. No\", \"Actor\"] = \"Sir Sean Connery\"\n",
    "bond.loc[\"Dr. No\", \"Actor\"]"
   ]
  },
  {
   "cell_type": "code",
   "execution_count": null,
   "id": "a205b6f6",
   "metadata": {},
   "outputs": [],
   "source": [
    "bond.loc[\"Dr. No\", [\"Box Office\", \"Budget\", \"Bond Actor Salary\"]] = [448000000, 7000000, 600000]\n",
    "bond.loc[\"Dr. No\"]"
   ]
  },
  {
   "cell_type": "markdown",
   "id": "1a9648e8",
   "metadata": {},
   "source": [
    "# Set Multiple Values in DataFrame"
   ]
  },
  {
   "cell_type": "code",
   "execution_count": null,
   "id": "683e76fd",
   "metadata": {},
   "outputs": [],
   "source": [
    "bond = (\n",
    "    pd.read_csv(\"C:/Users/Maverick/Documents/git/Data-Analysis-With-Pandas-And-Python/datasets/jamesbond.csv\",\n",
    "    index_col = \"Film\")\n",
    ")\n",
    "\n",
    "bond.sort_index(inplace = True)\n",
    "bond.head(3)"
   ]
  },
  {
   "cell_type": "code",
   "execution_count": null,
   "id": "97e63538",
   "metadata": {},
   "outputs": [],
   "source": [
    "actor_is_sean_connery = bond[\"Actor\"] == \"Sean Connery\""
   ]
  },
  {
   "cell_type": "code",
   "execution_count": null,
   "id": "95a42367",
   "metadata": {},
   "outputs": [],
   "source": [
    "# Change all values of Sean Connery in the DataFrame to Sir Sean Connery\n",
    "bond.loc[actor_is_sean_connery, \"Actor\"] = \"Sir Sean Connery\"\n",
    "bond.head()"
   ]
  },
  {
   "cell_type": "markdown",
   "id": "ad9bea70",
   "metadata": {},
   "source": [
    "# Rename Index Labels or Columns in a DataFrame"
   ]
  },
  {
   "cell_type": "code",
   "execution_count": null,
   "id": "e449726e",
   "metadata": {},
   "outputs": [],
   "source": [
    "bond = (\n",
    "    pd.read_csv(\"C:/Users/Maverick/Documents/git/Data-Analysis-With-Pandas-And-Python/datasets/jamesbond.csv\",\n",
    "    index_col = \"Film\")\n",
    ")\n",
    "\n",
    "bond.sort_index(inplace = True)\n",
    "bond.head(3)"
   ]
  },
  {
   "cell_type": "code",
   "execution_count": null,
   "id": "5e2f3d31",
   "metadata": {
    "scrolled": true
   },
   "outputs": [],
   "source": [
    "# Mapper by default looks for the 0th row. Don't forget to use the axis parameter if you\n",
    "# want to rename on other rows!\n",
    "bond.rename(mapper = {\"GoldenEye\" : \"Golden Eye\", \"The World Is Not Enough\" : \"Best Bond Movie Ever\"})\n",
    "bond.rename(mapper = {\"GoldenEye\" : \"Golden Eye\", \"The World Is Not Enough\" : \"Best Bond Movie Ever\"}, axis = 0)\n",
    "bond.rename(mapper = {\"GoldenEye\" : \"Golden Eye\", \"The World Is Not Enough\" : \"Best Bond Movie Ever\"}, axis = \"rows\")\n",
    "bond.rename(mapper = {\"GoldenEye\" : \"Golden Eye\",  \"The World Is Not Enough\" : \"Best Bond Movie Ever\"}, axis = \"index\")"
   ]
  },
  {
   "cell_type": "code",
   "execution_count": null,
   "id": "602cb97c",
   "metadata": {
    "scrolled": true
   },
   "outputs": [],
   "source": [
    "# Index will do the same as mapper, but does not require the axis parameter.\n",
    "bond.rename(index = {\"GoldenEye\" : \"Golden Eye\", \"The World Is Not Enough\" : \"Best Bond Movie Ever\"}, inplace = True)\n",
    "bond"
   ]
  },
  {
   "cell_type": "code",
   "execution_count": null,
   "id": "7173e9df",
   "metadata": {},
   "outputs": [],
   "source": [
    "# Renaming columns follows the same logic as renaming rows.\n",
    "bond.rename(mapper = {\"Year\" : \"Release Date\", \"Box Office\" : \"Revenue\"}, axis = 1)\n",
    "bond.rename(mapper = {\"Year\" : \"Release Date\", \"Box Office\" : \"Revenue\"}, axis = \"columns\")\n",
    "bond.rename(columns = {\"Year\" : \"Release Date\", \"Box Office\" : \"Revenue\"})\n",
    "bond.rename(columns = {\"Year\" : \"Release Date\", \"Box Office\" : \"Revenue\"}, inplace = True)\n",
    "bond.head(1)"
   ]
  },
  {
   "cell_type": "code",
   "execution_count": null,
   "id": "24e4d24a",
   "metadata": {},
   "outputs": [],
   "source": [
    "# We can also overwrite names for columns by using the columns attribute.\n",
    "# Note: You must provide a list of equal length.\n",
    "bond.columns = [\"Year of Release\", \"Actor\", \"Director\", \"Gross\", \"Cost\", \"Salary\"]\n",
    "bond.head(1)"
   ]
  },
  {
   "cell_type": "markdown",
   "id": "460b06a6",
   "metadata": {},
   "source": [
    "# Delete Rows or Columns from a DataFrame"
   ]
  },
  {
   "cell_type": "code",
   "execution_count": null,
   "id": "3647ee93",
   "metadata": {},
   "outputs": [],
   "source": [
    "bond = (\n",
    "    pd.read_csv(\"C:/Users/Maverick/Documents/git/Data-Analysis-With-Pandas-And-Python/datasets/jamesbond.csv\",\n",
    "    index_col = \"Film\")\n",
    ")\n",
    "\n",
    "bond.sort_index(inplace = True)\n",
    "bond.head(3)"
   ]
  },
  {
   "cell_type": "code",
   "execution_count": null,
   "id": "e5fba933",
   "metadata": {
    "scrolled": true
   },
   "outputs": [],
   "source": [
    "# You can drop rows from a DataFrame simply by passing in the Index Label or Position.\n",
    "bond.drop(\"A View to a Kill\")\n",
    "bond.drop([\"A View to a Kill\", \"Die Another Day\", \"From Russia with Love\"])\n",
    "bond.drop(\"Casino Royale\")"
   ]
  },
  {
   "cell_type": "code",
   "execution_count": null,
   "id": "259d5e2c",
   "metadata": {},
   "outputs": [],
   "source": [
    "# The same can be done with columns, specifying axis = 1.\n",
    "bond.drop([\"Box Office\", \"Bond Actor Salary\", \"Actor\"], axis = 1, inplace = True)\n",
    "bond.head()"
   ]
  },
  {
   "cell_type": "code",
   "execution_count": null,
   "id": "0b40ffac",
   "metadata": {},
   "outputs": [],
   "source": [
    "bond = (\n",
    "    pd.read_csv(\"C:/Users/Maverick/Documents/git/Data-Analysis-With-Pandas-And-Python/datasets/jamesbond.csv\",\n",
    "    index_col = \"Film\")\n",
    ")\n",
    "\n",
    "bond.sort_index(inplace = True)\n",
    "bond.head(3)"
   ]
  },
  {
   "cell_type": "code",
   "execution_count": null,
   "id": "84c87668",
   "metadata": {},
   "outputs": [],
   "source": [
    "# Pop will remove the passed in row/column as well as return it.\n",
    "# This will allow the ability to store the row/column.\n",
    "actor = bond.pop(\"Actor\")"
   ]
  },
  {
   "cell_type": "code",
   "execution_count": null,
   "id": "d71fe627",
   "metadata": {},
   "outputs": [],
   "source": [
    "bond\n",
    "actor"
   ]
  },
  {
   "cell_type": "code",
   "execution_count": null,
   "id": "67b22e19",
   "metadata": {},
   "outputs": [],
   "source": [
    "bond = (\n",
    "    pd.read_csv(\"C:/Users/Maverick/Documents/git/Data-Analysis-With-Pandas-And-Python/datasets/jamesbond.csv\",\n",
    "    index_col = \"Film\")\n",
    ")\n",
    "\n",
    "bond.sort_index(inplace = True)\n",
    "bond.head(3)"
   ]
  },
  {
   "cell_type": "code",
   "execution_count": null,
   "id": "5df3c6c4",
   "metadata": {},
   "outputs": [],
   "source": [
    "# We can use Python's del keyword to remove columns/rows as well.\n",
    "del bond[\"Director\"]"
   ]
  },
  {
   "cell_type": "code",
   "execution_count": null,
   "id": "6bf314d5",
   "metadata": {
    "scrolled": true
   },
   "outputs": [],
   "source": [
    "bond"
   ]
  },
  {
   "cell_type": "markdown",
   "id": "b4634e40",
   "metadata": {},
   "source": [
    "# Create Random Sample"
   ]
  },
  {
   "cell_type": "code",
   "execution_count": null,
   "id": "9ebf63ef",
   "metadata": {},
   "outputs": [],
   "source": [
    "bond = (\n",
    "    pd.read_csv(\"C:/Users/Maverick/Documents/git/Data-Analysis-With-Pandas-And-Python/datasets/jamesbond.csv\",\n",
    "    index_col = \"Film\")\n",
    ")\n",
    "\n",
    "bond.sort_index(inplace = True)\n",
    "bond.head(3)"
   ]
  },
  {
   "cell_type": "code",
   "execution_count": null,
   "id": "5a9c4f64",
   "metadata": {},
   "outputs": [],
   "source": [
    "# The .sample() method by default returns a random row.\n",
    "bond.sample()\n",
    "bond.sample(n = 5)\n",
    "bond.sample(frac = .25)"
   ]
  },
  {
   "cell_type": "code",
   "execution_count": null,
   "id": "da3fad6d",
   "metadata": {},
   "outputs": [],
   "source": [
    "# The .sample() method can also be used to pull random columns by using the axis parameter.\n",
    "bond.sample(axis = 1)\n",
    "bond.sample(n = 5, axis = \"columns\")\n",
    "bond.sample(frac = .25, axis = 1)"
   ]
  },
  {
   "cell_type": "markdown",
   "id": "77c1a44a",
   "metadata": {},
   "source": [
    "# The <code>.nsmallest()</code> and <code>.nlargest()</code> Methods"
   ]
  },
  {
   "cell_type": "code",
   "execution_count": null,
   "id": "e50909d0",
   "metadata": {},
   "outputs": [],
   "source": [
    "bond = (\n",
    "    pd.read_csv(\"C:/Users/Maverick/Documents/git/Data-Analysis-With-Pandas-And-Python/datasets/jamesbond.csv\",\n",
    "    index_col = \"Film\")\n",
    ")\n",
    "\n",
    "bond.sort_index(inplace = True)\n",
    "bond.head(3)"
   ]
  },
  {
   "cell_type": "code",
   "execution_count": null,
   "id": "20eadd6e",
   "metadata": {},
   "outputs": [],
   "source": [
    "# Find the three largest grosses in the Box Office column.\n",
    "bond.sort_values(\"Box Office\", ascending = False).head(3)"
   ]
  },
  {
   "cell_type": "code",
   "execution_count": null,
   "id": "c2a52953",
   "metadata": {},
   "outputs": [],
   "source": [
    "# This can also be done using the .nlargest() method. Can be more efficient than\n",
    "# sorting an entire DataFrame.\n",
    "bond.nlargest(3, \"Box Office\")"
   ]
  },
  {
   "cell_type": "code",
   "execution_count": null,
   "id": "f546400e",
   "metadata": {},
   "outputs": [],
   "source": [
    "# We can also find the smallest numbers by using the .nsmallest() method.\n",
    "bond.nsmallest(n = 2, columns = \"Box Office\")"
   ]
  },
  {
   "cell_type": "code",
   "execution_count": null,
   "id": "a756f956",
   "metadata": {},
   "outputs": [],
   "source": [
    "bond.nlargest(3, columns = \"Budget\")\n",
    "bond.nsmallest(n = 6, columns = \"Bond Actor Salary\")"
   ]
  },
  {
   "cell_type": "code",
   "execution_count": null,
   "id": "33d3a952",
   "metadata": {},
   "outputs": [],
   "source": [
    "# These methods can also be called directly on a Series.\n",
    "bond[\"Box Office\"].nlargest(8)\n",
    "bond[\"Year\"].nsmallest(2)"
   ]
  },
  {
   "cell_type": "markdown",
   "id": "b7b38831",
   "metadata": {},
   "source": [
    "# Filtering a DataFrame with the <code>.where()</code> Method"
   ]
  },
  {
   "cell_type": "code",
   "execution_count": null,
   "id": "b8aee436",
   "metadata": {},
   "outputs": [],
   "source": [
    "bond = (\n",
    "    pd.read_csv(\"C:/Users/Maverick/Documents/git/Data-Analysis-With-Pandas-And-Python/datasets/jamesbond.csv\",\n",
    "    index_col = \"Film\")\n",
    ")\n",
    "\n",
    "bond.sort_index(inplace = True)\n",
    "bond.head(3)"
   ]
  },
  {
   "cell_type": "code",
   "execution_count": null,
   "id": "3dbfa057",
   "metadata": {},
   "outputs": [],
   "source": [
    "mask = bond[\"Actor\"] == \"Sean Connery\"\n",
    "bond[mask]"
   ]
  },
  {
   "cell_type": "code",
   "execution_count": null,
   "id": "470a0175",
   "metadata": {},
   "outputs": [],
   "source": [
    "# Returns the entire DataFrame with valid values related to our condition.\n",
    "# Everthing else will be filled in with NaN.\n",
    "bond.where(mask)"
   ]
  },
  {
   "cell_type": "code",
   "execution_count": null,
   "id": "7a406cc2",
   "metadata": {},
   "outputs": [],
   "source": [
    "bond.where(bond[\"Box Office\"] > 800)"
   ]
  },
  {
   "cell_type": "code",
   "execution_count": null,
   "id": "f187707f",
   "metadata": {},
   "outputs": [],
   "source": [
    "mask2 = bond[\"Box Office\"] > 800\n",
    "bond.where(mask & mask2)"
   ]
  },
  {
   "cell_type": "markdown",
   "id": "21643647",
   "metadata": {},
   "source": [
    "# Filtering a DataFrame with the <code>.query()</code> Method"
   ]
  },
  {
   "cell_type": "code",
   "execution_count": null,
   "id": "581026ce",
   "metadata": {},
   "outputs": [],
   "source": [
    "bond = (\n",
    "    pd.read_csv(\"C:/Users/Maverick/Documents/git/Data-Analysis-With-Pandas-And-Python/datasets/jamesbond.csv\",\n",
    "    index_col = \"Film\")\n",
    ")\n",
    "\n",
    "bond.sort_index(inplace = True)\n",
    "bond.head(3)"
   ]
  },
  {
   "cell_type": "code",
   "execution_count": null,
   "id": "b677a27a",
   "metadata": {},
   "outputs": [],
   "source": [
    "# The .query() method doesn't like space in column names.\n",
    "bond.columns = [column_name.replace(\" \", \"_\") for column_name in bond.columns]\n",
    "bond.head(1)"
   ]
  },
  {
   "cell_type": "code",
   "execution_count": null,
   "id": "27ab1fef",
   "metadata": {},
   "outputs": [],
   "source": [
    "bond.query('Actor == \"Sean Connery\"')\n",
    "bond.query(\"Director == 'Terence Young'\")\n",
    "bond.query(\"Actor != 'Roger Moore'\")"
   ]
  },
  {
   "cell_type": "code",
   "execution_count": null,
   "id": "ea63823f",
   "metadata": {},
   "outputs": [],
   "source": [
    "bond.query(\"Box_Office > 600\")\n",
    "bond.query(\"Actor == 'Roger Moore' and Director == 'John Glen'\")\n",
    "bond.query(\"Actor == 'Roger Moore' or Director == 'John Glen'\")"
   ]
  },
  {
   "cell_type": "code",
   "execution_count": null,
   "id": "7caf71a9",
   "metadata": {},
   "outputs": [],
   "source": [
    "# The .query() method supports in and not in as well.\n",
    "bond.query(\"Actor in ['Timothy Dalton', 'George Lazenby']\")\n",
    "bond.query(\"Actor not in ['Sean Connery', 'Roger Moore']\")"
   ]
  },
  {
   "cell_type": "markdown",
   "id": "4738d8bc",
   "metadata": {},
   "source": [
    "# A Review of the <code>.apply()</code> Method on Single Columns"
   ]
  },
  {
   "cell_type": "code",
   "execution_count": null,
   "id": "a45f3fb9",
   "metadata": {},
   "outputs": [],
   "source": [
    "bond = (\n",
    "    pd.read_csv(\"C:/Users/Maverick/Documents/git/Data-Analysis-With-Pandas-And-Python/datasets/jamesbond.csv\",\n",
    "    index_col = \"Film\")\n",
    ")\n",
    "\n",
    "bond.sort_index(inplace = True)\n",
    "bond.head(3)"
   ]
  },
  {
   "cell_type": "code",
   "execution_count": null,
   "id": "7f08a6af",
   "metadata": {},
   "outputs": [],
   "source": [
    "def convert_to_string_and_add_millions(number):\n",
    "    return str(number) + \" MILLIONS!\"\n",
    "\n",
    "bond[\"Box Office\"] = bond[\"Box Office\"].apply(convert_to_string_and_add_millions)\n",
    "bond[\"Budget\"] = bond[\"Budget\"].apply(convert_to_string_and_add_millions)"
   ]
  },
  {
   "cell_type": "code",
   "execution_count": null,
   "id": "4c023d92",
   "metadata": {},
   "outputs": [],
   "source": [
    "bond = (\n",
    "    pd.read_csv(\"C:/Users/Maverick/Documents/git/Data-Analysis-With-Pandas-And-Python/datasets/jamesbond.csv\",\n",
    "    index_col = \"Film\")\n",
    ")\n",
    "\n",
    "bond.sort_index(inplace = True)\n",
    "bond.head(3)"
   ]
  },
  {
   "cell_type": "code",
   "execution_count": null,
   "id": "9b7da945",
   "metadata": {},
   "outputs": [],
   "source": [
    "columns = [\"Box Office\", \"Budget\", \"Bond Actor Salary\"]\n",
    "\n",
    "for col in columns:\n",
    "    bond[col] = bond[col].apply(convert_to_string_and_add_millions)"
   ]
  },
  {
   "cell_type": "code",
   "execution_count": null,
   "id": "9336911b",
   "metadata": {},
   "outputs": [],
   "source": [
    "bond.head(3)"
   ]
  },
  {
   "cell_type": "markdown",
   "id": "9131a26b",
   "metadata": {},
   "source": [
    "# The <code>.apply()</code> Method with Row Values"
   ]
  },
  {
   "cell_type": "code",
   "execution_count": null,
   "id": "84c7b8af",
   "metadata": {},
   "outputs": [],
   "source": [
    "bond = (\n",
    "    pd.read_csv(\"C:/Users/Maverick/Documents/git/Data-Analysis-With-Pandas-And-Python/datasets/jamesbond.csv\",\n",
    "    index_col = \"Film\")\n",
    ")\n",
    "\n",
    "bond.sort_index(inplace = True)\n",
    "bond.head(3)"
   ]
  },
  {
   "cell_type": "code",
   "execution_count": null,
   "id": "d1a6613d",
   "metadata": {},
   "outputs": [],
   "source": [
    "def good_movie(row):\n",
    "    actor = row[1]\n",
    "    budget = row[4]\n",
    "    \n",
    "    if actor == \"Pierce Brosnan\":\n",
    "        return \"The Best\"\n",
    "    elif actor == \"Roger Moore\" and budget > 40:\n",
    "        return \"Enjoyable\"\n",
    "    else:\n",
    "        return \"I Have No Clue\"\n",
    "\n",
    "# Can be confusing, axis is \"columns\" because we are moving horizontally per row.\n",
    "bond.apply(good_movie, axis = \"columns\")"
   ]
  },
  {
   "cell_type": "markdown",
   "id": "46270b1d",
   "metadata": {},
   "source": [
    "# The <code>.copy()</code> Method"
   ]
  },
  {
   "cell_type": "code",
   "execution_count": null,
   "id": "2657c371",
   "metadata": {},
   "outputs": [],
   "source": [
    "bond = (\n",
    "    pd.read_csv(\"C:/Users/Maverick/Documents/git/Data-Analysis-With-Pandas-And-Python/datasets/jamesbond.csv\",\n",
    "    index_col = \"Film\")\n",
    ")\n",
    "\n",
    "bond.sort_index(inplace = True)\n",
    "bond.head(3)"
   ]
  },
  {
   "cell_type": "code",
   "execution_count": null,
   "id": "f2113509",
   "metadata": {},
   "outputs": [],
   "source": [
    "directors = bond[\"Director\"].copy()\n",
    "directors.head(3)"
   ]
  },
  {
   "cell_type": "code",
   "execution_count": null,
   "id": "1337a71d",
   "metadata": {},
   "outputs": [],
   "source": [
    "directors[\"A View to a Kill\"] = \"Mister John Glen\""
   ]
  },
  {
   "cell_type": "code",
   "execution_count": null,
   "id": "a84eae53",
   "metadata": {},
   "outputs": [],
   "source": [
    "directors.head(3)"
   ]
  },
  {
   "cell_type": "code",
   "execution_count": null,
   "id": "afbb035b",
   "metadata": {},
   "outputs": [],
   "source": [
    "bond.head(3)"
   ]
  }
 ],
 "metadata": {
  "kernelspec": {
   "display_name": "Python 3 (ipykernel)",
   "language": "python",
   "name": "python3"
  },
  "language_info": {
   "codemirror_mode": {
    "name": "ipython",
    "version": 3
   },
   "file_extension": ".py",
   "mimetype": "text/x-python",
   "name": "python",
   "nbconvert_exporter": "python",
   "pygments_lexer": "ipython3",
   "version": "3.10.4"
  }
 },
 "nbformat": 4,
 "nbformat_minor": 5
}
